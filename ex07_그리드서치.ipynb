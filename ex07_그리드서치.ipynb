{
 "cells": [
  {
   "cell_type": "code",
   "execution_count": 29,
   "id": "fb678b4a",
   "metadata": {
    "ExecuteTime": {
     "end_time": "2023-02-08T06:28:11.634136Z",
     "start_time": "2023-02-08T06:28:11.619153Z"
    }
   },
   "outputs": [],
   "source": [
    "import numpy as np\n",
    "import pandas as pd\n",
    "import matplotlib.pyplot as plt\n",
    "\n",
    "# KNN모델\n",
    "from sklearn.neighbors import KNeighborsClassifier\n",
    "# 결정트리 모델\n",
    "from sklearn.tree import DecisionTreeClassifier\n",
    "# 랜덤포레스트 모델\n",
    "from sklearn.ensemble import RandomForestClassifier\n",
    "\n",
    "# iris 데이터\n",
    "from sklearn.datasets import load_iris\n",
    "from sklearn.model_selection import train_test_split\n",
    "\n",
    "# 그리드 서치\n",
    "from sklearn.model_selection import GridSearchCV"
   ]
  },
  {
   "cell_type": "code",
   "execution_count": 30,
   "id": "210df0f6",
   "metadata": {
    "ExecuteTime": {
     "end_time": "2023-02-08T06:28:11.648974Z",
     "start_time": "2023-02-08T06:28:11.635595Z"
    }
   },
   "outputs": [],
   "source": [
    "iris = load_iris()\n",
    "\n",
    "X_train, X_test, y_train, y_test = train_test_split(iris['data'],\n",
    "                                                   iris['target'],\n",
    "                                                   test_size = 0.3,\n",
    "                                                   random_state = 3)"
   ]
  },
  {
   "cell_type": "code",
   "execution_count": 31,
   "id": "16b100ab",
   "metadata": {
    "ExecuteTime": {
     "end_time": "2023-02-08T06:28:11.664128Z",
     "start_time": "2023-02-08T06:28:11.649966Z"
    }
   },
   "outputs": [
    {
     "data": {
      "text/plain": [
       "((105, 4), (105,), (45, 4), (45,))"
      ]
     },
     "execution_count": 31,
     "metadata": {},
     "output_type": "execute_result"
    }
   ],
   "source": [
    "X_train.shape, y_train.shape, X_test.shape, y_test.shape"
   ]
  },
  {
   "cell_type": "markdown",
   "id": "6501e7bb",
   "metadata": {},
   "source": [
    "### KNN모델에 그리드 서치 적용"
   ]
  },
  {
   "cell_type": "code",
   "execution_count": 32,
   "id": "bacd79f2",
   "metadata": {
    "ExecuteTime": {
     "end_time": "2023-02-08T06:28:11.679385Z",
     "start_time": "2023-02-08T06:28:11.665646Z"
    }
   },
   "outputs": [],
   "source": [
    "# 경고 라이브러리 (안보이게 하는 방법)\n",
    "import warnings\n",
    "warnings.filterwarnings('ignore')"
   ]
  },
  {
   "cell_type": "code",
   "execution_count": 33,
   "id": "bc5267fb",
   "metadata": {
    "ExecuteTime": {
     "end_time": "2023-02-08T06:28:11.694708Z",
     "start_time": "2023-02-08T06:28:11.680893Z"
    }
   },
   "outputs": [],
   "source": [
    "param_knn = {\"n_neighbors\":range(1,10,1)}\n",
    "\n",
    "# GridSearchCV(모델, 하이퍼파라미터 및 범위, 교차검증 수)\n",
    "grid_search_knn = GridSearchCV(KNeighborsClassifier(), param_knn, cv = 10)"
   ]
  },
  {
   "cell_type": "code",
   "execution_count": 34,
   "id": "9fb4a330",
   "metadata": {
    "ExecuteTime": {
     "end_time": "2023-02-08T06:28:11.801859Z",
     "start_time": "2023-02-08T06:28:11.696695Z"
    }
   },
   "outputs": [
    {
     "data": {
      "text/plain": [
       "GridSearchCV(cv=10, estimator=KNeighborsClassifier(),\n",
       "             param_grid={'n_neighbors': range(1, 10)})"
      ]
     },
     "execution_count": 34,
     "metadata": {},
     "output_type": "execute_result"
    }
   ],
   "source": [
    "grid_search_knn.fit(X_train,y_train)"
   ]
  },
  {
   "cell_type": "code",
   "execution_count": 35,
   "id": "5f3b992b",
   "metadata": {
    "ExecuteTime": {
     "end_time": "2023-02-08T06:28:11.816851Z",
     "start_time": "2023-02-08T06:28:11.802855Z"
    }
   },
   "outputs": [
    {
     "name": "stdout",
     "output_type": "stream",
     "text": [
      "최적의 하이퍼 파라미터 :  {'n_neighbors': 9}\n",
      "최고 교차 검증 점수(정확도) :  0.970909090909091\n",
      "최고 성능 모델 :  KNeighborsClassifier(n_neighbors=9)\n"
     ]
    }
   ],
   "source": [
    "print(\"최적의 하이퍼 파라미터 : \", grid_search_knn.best_params_)\n",
    "print(\"최고 교차 검증 점수(정확도) : \", grid_search_knn.best_score_)\n",
    "# 최고 성능 모델은 grid_search_knn 객체에 저장되어 있기 때문에 쓰지 않아도 됨.\n",
    "print(\"최고 성능 모델 : \", grid_search_knn.best_estimator_)"
   ]
  },
  {
   "cell_type": "code",
   "execution_count": 36,
   "id": "4000062a",
   "metadata": {
    "ExecuteTime": {
     "end_time": "2023-02-08T06:28:11.831862Z",
     "start_time": "2023-02-08T06:28:11.817964Z"
    }
   },
   "outputs": [
    {
     "data": {
      "text/plain": [
       "0.9777777777777777"
      ]
     },
     "execution_count": 36,
     "metadata": {},
     "output_type": "execute_result"
    }
   ],
   "source": [
    "grid_search_knn.score(X_test,y_test)"
   ]
  },
  {
   "cell_type": "markdown",
   "id": "c32a78ca",
   "metadata": {},
   "source": [
    "### 디시전트리 모델에 그리드 서치 적용\n",
    "- max_depth 범위 : range(1,5,1)\n",
    "- max_leaf_nodes 범위 : range(1,50,10)\n",
    "- min_samples_leaf 범위 : range(1,150,10) "
   ]
  },
  {
   "cell_type": "code",
   "execution_count": 37,
   "id": "4debc220",
   "metadata": {
    "ExecuteTime": {
     "end_time": "2023-02-08T06:28:11.847332Z",
     "start_time": "2023-02-08T06:28:11.832879Z"
    }
   },
   "outputs": [],
   "source": [
    "param_deci = {\"max_depth\":range(1,5,1),\n",
    "              \"max_leaf_nodes\":range(1,50,10),\n",
    "              \"min_samples_leaf\":range(1,150,10)}\n",
    "grid_search_deci = GridSearchCV(DecisionTreeClassifier(), param_deci, cv = 10)"
   ]
  },
  {
   "cell_type": "code",
   "execution_count": 38,
   "id": "d30de0f1",
   "metadata": {
    "ExecuteTime": {
     "end_time": "2023-02-08T06:28:13.397210Z",
     "start_time": "2023-02-08T06:28:11.849981Z"
    }
   },
   "outputs": [
    {
     "data": {
      "text/plain": [
       "GridSearchCV(cv=10, estimator=DecisionTreeClassifier(),\n",
       "             param_grid={'max_depth': range(1, 5),\n",
       "                         'max_leaf_nodes': range(1, 50, 10),\n",
       "                         'min_samples_leaf': range(1, 150, 10)})"
      ]
     },
     "execution_count": 38,
     "metadata": {},
     "output_type": "execute_result"
    }
   ],
   "source": [
    "grid_search_deci.fit(X_train,y_train)"
   ]
  },
  {
   "cell_type": "code",
   "execution_count": 39,
   "id": "63b85fcf",
   "metadata": {
    "ExecuteTime": {
     "end_time": "2023-02-08T06:28:13.412296Z",
     "start_time": "2023-02-08T06:28:13.398215Z"
    }
   },
   "outputs": [
    {
     "name": "stdout",
     "output_type": "stream",
     "text": [
      "최적의 하이퍼 파라미터 :  {'max_depth': 4, 'max_leaf_nodes': 11, 'min_samples_leaf': 1}\n",
      "최고 교차 검증 점수(정확도) :  0.9427272727272727\n",
      "최고 성능 모델 :  DecisionTreeClassifier(max_depth=4, max_leaf_nodes=11)\n"
     ]
    }
   ],
   "source": [
    "print(\"최적의 하이퍼 파라미터 : \", grid_search_deci.best_params_)\n",
    "print(\"최고 교차 검증 점수(정확도) : \", grid_search_deci.best_score_)\n",
    "# 최고 성능 모델은 grid_search_deci 객체에 저장되어 있기 때문에 쓰지 않아도 됨.\n",
    "print(\"최고 성능 모델 : \", grid_search_deci.best_estimator_)"
   ]
  },
  {
   "cell_type": "markdown",
   "id": "55f586ab",
   "metadata": {},
   "source": [
    "### 랜덤 포레스트 모델에 그리드 서치 적용\n",
    "- n_estimators : range(1,20,5)"
   ]
  },
  {
   "cell_type": "code",
   "execution_count": 40,
   "id": "c1c2af8d",
   "metadata": {
    "ExecuteTime": {
     "end_time": "2023-02-08T06:28:54.291087Z",
     "start_time": "2023-02-08T06:28:54.244482Z"
    }
   },
   "outputs": [],
   "source": [
    "RandomForestClassifier?"
   ]
  },
  {
   "cell_type": "code",
   "execution_count": null,
   "id": "111158ed",
   "metadata": {},
   "outputs": [],
   "source": []
  },
  {
   "cell_type": "code",
   "execution_count": null,
   "id": "15304b30",
   "metadata": {},
   "outputs": [],
   "source": []
  },
  {
   "cell_type": "code",
   "execution_count": null,
   "id": "f7bdf1dc",
   "metadata": {},
   "outputs": [],
   "source": []
  },
  {
   "cell_type": "code",
   "execution_count": null,
   "id": "a4ec0e32",
   "metadata": {},
   "outputs": [],
   "source": []
  },
  {
   "cell_type": "code",
   "execution_count": null,
   "id": "05498a46",
   "metadata": {},
   "outputs": [],
   "source": []
  },
  {
   "cell_type": "code",
   "execution_count": null,
   "id": "97c647bd",
   "metadata": {},
   "outputs": [],
   "source": []
  },
  {
   "cell_type": "code",
   "execution_count": null,
   "id": "48b7b75e",
   "metadata": {},
   "outputs": [],
   "source": []
  },
  {
   "cell_type": "code",
   "execution_count": null,
   "id": "68f14c6a",
   "metadata": {},
   "outputs": [],
   "source": []
  },
  {
   "cell_type": "code",
   "execution_count": null,
   "id": "9c220098",
   "metadata": {},
   "outputs": [],
   "source": []
  },
  {
   "cell_type": "code",
   "execution_count": null,
   "id": "b784e9f5",
   "metadata": {},
   "outputs": [],
   "source": []
  },
  {
   "cell_type": "code",
   "execution_count": null,
   "id": "f6ad36fc",
   "metadata": {},
   "outputs": [],
   "source": []
  },
  {
   "cell_type": "code",
   "execution_count": null,
   "id": "9e0be12b",
   "metadata": {},
   "outputs": [],
   "source": []
  }
 ],
 "metadata": {
  "kernelspec": {
   "display_name": "Python 3 (ipykernel)",
   "language": "python",
   "name": "python3"
  },
  "language_info": {
   "codemirror_mode": {
    "name": "ipython",
    "version": 3
   },
   "file_extension": ".py",
   "mimetype": "text/x-python",
   "name": "python",
   "nbconvert_exporter": "python",
   "pygments_lexer": "ipython3",
   "version": "3.9.13"
  },
  "toc": {
   "base_numbering": 1,
   "nav_menu": {},
   "number_sections": true,
   "sideBar": true,
   "skip_h1_title": false,
   "title_cell": "Table of Contents",
   "title_sidebar": "Contents",
   "toc_cell": false,
   "toc_position": {},
   "toc_section_display": true,
   "toc_window_display": false
  }
 },
 "nbformat": 4,
 "nbformat_minor": 5
}
