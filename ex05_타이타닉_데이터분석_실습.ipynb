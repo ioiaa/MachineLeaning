{
 "cells": [
  {
   "cell_type": "markdown",
   "id": "15819bb9",
   "metadata": {},
   "source": [
    "### 학습 목표\n",
    "- KAGGLE 경진대회에서 높은 순위를 차지하는 것!!!\n",
    "- 탑승객의 정보를 바탕으로 생존/사망자 예측\n",
    "- 머신러닝 학습의 전체 과정에 대한 실습\n",
    "    - 문제 정의\n",
    "    - 데이터 수집\n",
    "    - 탐색적 데이터 분석(EDA) - 데이터를 알아보는 것\n",
    "    - 데이터 전처리\n",
    "        - 오타 수정, 결측치/이상치 처리\n",
    "        - encoding(인코딩) - 범주형 -> 수치형 으로 바꿔줌\n",
    "        - bining(그룹핑) - 수치형 -> 범주형 으로 바꿔줌\n",
    "        - 정규화/scaling - 값들을 일정 범위로 축소하는 과정 (분산을 줄이는 과정)\n",
    "        - 편향 제거 \n",
    "    - 모델 선택 및 학습\n",
    "        - 모델 생성\n",
    "        - 특성 선택\n",
    "        - 하이퍼 파라미터 튜닝(매개변수 조절)\n",
    "        - 훈련데이터와 평가데이터로 분리 - 과소적합/과대적합 유무 확인\n",
    "            - 과소적합 : 둘 다 정확도가 낮으면 과소적합\n",
    "                - 특성이 너무 적어서, 데이터가 너무 적어서, 학습이 너무 적어서\n",
    "            - 과대적합 : 훈련과 테스트의 차이가 큰 것, 훈련데이터의 정확도가 더 높음\n",
    "                - 특성이 너무 많아서, 데이터가 너무 적어서, 학습을 너무 많이 해서\n",
    "    - 평가 : 생성된 모델을 validation 데이터(새로운 데이터)로 평가"
   ]
  },
  {
   "cell_type": "markdown",
   "id": "12977dcd",
   "metadata": {},
   "source": [
    "### 문제정의\n",
    "- 머신러닝의 전체과정을 실습\n",
    "- 타이타닉 데이터에 포함된 데이터의 의미를 분석\n",
    "- 테스트 데이터로 생존/사망 예측"
   ]
  },
  {
   "cell_type": "markdown",
   "id": "e49e6808",
   "metadata": {},
   "source": [
    "### 데이터 수집"
   ]
  },
  {
   "cell_type": "code",
   "execution_count": 1,
   "id": "93dd61f0",
   "metadata": {
    "ExecuteTime": {
     "end_time": "2023-02-07T06:35:17.858660Z",
     "start_time": "2023-02-07T06:35:17.090093Z"
    }
   },
   "outputs": [],
   "source": [
    "import pandas as pd\n",
    "\n",
    "train = pd.read_csv(\"./data/titanic_train.csv\", index_col=\"PassengerId\") \n",
    "test = pd.read_csv(\"./data/titanic_test.csv\",index_col=\"PassengerId\") "
   ]
  },
  {
   "cell_type": "markdown",
   "id": "d8168d17",
   "metadata": {},
   "source": [
    "### 탐색적 데이터 분석 - 데이터 확인"
   ]
  },
  {
   "cell_type": "code",
   "execution_count": 2,
   "id": "d88f80e3",
   "metadata": {
    "ExecuteTime": {
     "end_time": "2023-02-07T06:35:17.888936Z",
     "start_time": "2023-02-07T06:35:17.860503Z"
    }
   },
   "outputs": [
    {
     "data": {
      "text/html": [
       "<div>\n",
       "<style scoped>\n",
       "    .dataframe tbody tr th:only-of-type {\n",
       "        vertical-align: middle;\n",
       "    }\n",
       "\n",
       "    .dataframe tbody tr th {\n",
       "        vertical-align: top;\n",
       "    }\n",
       "\n",
       "    .dataframe thead th {\n",
       "        text-align: right;\n",
       "    }\n",
       "</style>\n",
       "<table border=\"1\" class=\"dataframe\">\n",
       "  <thead>\n",
       "    <tr style=\"text-align: right;\">\n",
       "      <th></th>\n",
       "      <th>Survived</th>\n",
       "      <th>Pclass</th>\n",
       "      <th>Name</th>\n",
       "      <th>Sex</th>\n",
       "      <th>Age</th>\n",
       "      <th>SibSp</th>\n",
       "      <th>Parch</th>\n",
       "      <th>Ticket</th>\n",
       "      <th>Fare</th>\n",
       "      <th>Cabin</th>\n",
       "      <th>Embarked</th>\n",
       "    </tr>\n",
       "    <tr>\n",
       "      <th>PassengerId</th>\n",
       "      <th></th>\n",
       "      <th></th>\n",
       "      <th></th>\n",
       "      <th></th>\n",
       "      <th></th>\n",
       "      <th></th>\n",
       "      <th></th>\n",
       "      <th></th>\n",
       "      <th></th>\n",
       "      <th></th>\n",
       "      <th></th>\n",
       "    </tr>\n",
       "  </thead>\n",
       "  <tbody>\n",
       "    <tr>\n",
       "      <th>1</th>\n",
       "      <td>0</td>\n",
       "      <td>3</td>\n",
       "      <td>Braund, Mr. Owen Harris</td>\n",
       "      <td>male</td>\n",
       "      <td>22.0</td>\n",
       "      <td>1</td>\n",
       "      <td>0</td>\n",
       "      <td>A/5 21171</td>\n",
       "      <td>7.2500</td>\n",
       "      <td>NaN</td>\n",
       "      <td>S</td>\n",
       "    </tr>\n",
       "    <tr>\n",
       "      <th>2</th>\n",
       "      <td>1</td>\n",
       "      <td>1</td>\n",
       "      <td>Cumings, Mrs. John Bradley (Florence Briggs Th...</td>\n",
       "      <td>female</td>\n",
       "      <td>38.0</td>\n",
       "      <td>1</td>\n",
       "      <td>0</td>\n",
       "      <td>PC 17599</td>\n",
       "      <td>71.2833</td>\n",
       "      <td>C85</td>\n",
       "      <td>C</td>\n",
       "    </tr>\n",
       "    <tr>\n",
       "      <th>3</th>\n",
       "      <td>1</td>\n",
       "      <td>3</td>\n",
       "      <td>Heikkinen, Miss. Laina</td>\n",
       "      <td>female</td>\n",
       "      <td>26.0</td>\n",
       "      <td>0</td>\n",
       "      <td>0</td>\n",
       "      <td>STON/O2. 3101282</td>\n",
       "      <td>7.9250</td>\n",
       "      <td>NaN</td>\n",
       "      <td>S</td>\n",
       "    </tr>\n",
       "    <tr>\n",
       "      <th>4</th>\n",
       "      <td>1</td>\n",
       "      <td>1</td>\n",
       "      <td>Futrelle, Mrs. Jacques Heath (Lily May Peel)</td>\n",
       "      <td>female</td>\n",
       "      <td>35.0</td>\n",
       "      <td>1</td>\n",
       "      <td>0</td>\n",
       "      <td>113803</td>\n",
       "      <td>53.1000</td>\n",
       "      <td>C123</td>\n",
       "      <td>S</td>\n",
       "    </tr>\n",
       "    <tr>\n",
       "      <th>5</th>\n",
       "      <td>0</td>\n",
       "      <td>3</td>\n",
       "      <td>Allen, Mr. William Henry</td>\n",
       "      <td>male</td>\n",
       "      <td>35.0</td>\n",
       "      <td>0</td>\n",
       "      <td>0</td>\n",
       "      <td>373450</td>\n",
       "      <td>8.0500</td>\n",
       "      <td>NaN</td>\n",
       "      <td>S</td>\n",
       "    </tr>\n",
       "    <tr>\n",
       "      <th>6</th>\n",
       "      <td>0</td>\n",
       "      <td>3</td>\n",
       "      <td>Moran, Mr. James</td>\n",
       "      <td>male</td>\n",
       "      <td>NaN</td>\n",
       "      <td>0</td>\n",
       "      <td>0</td>\n",
       "      <td>330877</td>\n",
       "      <td>8.4583</td>\n",
       "      <td>NaN</td>\n",
       "      <td>Q</td>\n",
       "    </tr>\n",
       "    <tr>\n",
       "      <th>7</th>\n",
       "      <td>0</td>\n",
       "      <td>1</td>\n",
       "      <td>McCarthy, Mr. Timothy J</td>\n",
       "      <td>male</td>\n",
       "      <td>54.0</td>\n",
       "      <td>0</td>\n",
       "      <td>0</td>\n",
       "      <td>17463</td>\n",
       "      <td>51.8625</td>\n",
       "      <td>E46</td>\n",
       "      <td>S</td>\n",
       "    </tr>\n",
       "    <tr>\n",
       "      <th>8</th>\n",
       "      <td>0</td>\n",
       "      <td>3</td>\n",
       "      <td>Palsson, Master. Gosta Leonard</td>\n",
       "      <td>male</td>\n",
       "      <td>2.0</td>\n",
       "      <td>3</td>\n",
       "      <td>1</td>\n",
       "      <td>349909</td>\n",
       "      <td>21.0750</td>\n",
       "      <td>NaN</td>\n",
       "      <td>S</td>\n",
       "    </tr>\n",
       "    <tr>\n",
       "      <th>9</th>\n",
       "      <td>1</td>\n",
       "      <td>3</td>\n",
       "      <td>Johnson, Mrs. Oscar W (Elisabeth Vilhelmina Berg)</td>\n",
       "      <td>female</td>\n",
       "      <td>27.0</td>\n",
       "      <td>0</td>\n",
       "      <td>2</td>\n",
       "      <td>347742</td>\n",
       "      <td>11.1333</td>\n",
       "      <td>NaN</td>\n",
       "      <td>S</td>\n",
       "    </tr>\n",
       "    <tr>\n",
       "      <th>10</th>\n",
       "      <td>1</td>\n",
       "      <td>2</td>\n",
       "      <td>Nasser, Mrs. Nicholas (Adele Achem)</td>\n",
       "      <td>female</td>\n",
       "      <td>14.0</td>\n",
       "      <td>1</td>\n",
       "      <td>0</td>\n",
       "      <td>237736</td>\n",
       "      <td>30.0708</td>\n",
       "      <td>NaN</td>\n",
       "      <td>C</td>\n",
       "    </tr>\n",
       "    <tr>\n",
       "      <th>11</th>\n",
       "      <td>1</td>\n",
       "      <td>3</td>\n",
       "      <td>Sandstrom, Miss. Marguerite Rut</td>\n",
       "      <td>female</td>\n",
       "      <td>4.0</td>\n",
       "      <td>1</td>\n",
       "      <td>1</td>\n",
       "      <td>PP 9549</td>\n",
       "      <td>16.7000</td>\n",
       "      <td>G6</td>\n",
       "      <td>S</td>\n",
       "    </tr>\n",
       "    <tr>\n",
       "      <th>12</th>\n",
       "      <td>1</td>\n",
       "      <td>1</td>\n",
       "      <td>Bonnell, Miss. Elizabeth</td>\n",
       "      <td>female</td>\n",
       "      <td>58.0</td>\n",
       "      <td>0</td>\n",
       "      <td>0</td>\n",
       "      <td>113783</td>\n",
       "      <td>26.5500</td>\n",
       "      <td>C103</td>\n",
       "      <td>S</td>\n",
       "    </tr>\n",
       "    <tr>\n",
       "      <th>13</th>\n",
       "      <td>0</td>\n",
       "      <td>3</td>\n",
       "      <td>Saundercock, Mr. William Henry</td>\n",
       "      <td>male</td>\n",
       "      <td>20.0</td>\n",
       "      <td>0</td>\n",
       "      <td>0</td>\n",
       "      <td>A/5. 2151</td>\n",
       "      <td>8.0500</td>\n",
       "      <td>NaN</td>\n",
       "      <td>S</td>\n",
       "    </tr>\n",
       "    <tr>\n",
       "      <th>14</th>\n",
       "      <td>0</td>\n",
       "      <td>3</td>\n",
       "      <td>Andersson, Mr. Anders Johan</td>\n",
       "      <td>male</td>\n",
       "      <td>39.0</td>\n",
       "      <td>1</td>\n",
       "      <td>5</td>\n",
       "      <td>347082</td>\n",
       "      <td>31.2750</td>\n",
       "      <td>NaN</td>\n",
       "      <td>S</td>\n",
       "    </tr>\n",
       "    <tr>\n",
       "      <th>15</th>\n",
       "      <td>0</td>\n",
       "      <td>3</td>\n",
       "      <td>Vestrom, Miss. Hulda Amanda Adolfina</td>\n",
       "      <td>female</td>\n",
       "      <td>14.0</td>\n",
       "      <td>0</td>\n",
       "      <td>0</td>\n",
       "      <td>350406</td>\n",
       "      <td>7.8542</td>\n",
       "      <td>NaN</td>\n",
       "      <td>S</td>\n",
       "    </tr>\n",
       "    <tr>\n",
       "      <th>16</th>\n",
       "      <td>1</td>\n",
       "      <td>2</td>\n",
       "      <td>Hewlett, Mrs. (Mary D Kingcome)</td>\n",
       "      <td>female</td>\n",
       "      <td>55.0</td>\n",
       "      <td>0</td>\n",
       "      <td>0</td>\n",
       "      <td>248706</td>\n",
       "      <td>16.0000</td>\n",
       "      <td>NaN</td>\n",
       "      <td>S</td>\n",
       "    </tr>\n",
       "    <tr>\n",
       "      <th>17</th>\n",
       "      <td>0</td>\n",
       "      <td>3</td>\n",
       "      <td>Rice, Master. Eugene</td>\n",
       "      <td>male</td>\n",
       "      <td>2.0</td>\n",
       "      <td>4</td>\n",
       "      <td>1</td>\n",
       "      <td>382652</td>\n",
       "      <td>29.1250</td>\n",
       "      <td>NaN</td>\n",
       "      <td>Q</td>\n",
       "    </tr>\n",
       "    <tr>\n",
       "      <th>18</th>\n",
       "      <td>1</td>\n",
       "      <td>2</td>\n",
       "      <td>Williams, Mr. Charles Eugene</td>\n",
       "      <td>male</td>\n",
       "      <td>NaN</td>\n",
       "      <td>0</td>\n",
       "      <td>0</td>\n",
       "      <td>244373</td>\n",
       "      <td>13.0000</td>\n",
       "      <td>NaN</td>\n",
       "      <td>S</td>\n",
       "    </tr>\n",
       "    <tr>\n",
       "      <th>19</th>\n",
       "      <td>0</td>\n",
       "      <td>3</td>\n",
       "      <td>Vander Planke, Mrs. Julius (Emelia Maria Vande...</td>\n",
       "      <td>female</td>\n",
       "      <td>31.0</td>\n",
       "      <td>1</td>\n",
       "      <td>0</td>\n",
       "      <td>345763</td>\n",
       "      <td>18.0000</td>\n",
       "      <td>NaN</td>\n",
       "      <td>S</td>\n",
       "    </tr>\n",
       "    <tr>\n",
       "      <th>20</th>\n",
       "      <td>1</td>\n",
       "      <td>3</td>\n",
       "      <td>Masselmani, Mrs. Fatima</td>\n",
       "      <td>female</td>\n",
       "      <td>NaN</td>\n",
       "      <td>0</td>\n",
       "      <td>0</td>\n",
       "      <td>2649</td>\n",
       "      <td>7.2250</td>\n",
       "      <td>NaN</td>\n",
       "      <td>C</td>\n",
       "    </tr>\n",
       "  </tbody>\n",
       "</table>\n",
       "</div>"
      ],
      "text/plain": [
       "             Survived  Pclass  \\\n",
       "PassengerId                     \n",
       "1                   0       3   \n",
       "2                   1       1   \n",
       "3                   1       3   \n",
       "4                   1       1   \n",
       "5                   0       3   \n",
       "6                   0       3   \n",
       "7                   0       1   \n",
       "8                   0       3   \n",
       "9                   1       3   \n",
       "10                  1       2   \n",
       "11                  1       3   \n",
       "12                  1       1   \n",
       "13                  0       3   \n",
       "14                  0       3   \n",
       "15                  0       3   \n",
       "16                  1       2   \n",
       "17                  0       3   \n",
       "18                  1       2   \n",
       "19                  0       3   \n",
       "20                  1       3   \n",
       "\n",
       "                                                          Name     Sex   Age  \\\n",
       "PassengerId                                                                    \n",
       "1                                      Braund, Mr. Owen Harris    male  22.0   \n",
       "2            Cumings, Mrs. John Bradley (Florence Briggs Th...  female  38.0   \n",
       "3                                       Heikkinen, Miss. Laina  female  26.0   \n",
       "4                 Futrelle, Mrs. Jacques Heath (Lily May Peel)  female  35.0   \n",
       "5                                     Allen, Mr. William Henry    male  35.0   \n",
       "6                                             Moran, Mr. James    male   NaN   \n",
       "7                                      McCarthy, Mr. Timothy J    male  54.0   \n",
       "8                               Palsson, Master. Gosta Leonard    male   2.0   \n",
       "9            Johnson, Mrs. Oscar W (Elisabeth Vilhelmina Berg)  female  27.0   \n",
       "10                         Nasser, Mrs. Nicholas (Adele Achem)  female  14.0   \n",
       "11                             Sandstrom, Miss. Marguerite Rut  female   4.0   \n",
       "12                                    Bonnell, Miss. Elizabeth  female  58.0   \n",
       "13                              Saundercock, Mr. William Henry    male  20.0   \n",
       "14                                 Andersson, Mr. Anders Johan    male  39.0   \n",
       "15                        Vestrom, Miss. Hulda Amanda Adolfina  female  14.0   \n",
       "16                            Hewlett, Mrs. (Mary D Kingcome)   female  55.0   \n",
       "17                                        Rice, Master. Eugene    male   2.0   \n",
       "18                                Williams, Mr. Charles Eugene    male   NaN   \n",
       "19           Vander Planke, Mrs. Julius (Emelia Maria Vande...  female  31.0   \n",
       "20                                     Masselmani, Mrs. Fatima  female   NaN   \n",
       "\n",
       "             SibSp  Parch            Ticket     Fare Cabin Embarked  \n",
       "PassengerId                                                          \n",
       "1                1      0         A/5 21171   7.2500   NaN        S  \n",
       "2                1      0          PC 17599  71.2833   C85        C  \n",
       "3                0      0  STON/O2. 3101282   7.9250   NaN        S  \n",
       "4                1      0            113803  53.1000  C123        S  \n",
       "5                0      0            373450   8.0500   NaN        S  \n",
       "6                0      0            330877   8.4583   NaN        Q  \n",
       "7                0      0             17463  51.8625   E46        S  \n",
       "8                3      1            349909  21.0750   NaN        S  \n",
       "9                0      2            347742  11.1333   NaN        S  \n",
       "10               1      0            237736  30.0708   NaN        C  \n",
       "11               1      1           PP 9549  16.7000    G6        S  \n",
       "12               0      0            113783  26.5500  C103        S  \n",
       "13               0      0         A/5. 2151   8.0500   NaN        S  \n",
       "14               1      5            347082  31.2750   NaN        S  \n",
       "15               0      0            350406   7.8542   NaN        S  \n",
       "16               0      0            248706  16.0000   NaN        S  \n",
       "17               4      1            382652  29.1250   NaN        Q  \n",
       "18               0      0            244373  13.0000   NaN        S  \n",
       "19               1      0            345763  18.0000   NaN        S  \n",
       "20               0      0              2649   7.2250   NaN        C  "
      ]
     },
     "execution_count": 2,
     "metadata": {},
     "output_type": "execute_result"
    }
   ],
   "source": [
    "train.head(20)"
   ]
  },
  {
   "cell_type": "code",
   "execution_count": 3,
   "id": "16c65c6f",
   "metadata": {
    "ExecuteTime": {
     "end_time": "2023-02-07T06:35:17.904344Z",
     "start_time": "2023-02-07T06:35:17.889887Z"
    },
    "scrolled": true
   },
   "outputs": [
    {
     "data": {
      "text/html": [
       "<div>\n",
       "<style scoped>\n",
       "    .dataframe tbody tr th:only-of-type {\n",
       "        vertical-align: middle;\n",
       "    }\n",
       "\n",
       "    .dataframe tbody tr th {\n",
       "        vertical-align: top;\n",
       "    }\n",
       "\n",
       "    .dataframe thead th {\n",
       "        text-align: right;\n",
       "    }\n",
       "</style>\n",
       "<table border=\"1\" class=\"dataframe\">\n",
       "  <thead>\n",
       "    <tr style=\"text-align: right;\">\n",
       "      <th></th>\n",
       "      <th>Pclass</th>\n",
       "      <th>Name</th>\n",
       "      <th>Sex</th>\n",
       "      <th>Age</th>\n",
       "      <th>SibSp</th>\n",
       "      <th>Parch</th>\n",
       "      <th>Ticket</th>\n",
       "      <th>Fare</th>\n",
       "      <th>Cabin</th>\n",
       "      <th>Embarked</th>\n",
       "    </tr>\n",
       "    <tr>\n",
       "      <th>PassengerId</th>\n",
       "      <th></th>\n",
       "      <th></th>\n",
       "      <th></th>\n",
       "      <th></th>\n",
       "      <th></th>\n",
       "      <th></th>\n",
       "      <th></th>\n",
       "      <th></th>\n",
       "      <th></th>\n",
       "      <th></th>\n",
       "    </tr>\n",
       "  </thead>\n",
       "  <tbody>\n",
       "    <tr>\n",
       "      <th>892</th>\n",
       "      <td>3</td>\n",
       "      <td>Kelly, Mr. James</td>\n",
       "      <td>male</td>\n",
       "      <td>34.5</td>\n",
       "      <td>0</td>\n",
       "      <td>0</td>\n",
       "      <td>330911</td>\n",
       "      <td>7.8292</td>\n",
       "      <td>NaN</td>\n",
       "      <td>Q</td>\n",
       "    </tr>\n",
       "    <tr>\n",
       "      <th>893</th>\n",
       "      <td>3</td>\n",
       "      <td>Wilkes, Mrs. James (Ellen Needs)</td>\n",
       "      <td>female</td>\n",
       "      <td>47.0</td>\n",
       "      <td>1</td>\n",
       "      <td>0</td>\n",
       "      <td>363272</td>\n",
       "      <td>7.0000</td>\n",
       "      <td>NaN</td>\n",
       "      <td>S</td>\n",
       "    </tr>\n",
       "    <tr>\n",
       "      <th>894</th>\n",
       "      <td>2</td>\n",
       "      <td>Myles, Mr. Thomas Francis</td>\n",
       "      <td>male</td>\n",
       "      <td>62.0</td>\n",
       "      <td>0</td>\n",
       "      <td>0</td>\n",
       "      <td>240276</td>\n",
       "      <td>9.6875</td>\n",
       "      <td>NaN</td>\n",
       "      <td>Q</td>\n",
       "    </tr>\n",
       "    <tr>\n",
       "      <th>895</th>\n",
       "      <td>3</td>\n",
       "      <td>Wirz, Mr. Albert</td>\n",
       "      <td>male</td>\n",
       "      <td>27.0</td>\n",
       "      <td>0</td>\n",
       "      <td>0</td>\n",
       "      <td>315154</td>\n",
       "      <td>8.6625</td>\n",
       "      <td>NaN</td>\n",
       "      <td>S</td>\n",
       "    </tr>\n",
       "    <tr>\n",
       "      <th>896</th>\n",
       "      <td>3</td>\n",
       "      <td>Hirvonen, Mrs. Alexander (Helga E Lindqvist)</td>\n",
       "      <td>female</td>\n",
       "      <td>22.0</td>\n",
       "      <td>1</td>\n",
       "      <td>1</td>\n",
       "      <td>3101298</td>\n",
       "      <td>12.2875</td>\n",
       "      <td>NaN</td>\n",
       "      <td>S</td>\n",
       "    </tr>\n",
       "  </tbody>\n",
       "</table>\n",
       "</div>"
      ],
      "text/plain": [
       "             Pclass                                          Name     Sex  \\\n",
       "PassengerId                                                                 \n",
       "892               3                              Kelly, Mr. James    male   \n",
       "893               3              Wilkes, Mrs. James (Ellen Needs)  female   \n",
       "894               2                     Myles, Mr. Thomas Francis    male   \n",
       "895               3                              Wirz, Mr. Albert    male   \n",
       "896               3  Hirvonen, Mrs. Alexander (Helga E Lindqvist)  female   \n",
       "\n",
       "              Age  SibSp  Parch   Ticket     Fare Cabin Embarked  \n",
       "PassengerId                                                       \n",
       "892          34.5      0      0   330911   7.8292   NaN        Q  \n",
       "893          47.0      1      0   363272   7.0000   NaN        S  \n",
       "894          62.0      0      0   240276   9.6875   NaN        Q  \n",
       "895          27.0      0      0   315154   8.6625   NaN        S  \n",
       "896          22.0      1      1  3101298  12.2875   NaN        S  "
      ]
     },
     "execution_count": 3,
     "metadata": {},
     "output_type": "execute_result"
    }
   ],
   "source": [
    "test.head()"
   ]
  },
  {
   "cell_type": "markdown",
   "id": "fa814c9b",
   "metadata": {},
   "source": [
    "- 컬럼값들의 특징\n",
    "\n",
    "<table border=0 align=left width=700>\n",
    "  <tr><th>feature<th width=200>의미<th width=300>설명<th> 타입\n",
    "  <tr><td>Survivied<td>생존여부<td>target 라벨 (0 : 사망, 1 : 생존)<td>integer\n",
    "  <tr><td>Pclass<td>티켓의 클래스<td>1 = 1등석, 2 = 2등석, 3 = 3등석<td>integer\n",
    "  <tr><td>Name<td>이름<td>호칭과 이름으로 구성<td>string\n",
    "  <tr><td>Sex<td>성별<td>male, female로 구분<td>string    \n",
    "  <tr><td>Age<td>나이<td>0-80세<td>integer\n",
    "  <tr><td>SibSp<td>함께 탑승한 형제와 배우자의 수<td><td>integer\n",
    "  <tr><td>Parch<td>함께 탑승한 부모, 아이의 수<td><td>integer\n",
    "  <tr><td>Ticket<td>티켓 번호<td>alphabat + integer<td>integer\n",
    "  <tr><td>Fare<td>탑승료<td><td>float\n",
    "  <tr><td>Cabin<td>객실 번호<td>alphabat + integer<td>string\n",
    "  <tr><td>Embarked<td>탑승 항구<td>C = Cherbourg, Q = Queenstown, S = Southampton<td>string\n",
    "</table>    "
   ]
  },
  {
   "cell_type": "code",
   "execution_count": 4,
   "id": "236453c4",
   "metadata": {
    "ExecuteTime": {
     "end_time": "2023-02-07T06:35:17.935382Z",
     "start_time": "2023-02-07T06:35:17.907495Z"
    }
   },
   "outputs": [
    {
     "name": "stdout",
     "output_type": "stream",
     "text": [
      "<class 'pandas.core.frame.DataFrame'>\n",
      "Int64Index: 891 entries, 1 to 891\n",
      "Data columns (total 11 columns):\n",
      " #   Column    Non-Null Count  Dtype  \n",
      "---  ------    --------------  -----  \n",
      " 0   Survived  891 non-null    int64  \n",
      " 1   Pclass    891 non-null    int64  \n",
      " 2   Name      891 non-null    object \n",
      " 3   Sex       891 non-null    object \n",
      " 4   Age       714 non-null    float64\n",
      " 5   SibSp     891 non-null    int64  \n",
      " 6   Parch     891 non-null    int64  \n",
      " 7   Ticket    891 non-null    object \n",
      " 8   Fare      891 non-null    float64\n",
      " 9   Cabin     204 non-null    object \n",
      " 10  Embarked  889 non-null    object \n",
      "dtypes: float64(2), int64(4), object(5)\n",
      "memory usage: 83.5+ KB\n"
     ]
    }
   ],
   "source": [
    "# 데이터 세부 구성 확인 - 결측치 확인\n",
    "train.info()"
   ]
  },
  {
   "cell_type": "code",
   "execution_count": 5,
   "id": "4154a4d4",
   "metadata": {
    "ExecuteTime": {
     "end_time": "2023-02-07T06:35:17.950906Z",
     "start_time": "2023-02-07T06:35:17.936378Z"
    }
   },
   "outputs": [
    {
     "data": {
      "text/plain": [
       "Survived      0\n",
       "Pclass        0\n",
       "Name          0\n",
       "Sex           0\n",
       "Age         177\n",
       "SibSp         0\n",
       "Parch         0\n",
       "Ticket        0\n",
       "Fare          0\n",
       "Cabin       687\n",
       "Embarked      2\n",
       "dtype: int64"
      ]
     },
     "execution_count": 5,
     "metadata": {},
     "output_type": "execute_result"
    }
   ],
   "source": [
    "# 결측치 개수 확인 - True인 경우는 1이므로 더하면 결측치 갯수를 알 수 있음\n",
    "train.isnull().sum()"
   ]
  },
  {
   "cell_type": "code",
   "execution_count": 6,
   "id": "80b31367",
   "metadata": {
    "ExecuteTime": {
     "end_time": "2023-02-07T06:35:17.981236Z",
     "start_time": "2023-02-07T06:35:17.952009Z"
    }
   },
   "outputs": [
    {
     "data": {
      "text/html": [
       "<div>\n",
       "<style scoped>\n",
       "    .dataframe tbody tr th:only-of-type {\n",
       "        vertical-align: middle;\n",
       "    }\n",
       "\n",
       "    .dataframe tbody tr th {\n",
       "        vertical-align: top;\n",
       "    }\n",
       "\n",
       "    .dataframe thead th {\n",
       "        text-align: right;\n",
       "    }\n",
       "</style>\n",
       "<table border=\"1\" class=\"dataframe\">\n",
       "  <thead>\n",
       "    <tr style=\"text-align: right;\">\n",
       "      <th></th>\n",
       "      <th>Survived</th>\n",
       "      <th>Pclass</th>\n",
       "      <th>Age</th>\n",
       "      <th>SibSp</th>\n",
       "      <th>Parch</th>\n",
       "      <th>Fare</th>\n",
       "    </tr>\n",
       "  </thead>\n",
       "  <tbody>\n",
       "    <tr>\n",
       "      <th>count</th>\n",
       "      <td>891.000000</td>\n",
       "      <td>891.000000</td>\n",
       "      <td>714.000000</td>\n",
       "      <td>891.000000</td>\n",
       "      <td>891.000000</td>\n",
       "      <td>891.000000</td>\n",
       "    </tr>\n",
       "    <tr>\n",
       "      <th>mean</th>\n",
       "      <td>0.383838</td>\n",
       "      <td>2.308642</td>\n",
       "      <td>29.699118</td>\n",
       "      <td>0.523008</td>\n",
       "      <td>0.381594</td>\n",
       "      <td>32.204208</td>\n",
       "    </tr>\n",
       "    <tr>\n",
       "      <th>std</th>\n",
       "      <td>0.486592</td>\n",
       "      <td>0.836071</td>\n",
       "      <td>14.526497</td>\n",
       "      <td>1.102743</td>\n",
       "      <td>0.806057</td>\n",
       "      <td>49.693429</td>\n",
       "    </tr>\n",
       "    <tr>\n",
       "      <th>min</th>\n",
       "      <td>0.000000</td>\n",
       "      <td>1.000000</td>\n",
       "      <td>0.420000</td>\n",
       "      <td>0.000000</td>\n",
       "      <td>0.000000</td>\n",
       "      <td>0.000000</td>\n",
       "    </tr>\n",
       "    <tr>\n",
       "      <th>25%</th>\n",
       "      <td>0.000000</td>\n",
       "      <td>2.000000</td>\n",
       "      <td>20.125000</td>\n",
       "      <td>0.000000</td>\n",
       "      <td>0.000000</td>\n",
       "      <td>7.910400</td>\n",
       "    </tr>\n",
       "    <tr>\n",
       "      <th>50%</th>\n",
       "      <td>0.000000</td>\n",
       "      <td>3.000000</td>\n",
       "      <td>28.000000</td>\n",
       "      <td>0.000000</td>\n",
       "      <td>0.000000</td>\n",
       "      <td>14.454200</td>\n",
       "    </tr>\n",
       "    <tr>\n",
       "      <th>75%</th>\n",
       "      <td>1.000000</td>\n",
       "      <td>3.000000</td>\n",
       "      <td>38.000000</td>\n",
       "      <td>1.000000</td>\n",
       "      <td>0.000000</td>\n",
       "      <td>31.000000</td>\n",
       "    </tr>\n",
       "    <tr>\n",
       "      <th>max</th>\n",
       "      <td>1.000000</td>\n",
       "      <td>3.000000</td>\n",
       "      <td>80.000000</td>\n",
       "      <td>8.000000</td>\n",
       "      <td>6.000000</td>\n",
       "      <td>512.329200</td>\n",
       "    </tr>\n",
       "  </tbody>\n",
       "</table>\n",
       "</div>"
      ],
      "text/plain": [
       "         Survived      Pclass         Age       SibSp       Parch        Fare\n",
       "count  891.000000  891.000000  714.000000  891.000000  891.000000  891.000000\n",
       "mean     0.383838    2.308642   29.699118    0.523008    0.381594   32.204208\n",
       "std      0.486592    0.836071   14.526497    1.102743    0.806057   49.693429\n",
       "min      0.000000    1.000000    0.420000    0.000000    0.000000    0.000000\n",
       "25%      0.000000    2.000000   20.125000    0.000000    0.000000    7.910400\n",
       "50%      0.000000    3.000000   28.000000    0.000000    0.000000   14.454200\n",
       "75%      1.000000    3.000000   38.000000    1.000000    0.000000   31.000000\n",
       "max      1.000000    3.000000   80.000000    8.000000    6.000000  512.329200"
      ]
     },
     "execution_count": 6,
     "metadata": {},
     "output_type": "execute_result"
    }
   ],
   "source": [
    "# 수치 데이터의 기술통계를 확인(결측치, 분산, 이상치, 편향)\n",
    "# 결측치 - count를 보면 됨\n",
    "# 분산 - mean과 std -> 평균(mean)보다 더 큰 표준편차(std)를 가진 것이 분산이 큰 것\n",
    "# 이상치 - 최소값 min 25%    최대값 max 75%에서 확인\n",
    "# 편향 - mean과 50% 차이가 큰 경우 편향된 것\n",
    "        # Fare - mean 32.204, 50%  14.454 편향됨을 알 수 있음\n",
    "# std - 표준편차\n",
    "train.describe()"
   ]
  },
  {
   "cell_type": "markdown",
   "id": "bd8c3320",
   "metadata": {},
   "source": [
    "### 데이터 전처리 & EDA"
   ]
  },
  {
   "cell_type": "markdown",
   "id": "bacc659b",
   "metadata": {},
   "source": [
    "#### 결측치 처리\n",
    "- 수정(채우기)\n",
    "    - 기술통계(평균, 중앙값)\n",
    "    - 다른 칼럼과 비교해서 해당 값으로 변경\n",
    "    - 결측치만 따로 다른 값으로 설정\n",
    "- 삭제\n",
    "    - 텍스트마이닝에서 주로 삭제 사용\n",
    "    - 데이터가 충분히 많은 경우에도 삭제\n",
    "    - 감탄사 같은 것들"
   ]
  },
  {
   "cell_type": "markdown",
   "id": "0e8adcf0",
   "metadata": {},
   "source": [
    "#### 나이의 결측치 채우기 - 다른 컬럼의 통계값을 활용\n",
    "- 비교 컬럼은 나이 컬럼과 상관관계가 높은 컬럼을 활용\n",
    "- 비교 컬럼은 범주형 데이터인 컬럼을 활용\n",
    "- 사용할 컬럼 : Pclass, Sex"
   ]
  },
  {
   "cell_type": "code",
   "execution_count": 7,
   "id": "7faaa866",
   "metadata": {
    "ExecuteTime": {
     "end_time": "2023-02-07T06:35:17.996134Z",
     "start_time": "2023-02-07T06:35:17.983436Z"
    }
   },
   "outputs": [
    {
     "data": {
      "text/html": [
       "<div>\n",
       "<style scoped>\n",
       "    .dataframe tbody tr th:only-of-type {\n",
       "        vertical-align: middle;\n",
       "    }\n",
       "\n",
       "    .dataframe tbody tr th {\n",
       "        vertical-align: top;\n",
       "    }\n",
       "\n",
       "    .dataframe thead th {\n",
       "        text-align: right;\n",
       "    }\n",
       "</style>\n",
       "<table border=\"1\" class=\"dataframe\">\n",
       "  <thead>\n",
       "    <tr style=\"text-align: right;\">\n",
       "      <th></th>\n",
       "      <th>Survived</th>\n",
       "      <th>Pclass</th>\n",
       "      <th>Age</th>\n",
       "      <th>SibSp</th>\n",
       "      <th>Parch</th>\n",
       "      <th>Fare</th>\n",
       "    </tr>\n",
       "  </thead>\n",
       "  <tbody>\n",
       "    <tr>\n",
       "      <th>Survived</th>\n",
       "      <td>1.000000</td>\n",
       "      <td>-0.338481</td>\n",
       "      <td>-0.077221</td>\n",
       "      <td>-0.035322</td>\n",
       "      <td>0.081629</td>\n",
       "      <td>0.257307</td>\n",
       "    </tr>\n",
       "    <tr>\n",
       "      <th>Pclass</th>\n",
       "      <td>-0.338481</td>\n",
       "      <td>1.000000</td>\n",
       "      <td>-0.369226</td>\n",
       "      <td>0.083081</td>\n",
       "      <td>0.018443</td>\n",
       "      <td>-0.549500</td>\n",
       "    </tr>\n",
       "    <tr>\n",
       "      <th>Age</th>\n",
       "      <td>-0.077221</td>\n",
       "      <td>-0.369226</td>\n",
       "      <td>1.000000</td>\n",
       "      <td>-0.308247</td>\n",
       "      <td>-0.189119</td>\n",
       "      <td>0.096067</td>\n",
       "    </tr>\n",
       "    <tr>\n",
       "      <th>SibSp</th>\n",
       "      <td>-0.035322</td>\n",
       "      <td>0.083081</td>\n",
       "      <td>-0.308247</td>\n",
       "      <td>1.000000</td>\n",
       "      <td>0.414838</td>\n",
       "      <td>0.159651</td>\n",
       "    </tr>\n",
       "    <tr>\n",
       "      <th>Parch</th>\n",
       "      <td>0.081629</td>\n",
       "      <td>0.018443</td>\n",
       "      <td>-0.189119</td>\n",
       "      <td>0.414838</td>\n",
       "      <td>1.000000</td>\n",
       "      <td>0.216225</td>\n",
       "    </tr>\n",
       "    <tr>\n",
       "      <th>Fare</th>\n",
       "      <td>0.257307</td>\n",
       "      <td>-0.549500</td>\n",
       "      <td>0.096067</td>\n",
       "      <td>0.159651</td>\n",
       "      <td>0.216225</td>\n",
       "      <td>1.000000</td>\n",
       "    </tr>\n",
       "  </tbody>\n",
       "</table>\n",
       "</div>"
      ],
      "text/plain": [
       "          Survived    Pclass       Age     SibSp     Parch      Fare\n",
       "Survived  1.000000 -0.338481 -0.077221 -0.035322  0.081629  0.257307\n",
       "Pclass   -0.338481  1.000000 -0.369226  0.083081  0.018443 -0.549500\n",
       "Age      -0.077221 -0.369226  1.000000 -0.308247 -0.189119  0.096067\n",
       "SibSp    -0.035322  0.083081 -0.308247  1.000000  0.414838  0.159651\n",
       "Parch     0.081629  0.018443 -0.189119  0.414838  1.000000  0.216225\n",
       "Fare      0.257307 -0.549500  0.096067  0.159651  0.216225  1.000000"
      ]
     },
     "execution_count": 7,
     "metadata": {},
     "output_type": "execute_result"
    }
   ],
   "source": [
    "# 상관관계 분석 - corr()\n",
    "# 연속형(숫자로 표현 가능한) 데이터에 대해서만 상관관계 분석이 가능하다.\n",
    "# 절대값이 1에 가까울수록 상관관계가 높음\n",
    "train.corr()"
   ]
  },
  {
   "cell_type": "code",
   "execution_count": 8,
   "id": "e9381fab",
   "metadata": {
    "ExecuteTime": {
     "end_time": "2023-02-07T06:35:18.011696Z",
     "start_time": "2023-02-07T06:35:17.997130Z"
    }
   },
   "outputs": [],
   "source": [
    "# 피벗 테이블을 활용해서 그룹핑\n",
    "# values : 결측치를 채우고자 하는 컬럼명\n",
    "# index : 참고하고자 하는 컬럼명을 리스트로 나열\n",
    "# aggfunc : 참고하고자 하는 컬럼의 값들 계산하는 방법\n",
    "pt1 = train.pivot_table(values='Age',\n",
    "                        index=['Pclass','Sex'],\n",
    "                        aggfunc='mean')"
   ]
  },
  {
   "cell_type": "code",
   "execution_count": 9,
   "id": "6b74e706",
   "metadata": {
    "ExecuteTime": {
     "end_time": "2023-02-07T06:35:18.026470Z",
     "start_time": "2023-02-07T06:35:18.013696Z"
    }
   },
   "outputs": [
    {
     "data": {
      "text/html": [
       "<div>\n",
       "<style scoped>\n",
       "    .dataframe tbody tr th:only-of-type {\n",
       "        vertical-align: middle;\n",
       "    }\n",
       "\n",
       "    .dataframe tbody tr th {\n",
       "        vertical-align: top;\n",
       "    }\n",
       "\n",
       "    .dataframe thead th {\n",
       "        text-align: right;\n",
       "    }\n",
       "</style>\n",
       "<table border=\"1\" class=\"dataframe\">\n",
       "  <thead>\n",
       "    <tr style=\"text-align: right;\">\n",
       "      <th></th>\n",
       "      <th></th>\n",
       "      <th>Age</th>\n",
       "    </tr>\n",
       "    <tr>\n",
       "      <th>Pclass</th>\n",
       "      <th>Sex</th>\n",
       "      <th></th>\n",
       "    </tr>\n",
       "  </thead>\n",
       "  <tbody>\n",
       "    <tr>\n",
       "      <th rowspan=\"2\" valign=\"top\">1</th>\n",
       "      <th>female</th>\n",
       "      <td>34.611765</td>\n",
       "    </tr>\n",
       "    <tr>\n",
       "      <th>male</th>\n",
       "      <td>41.281386</td>\n",
       "    </tr>\n",
       "    <tr>\n",
       "      <th rowspan=\"2\" valign=\"top\">2</th>\n",
       "      <th>female</th>\n",
       "      <td>28.722973</td>\n",
       "    </tr>\n",
       "    <tr>\n",
       "      <th>male</th>\n",
       "      <td>30.740707</td>\n",
       "    </tr>\n",
       "    <tr>\n",
       "      <th rowspan=\"2\" valign=\"top\">3</th>\n",
       "      <th>female</th>\n",
       "      <td>21.750000</td>\n",
       "    </tr>\n",
       "    <tr>\n",
       "      <th>male</th>\n",
       "      <td>26.507589</td>\n",
       "    </tr>\n",
       "  </tbody>\n",
       "</table>\n",
       "</div>"
      ],
      "text/plain": [
       "                     Age\n",
       "Pclass Sex              \n",
       "1      female  34.611765\n",
       "       male    41.281386\n",
       "2      female  28.722973\n",
       "       male    30.740707\n",
       "3      female  21.750000\n",
       "       male    26.507589"
      ]
     },
     "execution_count": 9,
     "metadata": {},
     "output_type": "execute_result"
    }
   ],
   "source": [
    "pt1"
   ]
  },
  {
   "cell_type": "code",
   "execution_count": 10,
   "id": "1d97a53c",
   "metadata": {
    "ExecuteTime": {
     "end_time": "2023-02-07T06:35:18.041949Z",
     "start_time": "2023-02-07T06:35:18.029831Z"
    }
   },
   "outputs": [
    {
     "data": {
      "text/plain": [
       "Age    34.611765\n",
       "Name: (1, female), dtype: float64"
      ]
     },
     "execution_count": 10,
     "metadata": {},
     "output_type": "execute_result"
    }
   ],
   "source": [
    "# 피벗 테이블 접근 방법\n",
    "pt1.loc[1,\"female\"]"
   ]
  },
  {
   "cell_type": "code",
   "execution_count": 11,
   "id": "35afb984",
   "metadata": {
    "ExecuteTime": {
     "end_time": "2023-02-07T06:35:18.056970Z",
     "start_time": "2023-02-07T06:35:18.042956Z"
    }
   },
   "outputs": [],
   "source": [
    "import numpy as np\n",
    "\n",
    "# 결측치 채우기 함수\n",
    "def fillAge(row):\n",
    "    # 넘어온 데이터에서 Age 컬럼이 결측치라면\n",
    "    if np.isnan(row['Age']):\n",
    "        # 피벗 테이블을 검색해서 해당 값을 넣어줌\n",
    "        return pt1.loc[row['Pclass'],row['Sex']]\n",
    "    # 넘어온 데이터에서 Age 컬럼이 결측치가 아니라면\n",
    "    else:\n",
    "        return row['Age']"
   ]
  },
  {
   "cell_type": "code",
   "execution_count": 12,
   "id": "888553e0",
   "metadata": {
    "ExecuteTime": {
     "end_time": "2023-02-07T06:35:18.102547Z",
     "start_time": "2023-02-07T06:35:18.056970Z"
    }
   },
   "outputs": [],
   "source": [
    "# apply() 함수를 이용해서 결측치 채우기\n",
    "# 특정 열 또는 특정 행에 함수를 적용\n",
    "\n",
    "# train.apply(): 한 줄씩 데이터가 함수로 넘어감\n",
    "# axis = 1 : 한 행 단위로 데이터를 넘김\n",
    "# astype('int64') : 실수로 된 나이 평균 값을 정수로 변환해서 저장\n",
    "train['Age'] = train.apply(fillAge, axis=1).astype(\"int64\")"
   ]
  },
  {
   "cell_type": "code",
   "execution_count": 13,
   "id": "09a751be",
   "metadata": {
    "ExecuteTime": {
     "end_time": "2023-02-07T06:35:18.117747Z",
     "start_time": "2023-02-07T06:35:18.104546Z"
    }
   },
   "outputs": [
    {
     "data": {
      "text/html": [
       "<div>\n",
       "<style scoped>\n",
       "    .dataframe tbody tr th:only-of-type {\n",
       "        vertical-align: middle;\n",
       "    }\n",
       "\n",
       "    .dataframe tbody tr th {\n",
       "        vertical-align: top;\n",
       "    }\n",
       "\n",
       "    .dataframe thead th {\n",
       "        text-align: right;\n",
       "    }\n",
       "</style>\n",
       "<table border=\"1\" class=\"dataframe\">\n",
       "  <thead>\n",
       "    <tr style=\"text-align: right;\">\n",
       "      <th></th>\n",
       "      <th>Survived</th>\n",
       "      <th>Pclass</th>\n",
       "      <th>Name</th>\n",
       "      <th>Sex</th>\n",
       "      <th>Age</th>\n",
       "      <th>SibSp</th>\n",
       "      <th>Parch</th>\n",
       "      <th>Ticket</th>\n",
       "      <th>Fare</th>\n",
       "      <th>Cabin</th>\n",
       "      <th>Embarked</th>\n",
       "    </tr>\n",
       "    <tr>\n",
       "      <th>PassengerId</th>\n",
       "      <th></th>\n",
       "      <th></th>\n",
       "      <th></th>\n",
       "      <th></th>\n",
       "      <th></th>\n",
       "      <th></th>\n",
       "      <th></th>\n",
       "      <th></th>\n",
       "      <th></th>\n",
       "      <th></th>\n",
       "      <th></th>\n",
       "    </tr>\n",
       "  </thead>\n",
       "  <tbody>\n",
       "    <tr>\n",
       "      <th>1</th>\n",
       "      <td>0</td>\n",
       "      <td>3</td>\n",
       "      <td>Braund, Mr. Owen Harris</td>\n",
       "      <td>male</td>\n",
       "      <td>22</td>\n",
       "      <td>1</td>\n",
       "      <td>0</td>\n",
       "      <td>A/5 21171</td>\n",
       "      <td>7.2500</td>\n",
       "      <td>NaN</td>\n",
       "      <td>S</td>\n",
       "    </tr>\n",
       "    <tr>\n",
       "      <th>2</th>\n",
       "      <td>1</td>\n",
       "      <td>1</td>\n",
       "      <td>Cumings, Mrs. John Bradley (Florence Briggs Th...</td>\n",
       "      <td>female</td>\n",
       "      <td>38</td>\n",
       "      <td>1</td>\n",
       "      <td>0</td>\n",
       "      <td>PC 17599</td>\n",
       "      <td>71.2833</td>\n",
       "      <td>C85</td>\n",
       "      <td>C</td>\n",
       "    </tr>\n",
       "    <tr>\n",
       "      <th>3</th>\n",
       "      <td>1</td>\n",
       "      <td>3</td>\n",
       "      <td>Heikkinen, Miss. Laina</td>\n",
       "      <td>female</td>\n",
       "      <td>26</td>\n",
       "      <td>0</td>\n",
       "      <td>0</td>\n",
       "      <td>STON/O2. 3101282</td>\n",
       "      <td>7.9250</td>\n",
       "      <td>NaN</td>\n",
       "      <td>S</td>\n",
       "    </tr>\n",
       "    <tr>\n",
       "      <th>4</th>\n",
       "      <td>1</td>\n",
       "      <td>1</td>\n",
       "      <td>Futrelle, Mrs. Jacques Heath (Lily May Peel)</td>\n",
       "      <td>female</td>\n",
       "      <td>35</td>\n",
       "      <td>1</td>\n",
       "      <td>0</td>\n",
       "      <td>113803</td>\n",
       "      <td>53.1000</td>\n",
       "      <td>C123</td>\n",
       "      <td>S</td>\n",
       "    </tr>\n",
       "    <tr>\n",
       "      <th>5</th>\n",
       "      <td>0</td>\n",
       "      <td>3</td>\n",
       "      <td>Allen, Mr. William Henry</td>\n",
       "      <td>male</td>\n",
       "      <td>35</td>\n",
       "      <td>0</td>\n",
       "      <td>0</td>\n",
       "      <td>373450</td>\n",
       "      <td>8.0500</td>\n",
       "      <td>NaN</td>\n",
       "      <td>S</td>\n",
       "    </tr>\n",
       "    <tr>\n",
       "      <th>6</th>\n",
       "      <td>0</td>\n",
       "      <td>3</td>\n",
       "      <td>Moran, Mr. James</td>\n",
       "      <td>male</td>\n",
       "      <td>26</td>\n",
       "      <td>0</td>\n",
       "      <td>0</td>\n",
       "      <td>330877</td>\n",
       "      <td>8.4583</td>\n",
       "      <td>NaN</td>\n",
       "      <td>Q</td>\n",
       "    </tr>\n",
       "  </tbody>\n",
       "</table>\n",
       "</div>"
      ],
      "text/plain": [
       "             Survived  Pclass  \\\n",
       "PassengerId                     \n",
       "1                   0       3   \n",
       "2                   1       1   \n",
       "3                   1       3   \n",
       "4                   1       1   \n",
       "5                   0       3   \n",
       "6                   0       3   \n",
       "\n",
       "                                                          Name     Sex  Age  \\\n",
       "PassengerId                                                                   \n",
       "1                                      Braund, Mr. Owen Harris    male   22   \n",
       "2            Cumings, Mrs. John Bradley (Florence Briggs Th...  female   38   \n",
       "3                                       Heikkinen, Miss. Laina  female   26   \n",
       "4                 Futrelle, Mrs. Jacques Heath (Lily May Peel)  female   35   \n",
       "5                                     Allen, Mr. William Henry    male   35   \n",
       "6                                             Moran, Mr. James    male   26   \n",
       "\n",
       "             SibSp  Parch            Ticket     Fare Cabin Embarked  \n",
       "PassengerId                                                          \n",
       "1                1      0         A/5 21171   7.2500   NaN        S  \n",
       "2                1      0          PC 17599  71.2833   C85        C  \n",
       "3                0      0  STON/O2. 3101282   7.9250   NaN        S  \n",
       "4                1      0            113803  53.1000  C123        S  \n",
       "5                0      0            373450   8.0500   NaN        S  \n",
       "6                0      0            330877   8.4583   NaN        Q  "
      ]
     },
     "execution_count": 13,
     "metadata": {},
     "output_type": "execute_result"
    }
   ],
   "source": [
    "train.head(6)"
   ]
  },
  {
   "cell_type": "code",
   "execution_count": 14,
   "id": "a05f8d9a",
   "metadata": {
    "ExecuteTime": {
     "end_time": "2023-02-07T06:35:18.132623Z",
     "start_time": "2023-02-07T06:35:18.119302Z"
    }
   },
   "outputs": [
    {
     "name": "stdout",
     "output_type": "stream",
     "text": [
      "<class 'pandas.core.frame.DataFrame'>\n",
      "Int64Index: 418 entries, 892 to 1309\n",
      "Data columns (total 10 columns):\n",
      " #   Column    Non-Null Count  Dtype  \n",
      "---  ------    --------------  -----  \n",
      " 0   Pclass    418 non-null    int64  \n",
      " 1   Name      418 non-null    object \n",
      " 2   Sex       418 non-null    object \n",
      " 3   Age       332 non-null    float64\n",
      " 4   SibSp     418 non-null    int64  \n",
      " 5   Parch     418 non-null    int64  \n",
      " 6   Ticket    418 non-null    object \n",
      " 7   Fare      417 non-null    float64\n",
      " 8   Cabin     91 non-null     object \n",
      " 9   Embarked  418 non-null    object \n",
      "dtypes: float64(2), int64(3), object(5)\n",
      "memory usage: 35.9+ KB\n"
     ]
    }
   ],
   "source": [
    "test.info()"
   ]
  },
  {
   "cell_type": "code",
   "execution_count": 15,
   "id": "07b5cd14",
   "metadata": {
    "ExecuteTime": {
     "end_time": "2023-02-07T06:35:18.163424Z",
     "start_time": "2023-02-07T06:35:18.133783Z"
    }
   },
   "outputs": [],
   "source": [
    "test['Age'] = test.apply(fillAge, axis=1).astype(\"int64\")"
   ]
  },
  {
   "cell_type": "code",
   "execution_count": 16,
   "id": "d44dd810",
   "metadata": {
    "ExecuteTime": {
     "end_time": "2023-02-07T06:35:18.178422Z",
     "start_time": "2023-02-07T06:35:18.165419Z"
    }
   },
   "outputs": [
    {
     "name": "stdout",
     "output_type": "stream",
     "text": [
      "<class 'pandas.core.frame.DataFrame'>\n",
      "Int64Index: 418 entries, 892 to 1309\n",
      "Data columns (total 10 columns):\n",
      " #   Column    Non-Null Count  Dtype  \n",
      "---  ------    --------------  -----  \n",
      " 0   Pclass    418 non-null    int64  \n",
      " 1   Name      418 non-null    object \n",
      " 2   Sex       418 non-null    object \n",
      " 3   Age       418 non-null    int64  \n",
      " 4   SibSp     418 non-null    int64  \n",
      " 5   Parch     418 non-null    int64  \n",
      " 6   Ticket    418 non-null    object \n",
      " 7   Fare      417 non-null    float64\n",
      " 8   Cabin     91 non-null     object \n",
      " 9   Embarked  418 non-null    object \n",
      "dtypes: float64(1), int64(4), object(5)\n",
      "memory usage: 35.9+ KB\n"
     ]
    }
   ],
   "source": [
    "test.info()"
   ]
  },
  {
   "cell_type": "markdown",
   "id": "8f8aa5b3",
   "metadata": {},
   "source": [
    "#### 훈련 데이터의 Embarked 결측치 채우기\n",
    "- 결측치 개수가 적은 경우\n",
    "    - 범주형 데이터의 결측치는 가능하면 많은 개수를 가진 클래스에 포함\n",
    "        - 개수가 많은 쪽에 포함시켜야 원래 클래스에 영향을 덜 줌\n",
    "\n",
    "- 결측치 개수가 데이터 수만큼 많은 경우\n",
    "    - 새로운 클래스 값으로 할당\n",
    "    - 원래 클래스의 비율별로 쪼개서 랜덤으로 할당"
   ]
  },
  {
   "cell_type": "code",
   "execution_count": 17,
   "id": "abe4f347",
   "metadata": {
    "ExecuteTime": {
     "end_time": "2023-02-07T06:35:18.194426Z",
     "start_time": "2023-02-07T06:35:18.180498Z"
    }
   },
   "outputs": [
    {
     "data": {
      "text/plain": [
       "array(['S', 'C', 'Q', nan], dtype=object)"
      ]
     },
     "execution_count": 17,
     "metadata": {},
     "output_type": "execute_result"
    }
   ],
   "source": [
    "# embarked 컬럼의 클래스 종류 확인\n",
    "train['Embarked'].unique()"
   ]
  },
  {
   "cell_type": "code",
   "execution_count": 18,
   "id": "1746cafd",
   "metadata": {
    "ExecuteTime": {
     "end_time": "2023-02-07T06:35:18.209301Z",
     "start_time": "2023-02-07T06:35:18.195940Z"
    }
   },
   "outputs": [
    {
     "data": {
      "text/plain": [
       "S    644\n",
       "C    168\n",
       "Q     77\n",
       "Name: Embarked, dtype: int64"
      ]
     },
     "execution_count": 18,
     "metadata": {},
     "output_type": "execute_result"
    }
   ],
   "source": [
    "# embarked 컬럼의 클래스별 데이터 수 확인\n",
    "train['Embarked'].value_counts()"
   ]
  },
  {
   "cell_type": "code",
   "execution_count": 19,
   "id": "4092f4e4",
   "metadata": {
    "ExecuteTime": {
     "end_time": "2023-02-07T06:35:18.224382Z",
     "start_time": "2023-02-07T06:35:18.211318Z"
    }
   },
   "outputs": [
    {
     "data": {
      "text/plain": [
       "2"
      ]
     },
     "execution_count": 19,
     "metadata": {},
     "output_type": "execute_result"
    }
   ],
   "source": [
    "# embarked 컬럼의 결측치 수 확인\n",
    "train['Embarked'].isnull().sum()"
   ]
  },
  {
   "cell_type": "code",
   "execution_count": 20,
   "id": "2ee885e0",
   "metadata": {
    "ExecuteTime": {
     "end_time": "2023-02-07T06:35:18.240034Z",
     "start_time": "2023-02-07T06:35:18.226368Z"
    }
   },
   "outputs": [],
   "source": [
    "# 결측치가 2개, 최빈값(S)으로 결측치를 채움\n",
    "# 전체 결측치를 한번에 채우는 함수 : fillna()\n",
    "train['Embarked'] = train['Embarked'].fillna('S')"
   ]
  },
  {
   "cell_type": "code",
   "execution_count": 21,
   "id": "9ed02c22",
   "metadata": {
    "ExecuteTime": {
     "end_time": "2023-02-07T06:35:18.255677Z",
     "start_time": "2023-02-07T06:35:18.242052Z"
    }
   },
   "outputs": [
    {
     "name": "stdout",
     "output_type": "stream",
     "text": [
      "<class 'pandas.core.frame.DataFrame'>\n",
      "Int64Index: 891 entries, 1 to 891\n",
      "Data columns (total 11 columns):\n",
      " #   Column    Non-Null Count  Dtype  \n",
      "---  ------    --------------  -----  \n",
      " 0   Survived  891 non-null    int64  \n",
      " 1   Pclass    891 non-null    int64  \n",
      " 2   Name      891 non-null    object \n",
      " 3   Sex       891 non-null    object \n",
      " 4   Age       891 non-null    int64  \n",
      " 5   SibSp     891 non-null    int64  \n",
      " 6   Parch     891 non-null    int64  \n",
      " 7   Ticket    891 non-null    object \n",
      " 8   Fare      891 non-null    float64\n",
      " 9   Cabin     204 non-null    object \n",
      " 10  Embarked  891 non-null    object \n",
      "dtypes: float64(1), int64(5), object(5)\n",
      "memory usage: 83.5+ KB\n"
     ]
    }
   ],
   "source": [
    "train.info()"
   ]
  },
  {
   "cell_type": "markdown",
   "id": "06cd09ad",
   "metadata": {},
   "source": [
    "#### Fare 결측치 채우기 - test데이터"
   ]
  },
  {
   "cell_type": "code",
   "execution_count": 22,
   "id": "142412fa",
   "metadata": {
    "ExecuteTime": {
     "end_time": "2023-02-07T06:35:18.270544Z",
     "start_time": "2023-02-07T06:35:18.257179Z"
    }
   },
   "outputs": [
    {
     "name": "stdout",
     "output_type": "stream",
     "text": [
      "<class 'pandas.core.frame.DataFrame'>\n",
      "Int64Index: 418 entries, 892 to 1309\n",
      "Data columns (total 10 columns):\n",
      " #   Column    Non-Null Count  Dtype  \n",
      "---  ------    --------------  -----  \n",
      " 0   Pclass    418 non-null    int64  \n",
      " 1   Name      418 non-null    object \n",
      " 2   Sex       418 non-null    object \n",
      " 3   Age       418 non-null    int64  \n",
      " 4   SibSp     418 non-null    int64  \n",
      " 5   Parch     418 non-null    int64  \n",
      " 6   Ticket    418 non-null    object \n",
      " 7   Fare      417 non-null    float64\n",
      " 8   Cabin     91 non-null     object \n",
      " 9   Embarked  418 non-null    object \n",
      "dtypes: float64(1), int64(4), object(5)\n",
      "memory usage: 35.9+ KB\n"
     ]
    }
   ],
   "source": [
    "test.info()"
   ]
  },
  {
   "cell_type": "code",
   "execution_count": 23,
   "id": "afe929af",
   "metadata": {
    "ExecuteTime": {
     "end_time": "2023-02-07T06:35:18.285964Z",
     "start_time": "2023-02-07T06:35:18.272059Z"
    },
    "scrolled": true
   },
   "outputs": [
    {
     "data": {
      "text/html": [
       "<div>\n",
       "<style scoped>\n",
       "    .dataframe tbody tr th:only-of-type {\n",
       "        vertical-align: middle;\n",
       "    }\n",
       "\n",
       "    .dataframe tbody tr th {\n",
       "        vertical-align: top;\n",
       "    }\n",
       "\n",
       "    .dataframe thead th {\n",
       "        text-align: right;\n",
       "    }\n",
       "</style>\n",
       "<table border=\"1\" class=\"dataframe\">\n",
       "  <thead>\n",
       "    <tr style=\"text-align: right;\">\n",
       "      <th></th>\n",
       "      <th></th>\n",
       "      <th>Fare</th>\n",
       "    </tr>\n",
       "    <tr>\n",
       "      <th>Pclass</th>\n",
       "      <th>Sex</th>\n",
       "      <th></th>\n",
       "    </tr>\n",
       "  </thead>\n",
       "  <tbody>\n",
       "    <tr>\n",
       "      <th rowspan=\"2\" valign=\"top\">1</th>\n",
       "      <th>female</th>\n",
       "      <td>79.02500</td>\n",
       "    </tr>\n",
       "    <tr>\n",
       "      <th>male</th>\n",
       "      <td>51.86250</td>\n",
       "    </tr>\n",
       "    <tr>\n",
       "      <th rowspan=\"2\" valign=\"top\">2</th>\n",
       "      <th>female</th>\n",
       "      <td>26.00000</td>\n",
       "    </tr>\n",
       "    <tr>\n",
       "      <th>male</th>\n",
       "      <td>13.00000</td>\n",
       "    </tr>\n",
       "    <tr>\n",
       "      <th rowspan=\"2\" valign=\"top\">3</th>\n",
       "      <th>female</th>\n",
       "      <td>8.08125</td>\n",
       "    </tr>\n",
       "    <tr>\n",
       "      <th>male</th>\n",
       "      <td>7.89580</td>\n",
       "    </tr>\n",
       "  </tbody>\n",
       "</table>\n",
       "</div>"
      ],
      "text/plain": [
       "                   Fare\n",
       "Pclass Sex             \n",
       "1      female  79.02500\n",
       "       male    51.86250\n",
       "2      female  26.00000\n",
       "       male    13.00000\n",
       "3      female   8.08125\n",
       "       male     7.89580"
      ]
     },
     "execution_count": 23,
     "metadata": {},
     "output_type": "execute_result"
    }
   ],
   "source": [
    "# 등급에 따라 Fare의 값이 확연히 다름\n",
    "# 이상치가 큼\n",
    "# 중앙값을 사용해서 결측치 채우기 - median\n",
    "# 사용할 컬럼 Pclass, Sex\n",
    "\n",
    "# 결측치 있는 행은 PassengetId - 1044, 7.8958로 채움\n",
    "pt2 = test.pivot_table(values='Fare',\n",
    "                       index=['Pclass','Sex'],\n",
    "                       aggfunc='median')\n",
    "pt2"
   ]
  },
  {
   "cell_type": "code",
   "execution_count": 24,
   "id": "3d6ffb2f",
   "metadata": {
    "ExecuteTime": {
     "end_time": "2023-02-07T06:35:18.301174Z",
     "start_time": "2023-02-07T06:35:18.286973Z"
    }
   },
   "outputs": [
    {
     "data": {
      "text/html": [
       "<div>\n",
       "<style scoped>\n",
       "    .dataframe tbody tr th:only-of-type {\n",
       "        vertical-align: middle;\n",
       "    }\n",
       "\n",
       "    .dataframe tbody tr th {\n",
       "        vertical-align: top;\n",
       "    }\n",
       "\n",
       "    .dataframe thead th {\n",
       "        text-align: right;\n",
       "    }\n",
       "</style>\n",
       "<table border=\"1\" class=\"dataframe\">\n",
       "  <thead>\n",
       "    <tr style=\"text-align: right;\">\n",
       "      <th></th>\n",
       "      <th>Pclass</th>\n",
       "      <th>Name</th>\n",
       "      <th>Sex</th>\n",
       "      <th>Age</th>\n",
       "      <th>SibSp</th>\n",
       "      <th>Parch</th>\n",
       "      <th>Ticket</th>\n",
       "      <th>Fare</th>\n",
       "      <th>Cabin</th>\n",
       "      <th>Embarked</th>\n",
       "    </tr>\n",
       "    <tr>\n",
       "      <th>PassengerId</th>\n",
       "      <th></th>\n",
       "      <th></th>\n",
       "      <th></th>\n",
       "      <th></th>\n",
       "      <th></th>\n",
       "      <th></th>\n",
       "      <th></th>\n",
       "      <th></th>\n",
       "      <th></th>\n",
       "      <th></th>\n",
       "    </tr>\n",
       "  </thead>\n",
       "  <tbody>\n",
       "    <tr>\n",
       "      <th>1044</th>\n",
       "      <td>3</td>\n",
       "      <td>Storey, Mr. Thomas</td>\n",
       "      <td>male</td>\n",
       "      <td>60</td>\n",
       "      <td>0</td>\n",
       "      <td>0</td>\n",
       "      <td>3701</td>\n",
       "      <td>NaN</td>\n",
       "      <td>NaN</td>\n",
       "      <td>S</td>\n",
       "    </tr>\n",
       "  </tbody>\n",
       "</table>\n",
       "</div>"
      ],
      "text/plain": [
       "             Pclass                Name   Sex  Age  SibSp  Parch Ticket  Fare  \\\n",
       "PassengerId                                                                     \n",
       "1044              3  Storey, Mr. Thomas  male   60      0      0   3701   NaN   \n",
       "\n",
       "            Cabin Embarked  \n",
       "PassengerId                 \n",
       "1044          NaN        S  "
      ]
     },
     "execution_count": 24,
     "metadata": {},
     "output_type": "execute_result"
    }
   ],
   "source": [
    "# 등급, 성별 확인을 위해 결측치가 있는 행을 확인\n",
    "test[test['Fare'].isnull()]"
   ]
  },
  {
   "cell_type": "code",
   "execution_count": 25,
   "id": "b7df32cd",
   "metadata": {
    "ExecuteTime": {
     "end_time": "2023-02-07T06:35:18.316733Z",
     "start_time": "2023-02-07T06:35:18.303170Z"
    }
   },
   "outputs": [],
   "source": [
    "# 결측치 채우기 - fillna()\n",
    "test['Fare'] = test['Fare'].fillna(7.8958)"
   ]
  },
  {
   "cell_type": "code",
   "execution_count": 26,
   "id": "6f2ccd5c",
   "metadata": {
    "ExecuteTime": {
     "end_time": "2023-02-07T06:35:18.332387Z",
     "start_time": "2023-02-07T06:35:18.318737Z"
    }
   },
   "outputs": [
    {
     "name": "stdout",
     "output_type": "stream",
     "text": [
      "<class 'pandas.core.frame.DataFrame'>\n",
      "Int64Index: 418 entries, 892 to 1309\n",
      "Data columns (total 10 columns):\n",
      " #   Column    Non-Null Count  Dtype  \n",
      "---  ------    --------------  -----  \n",
      " 0   Pclass    418 non-null    int64  \n",
      " 1   Name      418 non-null    object \n",
      " 2   Sex       418 non-null    object \n",
      " 3   Age       418 non-null    int64  \n",
      " 4   SibSp     418 non-null    int64  \n",
      " 5   Parch     418 non-null    int64  \n",
      " 6   Ticket    418 non-null    object \n",
      " 7   Fare      418 non-null    float64\n",
      " 8   Cabin     91 non-null     object \n",
      " 9   Embarked  418 non-null    object \n",
      "dtypes: float64(1), int64(4), object(5)\n",
      "memory usage: 35.9+ KB\n"
     ]
    }
   ],
   "source": [
    "test.info()"
   ]
  },
  {
   "cell_type": "markdown",
   "id": "d463768f",
   "metadata": {},
   "source": [
    "#### Cabin 결측치 채우기\n",
    "- 객실번호 영문자(층)+숫자로 구성\n",
    "- 객실번호 범주형 데이터인데 클래스 수가 너무 많고 클래스별 데이터 개수는 대부분 1개-ex.C100, C200\n",
    "    - 객실번호를 유사한 그룹으로 그룹핑 해주어야 함\n",
    "- 그룹핑의 기준은 영문자(층)이 생존/사망에 영향을 미치는 주요 데이터로 고려"
   ]
  },
  {
   "cell_type": "code",
   "execution_count": 27,
   "id": "7f87affc",
   "metadata": {
    "ExecuteTime": {
     "end_time": "2023-02-07T06:35:18.347850Z",
     "start_time": "2023-02-07T06:35:18.334209Z"
    }
   },
   "outputs": [
    {
     "data": {
      "text/plain": [
       "687"
      ]
     },
     "execution_count": 27,
     "metadata": {},
     "output_type": "execute_result"
    }
   ],
   "source": [
    "train['Cabin'].isnull().sum()"
   ]
  },
  {
   "cell_type": "code",
   "execution_count": 28,
   "id": "524c9b2d",
   "metadata": {
    "ExecuteTime": {
     "end_time": "2023-02-07T06:35:18.363471Z",
     "start_time": "2023-02-07T06:35:18.352412Z"
    }
   },
   "outputs": [
    {
     "data": {
      "text/plain": [
       "327"
      ]
     },
     "execution_count": 28,
     "metadata": {},
     "output_type": "execute_result"
    }
   ],
   "source": [
    "test['Cabin'].isnull().sum()"
   ]
  },
  {
   "cell_type": "code",
   "execution_count": 29,
   "id": "27394f35",
   "metadata": {
    "ExecuteTime": {
     "end_time": "2023-02-07T06:35:18.378562Z",
     "start_time": "2023-02-07T06:35:18.364479Z"
    }
   },
   "outputs": [],
   "source": [
    "# 객실번호의 결측치는 실제 객실 없는 경우일 거라고 판단하여 새로운 클래스 M GKFEKD\n",
    "train['Cabin'] = train['Cabin'].fillna('M')\n",
    "test['Cabin'] = test['Cabin'].fillna('M')"
   ]
  },
  {
   "cell_type": "code",
   "execution_count": 30,
   "id": "02886b0e",
   "metadata": {
    "ExecuteTime": {
     "end_time": "2023-02-07T06:35:18.394051Z",
     "start_time": "2023-02-07T06:35:18.379668Z"
    }
   },
   "outputs": [
    {
     "data": {
      "text/plain": [
       "array(['M', 'C85', 'C123', 'E46', 'G6', 'C103', 'D56', 'A6',\n",
       "       'C23 C25 C27', 'B78', 'D33', 'B30', 'C52', 'B28', 'C83', 'F33',\n",
       "       'F G73', 'E31', 'A5', 'D10 D12', 'D26', 'C110', 'B58 B60', 'E101',\n",
       "       'F E69', 'D47', 'B86', 'F2', 'C2', 'E33', 'B19', 'A7', 'C49', 'F4',\n",
       "       'A32', 'B4', 'B80', 'A31', 'D36', 'D15', 'C93', 'C78', 'D35',\n",
       "       'C87', 'B77', 'E67', 'B94', 'C125', 'C99', 'C118', 'D7', 'A19',\n",
       "       'B49', 'D', 'C22 C26', 'C106', 'C65', 'E36', 'C54',\n",
       "       'B57 B59 B63 B66', 'C7', 'E34', 'C32', 'B18', 'C124', 'C91', 'E40',\n",
       "       'T', 'C128', 'D37', 'B35', 'E50', 'C82', 'B96 B98', 'E10', 'E44',\n",
       "       'A34', 'C104', 'C111', 'C92', 'E38', 'D21', 'E12', 'E63', 'A14',\n",
       "       'B37', 'C30', 'D20', 'B79', 'E25', 'D46', 'B73', 'C95', 'B38',\n",
       "       'B39', 'B22', 'C86', 'C70', 'A16', 'C101', 'C68', 'A10', 'E68',\n",
       "       'B41', 'A20', 'D19', 'D50', 'D9', 'A23', 'B50', 'A26', 'D48',\n",
       "       'E58', 'C126', 'B71', 'B51 B53 B55', 'D49', 'B5', 'B20', 'F G63',\n",
       "       'C62 C64', 'E24', 'C90', 'C45', 'E8', 'B101', 'D45', 'C46', 'D30',\n",
       "       'E121', 'D11', 'E77', 'F38', 'B3', 'D6', 'B82 B84', 'D17', 'A36',\n",
       "       'B102', 'B69', 'E49', 'C47', 'D28', 'E17', 'A24', 'C50', 'B42',\n",
       "       'C148'], dtype=object)"
      ]
     },
     "execution_count": 30,
     "metadata": {},
     "output_type": "execute_result"
    }
   ],
   "source": [
    "train['Cabin'].unique()"
   ]
  },
  {
   "cell_type": "code",
   "execution_count": 31,
   "id": "d5793697",
   "metadata": {
    "ExecuteTime": {
     "end_time": "2023-02-07T06:35:18.408800Z",
     "start_time": "2023-02-07T06:35:18.396010Z"
    }
   },
   "outputs": [],
   "source": [
    "# 각 값들의 첫번째 영문자만 잘라서 저장\n",
    "train['Cabin'] = train['Cabin'].str[0]\n",
    "test['Cabin'] = test['Cabin'].str[0]"
   ]
  },
  {
   "cell_type": "code",
   "execution_count": 32,
   "id": "01d6f1b4",
   "metadata": {
    "ExecuteTime": {
     "end_time": "2023-02-07T06:35:18.424441Z",
     "start_time": "2023-02-07T06:35:18.410983Z"
    }
   },
   "outputs": [
    {
     "data": {
      "text/plain": [
       "array(['M', 'C', 'E', 'G', 'D', 'A', 'B', 'F', 'T'], dtype=object)"
      ]
     },
     "execution_count": 32,
     "metadata": {},
     "output_type": "execute_result"
    }
   ],
   "source": [
    "train[\"Cabin\"].unique()"
   ]
  },
  {
   "cell_type": "code",
   "execution_count": 33,
   "id": "61898666",
   "metadata": {
    "ExecuteTime": {
     "end_time": "2023-02-07T06:35:18.440111Z",
     "start_time": "2023-02-07T06:35:18.425446Z"
    }
   },
   "outputs": [
    {
     "data": {
      "text/plain": [
       "M    687\n",
       "C     59\n",
       "B     47\n",
       "D     33\n",
       "E     32\n",
       "A     15\n",
       "F     13\n",
       "G      4\n",
       "T      1\n",
       "Name: Cabin, dtype: int64"
      ]
     },
     "execution_count": 33,
     "metadata": {},
     "output_type": "execute_result"
    }
   ],
   "source": [
    "train[\"Cabin\"].value_counts()"
   ]
  },
  {
   "cell_type": "markdown",
   "id": "94673e34",
   "metadata": {},
   "source": [
    "### 데이터 시각화(EDA)\n",
    "- 그래프 그리기\n",
    "- train 데이터를 이용해 탐색"
   ]
  },
  {
   "cell_type": "markdown",
   "id": "56c809eb",
   "metadata": {},
   "source": [
    "#### 범주형 데이터 시각화\n",
    "- 빈도 기반의 bar chart를 많이 활용"
   ]
  },
  {
   "cell_type": "markdown",
   "id": "10e5b981",
   "metadata": {},
   "source": [
    "##### Cabin 시각화\n",
    "- seaborn 라이브러리 활용"
   ]
  },
  {
   "cell_type": "code",
   "execution_count": 34,
   "id": "841521cb",
   "metadata": {
    "ExecuteTime": {
     "end_time": "2023-02-07T06:35:20.160887Z",
     "start_time": "2023-02-07T06:35:18.441063Z"
    }
   },
   "outputs": [],
   "source": [
    "import seaborn as sns"
   ]
  },
  {
   "cell_type": "code",
   "execution_count": 35,
   "id": "841ed0e1",
   "metadata": {
    "ExecuteTime": {
     "end_time": "2023-02-07T06:35:20.405373Z",
     "start_time": "2023-02-07T06:35:20.161738Z"
    }
   },
   "outputs": [
    {
     "data": {
      "text/plain": [
       "<AxesSubplot:xlabel='Cabin', ylabel='count'>"
      ]
     },
     "execution_count": 35,
     "metadata": {},
     "output_type": "execute_result"
    },
    {
     "data": {
      "image/png": "[encoded data removed]",
      "text/plain": [
       "<Figure size 640x480 with 1 Axes>"
      ]
     },
     "metadata": {},
     "output_type": "display_data"
    }
   ],
   "source": [
    "sns.countplot(data=train,x='Cabin',hue='Survived')"
   ]
  },
  {
   "cell_type": "markdown",
   "id": "d5225001",
   "metadata": {},
   "source": [
    "- M에서 상대적으로 많은 사망자가 분포해 있다. 모델에게 학습을 시켜봐도 의미가 있을 것 같다!"
   ]
  },
  {
   "cell_type": "markdown",
   "id": "fae21a69",
   "metadata": {},
   "source": [
    "##### Pclass 시각화"
   ]
  },
  {
   "cell_type": "code",
   "execution_count": 36,
   "id": "f21749fe",
   "metadata": {
    "ExecuteTime": {
     "end_time": "2023-02-07T06:35:20.497892Z",
     "start_time": "2023-02-07T06:35:20.407546Z"
    }
   },
   "outputs": [
    {
     "data": {
      "text/plain": [
       "<AxesSubplot:xlabel='count', ylabel='Pclass'>"
      ]
     },
     "execution_count": 36,
     "metadata": {},
     "output_type": "execute_result"
    },
    {
     "data": {
      "image/png": "[encoded data removed]",
      "text/plain": [
       "<Figure size 640x480 with 1 Axes>"
      ]
     },
     "metadata": {},
     "output_type": "display_data"
    }
   ],
   "source": [
    "sns.countplot(data=train,y='Pclass',hue='Survived')"
   ]
  },
  {
   "cell_type": "markdown",
   "id": "c9d23728",
   "metadata": {},
   "source": [
    "- 1등급에 탑승하면 생존 확률이 조금 더 높다.\n",
    "- 3등급에 탑승하면 사망 확률이 더 높다.\n",
    "- Pclass를 모델 학습에 사용해도 괜찮을 것 같다."
   ]
  },
  {
   "cell_type": "markdown",
   "id": "a1aabcb1",
   "metadata": {},
   "source": [
    "##### Pclass와 Cabin 시각화"
   ]
  },
  {
   "cell_type": "code",
   "execution_count": 37,
   "id": "0afac758",
   "metadata": {
    "ExecuteTime": {
     "end_time": "2023-02-07T06:35:20.634018Z",
     "start_time": "2023-02-07T06:35:20.499380Z"
    }
   },
   "outputs": [
    {
     "data": {
      "text/plain": [
       "<AxesSubplot:xlabel='Cabin', ylabel='count'>"
      ]
     },
     "execution_count": 37,
     "metadata": {},
     "output_type": "execute_result"
    },
    {
     "data": {
      "image/png": "[encoded data removed]",
      "text/plain": [
       "<Figure size 640x480 with 1 Axes>"
      ]
     },
     "metadata": {},
     "output_type": "display_data"
    }
   ],
   "source": [
    "sns.countplot(data=train, x='Cabin', hue='Pclass')"
   ]
  },
  {
   "cell_type": "markdown",
   "id": "58fd4192",
   "metadata": {},
   "source": [
    "- A, B, C 는 1등급 탑승객들이 있다.\n",
    "- M은 3등급 탑승객이 많다. -> 3등급 탑승객들이 많이 사망해서 정보가 손실된걸까?"
   ]
  },
  {
   "cell_type": "markdown",
   "id": "8e149be6",
   "metadata": {},
   "source": [
    "##### Embarked, Sex 시각화"
   ]
  },
  {
   "cell_type": "code",
   "execution_count": 38,
   "id": "8bd80176",
   "metadata": {
    "ExecuteTime": {
     "end_time": "2023-02-07T06:35:20.723675Z",
     "start_time": "2023-02-07T06:35:20.634985Z"
    }
   },
   "outputs": [
    {
     "data": {
      "text/plain": [
       "<AxesSubplot:xlabel='Embarked', ylabel='count'>"
      ]
     },
     "execution_count": 38,
     "metadata": {},
     "output_type": "execute_result"
    },
    {
     "data": {
      "image/png": "[encoded data removed]",
      "text/plain": [
       "<Figure size 640x480 with 1 Axes>"
      ]
     },
     "metadata": {},
     "output_type": "display_data"
    }
   ],
   "source": [
    "sns.countplot(data=train, x='Embarked', hue='Survived')"
   ]
  },
  {
   "cell_type": "code",
   "execution_count": 39,
   "id": "c873e240",
   "metadata": {
    "ExecuteTime": {
     "end_time": "2023-02-07T06:35:20.814907Z",
     "start_time": "2023-02-07T06:35:20.724685Z"
    }
   },
   "outputs": [
    {
     "data": {
      "text/plain": [
       "<AxesSubplot:xlabel='Embarked', ylabel='count'>"
      ]
     },
     "execution_count": 39,
     "metadata": {},
     "output_type": "execute_result"
    },
    {
     "data": {
      "image/png": "[encoded data removed]",
      "text/plain": [
       "<Figure size 640x480 with 1 Axes>"
      ]
     },
     "metadata": {},
     "output_type": "display_data"
    }
   ],
   "source": [
    "sns.countplot(data=train, x='Embarked', hue='Pclass')"
   ]
  },
  {
   "cell_type": "code",
   "execution_count": 40,
   "id": "4f712fab",
   "metadata": {
    "ExecuteTime": {
     "end_time": "2023-02-07T06:35:20.908038Z",
     "start_time": "2023-02-07T06:35:20.816436Z"
    }
   },
   "outputs": [
    {
     "data": {
      "text/plain": [
       "<AxesSubplot:xlabel='Sex', ylabel='count'>"
      ]
     },
     "execution_count": 40,
     "metadata": {},
     "output_type": "execute_result"
    },
    {
     "data": {
      "image/png": "[encoded data removed]",
      "text/plain": [
       "<Figure size 640x480 with 1 Axes>"
      ]
     },
     "metadata": {},
     "output_type": "display_data"
    }
   ],
   "source": [
    "sns.countplot(data=train, x='Sex', hue='Survived')"
   ]
  },
  {
   "cell_type": "markdown",
   "id": "81386208",
   "metadata": {},
   "source": [
    "#### 수치형 데이터\n",
    "- 구간을 나눠서 종합하는 히스토그램\n",
    "- 커널밀도추정 그래프"
   ]
  },
  {
   "cell_type": "code",
   "execution_count": 41,
   "id": "60f68cec",
   "metadata": {
    "ExecuteTime": {
     "end_time": "2023-02-07T06:35:20.923508Z",
     "start_time": "2023-02-07T06:35:20.909684Z"
    }
   },
   "outputs": [],
   "source": [
    "import matplotlib.pyplot as plt"
   ]
  },
  {
   "cell_type": "code",
   "execution_count": 42,
   "id": "9f9a918c",
   "metadata": {
    "ExecuteTime": {
     "end_time": "2023-02-07T06:35:21.016238Z",
     "start_time": "2023-02-07T06:35:20.924588Z"
    },
    "scrolled": true
   },
   "outputs": [
    {
     "data": {
      "image/png": "[encoded data removed]",
      "text/plain": [
       "<Figure size 640x480 with 1 Axes>"
      ]
     },
     "metadata": {},
     "output_type": "display_data"
    }
   ],
   "source": [
    "plt.hist(train['Age'])\n",
    "plt.show()"
   ]
  },
  {
   "cell_type": "markdown",
   "id": "f14997c6",
   "metadata": {
    "ExecuteTime": {
     "end_time": "2023-02-01T07:24:43.919185Z",
     "start_time": "2023-02-01T07:24:43.836053Z"
    }
   },
   "source": [
    "##### Age 시각화"
   ]
  },
  {
   "cell_type": "code",
   "execution_count": 43,
   "id": "d6338837",
   "metadata": {
    "ExecuteTime": {
     "end_time": "2023-02-07T06:35:21.154584Z",
     "start_time": "2023-02-07T06:35:21.017512Z"
    },
    "scrolled": false
   },
   "outputs": [
    {
     "data": {
      "text/plain": [
       "<AxesSubplot:xlabel='Sex', ylabel='Age'>"
      ]
     },
     "execution_count": 43,
     "metadata": {},
     "output_type": "execute_result"
    },
    {
     "data": {
      "image/png": "[encoded data removed]",
      "text/plain": [
       "<Figure size 640x480 with 1 Axes>"
      ]
     },
     "metadata": {},
     "output_type": "display_data"
    }
   ],
   "source": [
    "sns.violinplot(data=train, y='Age', x='Sex', hue='Survived', split=True)"
   ]
  },
  {
   "cell_type": "markdown",
   "id": "dca3db53",
   "metadata": {},
   "source": [
    "- 남성은 20대가 조금 더 많이 사망\n",
    "- 어린아이 중에서는 남자아이가 여자아이보다 상대적으로 생존 확률이 높다.(시대적 배경?)"
   ]
  },
  {
   "cell_type": "markdown",
   "id": "ea738ce8",
   "metadata": {},
   "source": [
    "##### Fare 시각화"
   ]
  },
  {
   "cell_type": "code",
   "execution_count": 44,
   "id": "7e4c3639",
   "metadata": {
    "ExecuteTime": {
     "end_time": "2023-02-07T06:35:21.260819Z",
     "start_time": "2023-02-07T06:35:21.157131Z"
    }
   },
   "outputs": [
    {
     "data": {
      "text/plain": [
       "<AxesSubplot:xlabel='Sex', ylabel='Fare'>"
      ]
     },
     "execution_count": 44,
     "metadata": {},
     "output_type": "execute_result"
    },
    {
     "data": {
      "image/png": "[encoded data removed]",
      "text/plain": [
       "<Figure size 640x480 with 1 Axes>"
      ]
     },
     "metadata": {},
     "output_type": "display_data"
    }
   ],
   "source": [
    "sns.violinplot(data=train, y='Fare', x='Sex', hue='Survived', split=True)"
   ]
  },
  {
   "cell_type": "markdown",
   "id": "81500e0d",
   "metadata": {},
   "source": [
    "- 낮은 요금을 지불한 탑승객들이 많이 사망했다.\n",
    "- 전체 요금이 0~40달러 사이에 많이 분포되어 있다."
   ]
  },
  {
   "cell_type": "markdown",
   "id": "6638715f",
   "metadata": {},
   "source": [
    "#### 특성공학\n",
    "- SibSp, Parch를 합쳐서 가족이라는 새로운 컬럼 생성"
   ]
  },
  {
   "cell_type": "code",
   "execution_count": 45,
   "id": "0935aae0",
   "metadata": {
    "ExecuteTime": {
     "end_time": "2023-02-07T06:35:21.275748Z",
     "start_time": "2023-02-07T06:35:21.261982Z"
    }
   },
   "outputs": [],
   "source": [
    "# 가족의 수 (새 컬럼 생성)\n",
    "train['Family_Size'] = train['SibSp'] + train['Parch'] + 1"
   ]
  },
  {
   "cell_type": "code",
   "execution_count": 46,
   "id": "4543967e",
   "metadata": {
    "ExecuteTime": {
     "end_time": "2023-02-07T06:35:21.290668Z",
     "start_time": "2023-02-07T06:35:21.277321Z"
    }
   },
   "outputs": [],
   "source": [
    "test['Family_Size'] = test['SibSp'] + test['Parch'] + 1"
   ]
  },
  {
   "cell_type": "code",
   "execution_count": 47,
   "id": "f2aeb127",
   "metadata": {
    "ExecuteTime": {
     "end_time": "2023-02-07T06:35:21.305708Z",
     "start_time": "2023-02-07T06:35:21.293189Z"
    }
   },
   "outputs": [
    {
     "data": {
      "text/html": [
       "<div>\n",
       "<style scoped>\n",
       "    .dataframe tbody tr th:only-of-type {\n",
       "        vertical-align: middle;\n",
       "    }\n",
       "\n",
       "    .dataframe tbody tr th {\n",
       "        vertical-align: top;\n",
       "    }\n",
       "\n",
       "    .dataframe thead th {\n",
       "        text-align: right;\n",
       "    }\n",
       "</style>\n",
       "<table border=\"1\" class=\"dataframe\">\n",
       "  <thead>\n",
       "    <tr style=\"text-align: right;\">\n",
       "      <th></th>\n",
       "      <th>Survived</th>\n",
       "      <th>Pclass</th>\n",
       "      <th>Name</th>\n",
       "      <th>Sex</th>\n",
       "      <th>Age</th>\n",
       "      <th>SibSp</th>\n",
       "      <th>Parch</th>\n",
       "      <th>Ticket</th>\n",
       "      <th>Fare</th>\n",
       "      <th>Cabin</th>\n",
       "      <th>Embarked</th>\n",
       "      <th>Family_Size</th>\n",
       "    </tr>\n",
       "    <tr>\n",
       "      <th>PassengerId</th>\n",
       "      <th></th>\n",
       "      <th></th>\n",
       "      <th></th>\n",
       "      <th></th>\n",
       "      <th></th>\n",
       "      <th></th>\n",
       "      <th></th>\n",
       "      <th></th>\n",
       "      <th></th>\n",
       "      <th></th>\n",
       "      <th></th>\n",
       "      <th></th>\n",
       "    </tr>\n",
       "  </thead>\n",
       "  <tbody>\n",
       "    <tr>\n",
       "      <th>1</th>\n",
       "      <td>0</td>\n",
       "      <td>3</td>\n",
       "      <td>Braund, Mr. Owen Harris</td>\n",
       "      <td>male</td>\n",
       "      <td>22</td>\n",
       "      <td>1</td>\n",
       "      <td>0</td>\n",
       "      <td>A/5 21171</td>\n",
       "      <td>7.25</td>\n",
       "      <td>M</td>\n",
       "      <td>S</td>\n",
       "      <td>2</td>\n",
       "    </tr>\n",
       "  </tbody>\n",
       "</table>\n",
       "</div>"
      ],
      "text/plain": [
       "             Survived  Pclass                     Name   Sex  Age  SibSp  \\\n",
       "PassengerId                                                                \n",
       "1                   0       3  Braund, Mr. Owen Harris  male   22      1   \n",
       "\n",
       "             Parch     Ticket  Fare Cabin Embarked  Family_Size  \n",
       "PassengerId                                                      \n",
       "1                0  A/5 21171  7.25     M        S            2  "
      ]
     },
     "execution_count": 47,
     "metadata": {},
     "output_type": "execute_result"
    }
   ],
   "source": [
    "train.head(1)"
   ]
  },
  {
   "cell_type": "code",
   "execution_count": 48,
   "id": "f39764b9",
   "metadata": {
    "ExecuteTime": {
     "end_time": "2023-02-07T06:35:21.426311Z",
     "start_time": "2023-02-07T06:35:21.307226Z"
    }
   },
   "outputs": [
    {
     "data": {
      "text/plain": [
       "<AxesSubplot:xlabel='Family_Size', ylabel='count'>"
      ]
     },
     "execution_count": 48,
     "metadata": {},
     "output_type": "execute_result"
    },
    {
     "data": {
      "image/png": "[encoded data removed]",
      "text/plain": [
       "<Figure size 640x480 with 1 Axes>"
      ]
     },
     "metadata": {},
     "output_type": "display_data"
    }
   ],
   "source": [
    "sns.countplot(data=train, x='Family_Size', hue='Survived')"
   ]
  },
  {
   "cell_type": "markdown",
   "id": "157f111b",
   "metadata": {},
   "source": [
    "- 1명일 경우 사망자가 훨씬 많다.\n",
    "- 2~4명일 경우 생존자가 조금 더 많다.\n",
    "- 5명 이상일 경우 사망자가 더 많다.\n",
    "- Family_Size라는 수치 데이터를 그대로 사용할 수도 있지만, 범주형 데이터로 변환시켜보자!\n",
    "- Binning(수치형 -> 범주형) : 사소한 관찰 오류를 줄일 수 있음(모델의 단순화 유도)"
   ]
  },
  {
   "cell_type": "markdown",
   "id": "7d66771d",
   "metadata": {},
   "source": [
    "#### 특성공학\n",
    "- Family_Size가 1이면 Alone, 2~4이면 Small, 5명 이상이면 Large 범주로 변경.\n",
    "- cut 함수 활용"
   ]
  },
  {
   "cell_type": "code",
   "execution_count": 49,
   "id": "cc436fa0",
   "metadata": {
    "ExecuteTime": {
     "end_time": "2023-02-07T06:35:21.442328Z",
     "start_time": "2023-02-07T06:35:21.427307Z"
    }
   },
   "outputs": [],
   "source": [
    "bins = [0, 1, 4, 20]                      # 구간\n",
    "labels = ['Alone', 'Small', 'Large']      # 구간 별 범주 이름\n",
    "train['Family_Group'] = pd.cut(x = train['Family_Size'],\n",
    "      bins = bins,\n",
    "      labels = labels)"
   ]
  },
  {
   "cell_type": "code",
   "execution_count": 50,
   "id": "d7c29bff",
   "metadata": {
    "ExecuteTime": {
     "end_time": "2023-02-07T06:35:21.457831Z",
     "start_time": "2023-02-07T06:35:21.443543Z"
    }
   },
   "outputs": [
    {
     "data": {
      "text/html": [
       "<div>\n",
       "<style scoped>\n",
       "    .dataframe tbody tr th:only-of-type {\n",
       "        vertical-align: middle;\n",
       "    }\n",
       "\n",
       "    .dataframe tbody tr th {\n",
       "        vertical-align: top;\n",
       "    }\n",
       "\n",
       "    .dataframe thead th {\n",
       "        text-align: right;\n",
       "    }\n",
       "</style>\n",
       "<table border=\"1\" class=\"dataframe\">\n",
       "  <thead>\n",
       "    <tr style=\"text-align: right;\">\n",
       "      <th></th>\n",
       "      <th>Pclass</th>\n",
       "      <th>Name</th>\n",
       "      <th>Sex</th>\n",
       "      <th>Age</th>\n",
       "      <th>SibSp</th>\n",
       "      <th>Parch</th>\n",
       "      <th>Ticket</th>\n",
       "      <th>Fare</th>\n",
       "      <th>Cabin</th>\n",
       "      <th>Embarked</th>\n",
       "      <th>Family_Size</th>\n",
       "    </tr>\n",
       "    <tr>\n",
       "      <th>PassengerId</th>\n",
       "      <th></th>\n",
       "      <th></th>\n",
       "      <th></th>\n",
       "      <th></th>\n",
       "      <th></th>\n",
       "      <th></th>\n",
       "      <th></th>\n",
       "      <th></th>\n",
       "      <th></th>\n",
       "      <th></th>\n",
       "      <th></th>\n",
       "    </tr>\n",
       "  </thead>\n",
       "  <tbody>\n",
       "    <tr>\n",
       "      <th>892</th>\n",
       "      <td>3</td>\n",
       "      <td>Kelly, Mr. James</td>\n",
       "      <td>male</td>\n",
       "      <td>34</td>\n",
       "      <td>0</td>\n",
       "      <td>0</td>\n",
       "      <td>330911</td>\n",
       "      <td>7.8292</td>\n",
       "      <td>M</td>\n",
       "      <td>Q</td>\n",
       "      <td>1</td>\n",
       "    </tr>\n",
       "  </tbody>\n",
       "</table>\n",
       "</div>"
      ],
      "text/plain": [
       "             Pclass              Name   Sex  Age  SibSp  Parch  Ticket  \\\n",
       "PassengerId                                                              \n",
       "892               3  Kelly, Mr. James  male   34      0      0  330911   \n",
       "\n",
       "               Fare Cabin Embarked  Family_Size  \n",
       "PassengerId                                      \n",
       "892          7.8292     M        Q            1  "
      ]
     },
     "execution_count": 50,
     "metadata": {},
     "output_type": "execute_result"
    }
   ],
   "source": [
    "test.head(1)"
   ]
  },
  {
   "cell_type": "code",
   "execution_count": 51,
   "id": "9e969d42",
   "metadata": {
    "ExecuteTime": {
     "end_time": "2023-02-07T06:35:21.473494Z",
     "start_time": "2023-02-07T06:35:21.460381Z"
    }
   },
   "outputs": [],
   "source": [
    "test['Family_Group'] = pd.cut(x = test['Family_Size'],\n",
    "      bins = bins,\n",
    "      labels = labels)"
   ]
  },
  {
   "cell_type": "code",
   "execution_count": 52,
   "id": "5b9eca59",
   "metadata": {
    "ExecuteTime": {
     "end_time": "2023-02-07T06:35:21.488621Z",
     "start_time": "2023-02-07T06:35:21.474456Z"
    }
   },
   "outputs": [
    {
     "data": {
      "text/html": [
       "<div>\n",
       "<style scoped>\n",
       "    .dataframe tbody tr th:only-of-type {\n",
       "        vertical-align: middle;\n",
       "    }\n",
       "\n",
       "    .dataframe tbody tr th {\n",
       "        vertical-align: top;\n",
       "    }\n",
       "\n",
       "    .dataframe thead th {\n",
       "        text-align: right;\n",
       "    }\n",
       "</style>\n",
       "<table border=\"1\" class=\"dataframe\">\n",
       "  <thead>\n",
       "    <tr style=\"text-align: right;\">\n",
       "      <th></th>\n",
       "      <th>Survived</th>\n",
       "      <th>Pclass</th>\n",
       "      <th>Name</th>\n",
       "      <th>Sex</th>\n",
       "      <th>Age</th>\n",
       "      <th>SibSp</th>\n",
       "      <th>Parch</th>\n",
       "      <th>Ticket</th>\n",
       "      <th>Fare</th>\n",
       "      <th>Cabin</th>\n",
       "      <th>Embarked</th>\n",
       "      <th>Family_Size</th>\n",
       "      <th>Family_Group</th>\n",
       "    </tr>\n",
       "    <tr>\n",
       "      <th>PassengerId</th>\n",
       "      <th></th>\n",
       "      <th></th>\n",
       "      <th></th>\n",
       "      <th></th>\n",
       "      <th></th>\n",
       "      <th></th>\n",
       "      <th></th>\n",
       "      <th></th>\n",
       "      <th></th>\n",
       "      <th></th>\n",
       "      <th></th>\n",
       "      <th></th>\n",
       "      <th></th>\n",
       "    </tr>\n",
       "  </thead>\n",
       "  <tbody>\n",
       "    <tr>\n",
       "      <th>1</th>\n",
       "      <td>0</td>\n",
       "      <td>3</td>\n",
       "      <td>Braund, Mr. Owen Harris</td>\n",
       "      <td>male</td>\n",
       "      <td>22</td>\n",
       "      <td>1</td>\n",
       "      <td>0</td>\n",
       "      <td>A/5 21171</td>\n",
       "      <td>7.2500</td>\n",
       "      <td>M</td>\n",
       "      <td>S</td>\n",
       "      <td>2</td>\n",
       "      <td>Small</td>\n",
       "    </tr>\n",
       "    <tr>\n",
       "      <th>2</th>\n",
       "      <td>1</td>\n",
       "      <td>1</td>\n",
       "      <td>Cumings, Mrs. John Bradley (Florence Briggs Th...</td>\n",
       "      <td>female</td>\n",
       "      <td>38</td>\n",
       "      <td>1</td>\n",
       "      <td>0</td>\n",
       "      <td>PC 17599</td>\n",
       "      <td>71.2833</td>\n",
       "      <td>C</td>\n",
       "      <td>C</td>\n",
       "      <td>2</td>\n",
       "      <td>Small</td>\n",
       "    </tr>\n",
       "    <tr>\n",
       "      <th>3</th>\n",
       "      <td>1</td>\n",
       "      <td>3</td>\n",
       "      <td>Heikkinen, Miss. Laina</td>\n",
       "      <td>female</td>\n",
       "      <td>26</td>\n",
       "      <td>0</td>\n",
       "      <td>0</td>\n",
       "      <td>STON/O2. 3101282</td>\n",
       "      <td>7.9250</td>\n",
       "      <td>M</td>\n",
       "      <td>S</td>\n",
       "      <td>1</td>\n",
       "      <td>Alone</td>\n",
       "    </tr>\n",
       "    <tr>\n",
       "      <th>4</th>\n",
       "      <td>1</td>\n",
       "      <td>1</td>\n",
       "      <td>Futrelle, Mrs. Jacques Heath (Lily May Peel)</td>\n",
       "      <td>female</td>\n",
       "      <td>35</td>\n",
       "      <td>1</td>\n",
       "      <td>0</td>\n",
       "      <td>113803</td>\n",
       "      <td>53.1000</td>\n",
       "      <td>C</td>\n",
       "      <td>S</td>\n",
       "      <td>2</td>\n",
       "      <td>Small</td>\n",
       "    </tr>\n",
       "    <tr>\n",
       "      <th>5</th>\n",
       "      <td>0</td>\n",
       "      <td>3</td>\n",
       "      <td>Allen, Mr. William Henry</td>\n",
       "      <td>male</td>\n",
       "      <td>35</td>\n",
       "      <td>0</td>\n",
       "      <td>0</td>\n",
       "      <td>373450</td>\n",
       "      <td>8.0500</td>\n",
       "      <td>M</td>\n",
       "      <td>S</td>\n",
       "      <td>1</td>\n",
       "      <td>Alone</td>\n",
       "    </tr>\n",
       "  </tbody>\n",
       "</table>\n",
       "</div>"
      ],
      "text/plain": [
       "             Survived  Pclass  \\\n",
       "PassengerId                     \n",
       "1                   0       3   \n",
       "2                   1       1   \n",
       "3                   1       3   \n",
       "4                   1       1   \n",
       "5                   0       3   \n",
       "\n",
       "                                                          Name     Sex  Age  \\\n",
       "PassengerId                                                                   \n",
       "1                                      Braund, Mr. Owen Harris    male   22   \n",
       "2            Cumings, Mrs. John Bradley (Florence Briggs Th...  female   38   \n",
       "3                                       Heikkinen, Miss. Laina  female   26   \n",
       "4                 Futrelle, Mrs. Jacques Heath (Lily May Peel)  female   35   \n",
       "5                                     Allen, Mr. William Henry    male   35   \n",
       "\n",
       "             SibSp  Parch            Ticket     Fare Cabin Embarked  \\\n",
       "PassengerId                                                           \n",
       "1                1      0         A/5 21171   7.2500     M        S   \n",
       "2                1      0          PC 17599  71.2833     C        C   \n",
       "3                0      0  STON/O2. 3101282   7.9250     M        S   \n",
       "4                1      0            113803  53.1000     C        S   \n",
       "5                0      0            373450   8.0500     M        S   \n",
       "\n",
       "             Family_Size Family_Group  \n",
       "PassengerId                            \n",
       "1                      2        Small  \n",
       "2                      2        Small  \n",
       "3                      1        Alone  \n",
       "4                      2        Small  \n",
       "5                      1        Alone  "
      ]
     },
     "execution_count": 52,
     "metadata": {},
     "output_type": "execute_result"
    }
   ],
   "source": [
    "train.head(5)"
   ]
  },
  {
   "cell_type": "markdown",
   "id": "8ccb326e",
   "metadata": {},
   "source": [
    "#### 특성공학\n",
    "- text데이터 다루기  (비정형 데이터)\n",
    "- Name 컬럼 : 중간의 호칭만 추출하여 정형화 시키자!"
   ]
  },
  {
   "cell_type": "code",
   "execution_count": 53,
   "id": "c201d5fa",
   "metadata": {
    "ExecuteTime": {
     "end_time": "2023-02-07T06:35:21.503391Z",
     "start_time": "2023-02-07T06:35:21.489795Z"
    }
   },
   "outputs": [
    {
     "data": {
      "text/plain": [
       "PassengerId\n",
       "1                                Braund, Mr. Owen Harris\n",
       "2      Cumings, Mrs. John Bradley (Florence Briggs Th...\n",
       "3                                 Heikkinen, Miss. Laina\n",
       "4           Futrelle, Mrs. Jacques Heath (Lily May Peel)\n",
       "5                               Allen, Mr. William Henry\n",
       "                             ...                        \n",
       "887                                Montvila, Rev. Juozas\n",
       "888                         Graham, Miss. Margaret Edith\n",
       "889             Johnston, Miss. Catherine Helen \"Carrie\"\n",
       "890                                Behr, Mr. Karl Howell\n",
       "891                                  Dooley, Mr. Patrick\n",
       "Name: Name, Length: 891, dtype: object"
      ]
     },
     "execution_count": 53,
     "metadata": {},
     "output_type": "execute_result"
    }
   ],
   "source": [
    "train['Name']"
   ]
  },
  {
   "cell_type": "markdown",
   "id": "06759804",
   "metadata": {},
   "source": [
    "- 호칭만 추출하기"
   ]
  },
  {
   "cell_type": "code",
   "execution_count": 54,
   "id": "f0e04c14",
   "metadata": {
    "ExecuteTime": {
     "end_time": "2023-02-07T06:35:21.519140Z",
     "start_time": "2023-02-07T06:35:21.504356Z"
    }
   },
   "outputs": [
    {
     "data": {
      "text/plain": [
       "['Braund', ' Mr. Owen Harris']"
      ]
     },
     "execution_count": 54,
     "metadata": {},
     "output_type": "execute_result"
    }
   ],
   "source": [
    "'Braund, Mr. Owen Harris'.split(',')"
   ]
  },
  {
   "cell_type": "code",
   "execution_count": 55,
   "id": "883291f1",
   "metadata": {
    "ExecuteTime": {
     "end_time": "2023-02-07T06:35:21.534137Z",
     "start_time": "2023-02-07T06:35:21.521056Z"
    }
   },
   "outputs": [
    {
     "data": {
      "text/plain": [
       "' Mr. Owen Harris'"
      ]
     },
     "execution_count": 55,
     "metadata": {},
     "output_type": "execute_result"
    }
   ],
   "source": [
    "'Braund, Mr. Owen Harris'.split(',')[1]"
   ]
  },
  {
   "cell_type": "code",
   "execution_count": 56,
   "id": "95184f01",
   "metadata": {
    "ExecuteTime": {
     "end_time": "2023-02-07T06:35:21.548968Z",
     "start_time": "2023-02-07T06:35:21.535503Z"
    }
   },
   "outputs": [
    {
     "data": {
      "text/plain": [
       "[' Mr', ' Owen Harris']"
      ]
     },
     "execution_count": 56,
     "metadata": {},
     "output_type": "execute_result"
    }
   ],
   "source": [
    "'Braund, Mr. Owen Harris'.split(',')[1].split('.')"
   ]
  },
  {
   "cell_type": "code",
   "execution_count": 57,
   "id": "727d9253",
   "metadata": {
    "ExecuteTime": {
     "end_time": "2023-02-07T06:35:21.564260Z",
     "start_time": "2023-02-07T06:35:21.551029Z"
    }
   },
   "outputs": [
    {
     "data": {
      "text/plain": [
       "' Mr'"
      ]
     },
     "execution_count": 57,
     "metadata": {},
     "output_type": "execute_result"
    }
   ],
   "source": [
    "'Braund, Mr. Owen Harris'.split(',')[1].split('.')[0]"
   ]
  },
  {
   "cell_type": "code",
   "execution_count": 58,
   "id": "c455e405",
   "metadata": {
    "ExecuteTime": {
     "end_time": "2023-02-07T06:35:21.579519Z",
     "start_time": "2023-02-07T06:35:21.565884Z"
    }
   },
   "outputs": [
    {
     "data": {
      "text/plain": [
       "'Mr'"
      ]
     },
     "execution_count": 58,
     "metadata": {},
     "output_type": "execute_result"
    }
   ],
   "source": [
    "'Braund, Mr. Owen Harris'.split(',')[1].split('.')[0].strip()    # 공백 지우기"
   ]
  },
  {
   "cell_type": "code",
   "execution_count": 59,
   "id": "d0f4d579",
   "metadata": {
    "ExecuteTime": {
     "end_time": "2023-02-07T06:35:21.594697Z",
     "start_time": "2023-02-07T06:35:21.580529Z"
    }
   },
   "outputs": [],
   "source": [
    "def split_title(row):\n",
    "    return row.split(',')[1].split('.')[0].strip()"
   ]
  },
  {
   "cell_type": "code",
   "execution_count": 60,
   "id": "7383797a",
   "metadata": {
    "ExecuteTime": {
     "end_time": "2023-02-07T06:35:21.610101Z",
     "start_time": "2023-02-07T06:35:21.596702Z"
    }
   },
   "outputs": [
    {
     "data": {
      "text/plain": [
       "PassengerId\n",
       "1        Mr\n",
       "2       Mrs\n",
       "3      Miss\n",
       "4       Mrs\n",
       "5        Mr\n",
       "       ... \n",
       "887     Rev\n",
       "888    Miss\n",
       "889    Miss\n",
       "890      Mr\n",
       "891      Mr\n",
       "Name: Name, Length: 891, dtype: object"
      ]
     },
     "execution_count": 60,
     "metadata": {},
     "output_type": "execute_result"
    }
   ],
   "source": [
    "train['Name'].apply(split_title)"
   ]
  },
  {
   "cell_type": "code",
   "execution_count": 61,
   "id": "ae810f08",
   "metadata": {
    "ExecuteTime": {
     "end_time": "2023-02-07T06:35:21.625215Z",
     "start_time": "2023-02-07T06:35:21.612125Z"
    }
   },
   "outputs": [
    {
     "data": {
      "text/html": [
       "<div>\n",
       "<style scoped>\n",
       "    .dataframe tbody tr th:only-of-type {\n",
       "        vertical-align: middle;\n",
       "    }\n",
       "\n",
       "    .dataframe tbody tr th {\n",
       "        vertical-align: top;\n",
       "    }\n",
       "\n",
       "    .dataframe thead th {\n",
       "        text-align: right;\n",
       "    }\n",
       "</style>\n",
       "<table border=\"1\" class=\"dataframe\">\n",
       "  <thead>\n",
       "    <tr style=\"text-align: right;\">\n",
       "      <th></th>\n",
       "      <th>Survived</th>\n",
       "      <th>Pclass</th>\n",
       "      <th>Name</th>\n",
       "      <th>Sex</th>\n",
       "      <th>Age</th>\n",
       "      <th>SibSp</th>\n",
       "      <th>Parch</th>\n",
       "      <th>Ticket</th>\n",
       "      <th>Fare</th>\n",
       "      <th>Cabin</th>\n",
       "      <th>Embarked</th>\n",
       "      <th>Family_Size</th>\n",
       "      <th>Family_Group</th>\n",
       "    </tr>\n",
       "    <tr>\n",
       "      <th>PassengerId</th>\n",
       "      <th></th>\n",
       "      <th></th>\n",
       "      <th></th>\n",
       "      <th></th>\n",
       "      <th></th>\n",
       "      <th></th>\n",
       "      <th></th>\n",
       "      <th></th>\n",
       "      <th></th>\n",
       "      <th></th>\n",
       "      <th></th>\n",
       "      <th></th>\n",
       "      <th></th>\n",
       "    </tr>\n",
       "  </thead>\n",
       "  <tbody>\n",
       "    <tr>\n",
       "      <th>1</th>\n",
       "      <td>0</td>\n",
       "      <td>3</td>\n",
       "      <td>Braund, Mr. Owen Harris</td>\n",
       "      <td>male</td>\n",
       "      <td>22</td>\n",
       "      <td>1</td>\n",
       "      <td>0</td>\n",
       "      <td>A/5 21171</td>\n",
       "      <td>7.25</td>\n",
       "      <td>M</td>\n",
       "      <td>S</td>\n",
       "      <td>2</td>\n",
       "      <td>Small</td>\n",
       "    </tr>\n",
       "  </tbody>\n",
       "</table>\n",
       "</div>"
      ],
      "text/plain": [
       "             Survived  Pclass                     Name   Sex  Age  SibSp  \\\n",
       "PassengerId                                                                \n",
       "1                   0       3  Braund, Mr. Owen Harris  male   22      1   \n",
       "\n",
       "             Parch     Ticket  Fare Cabin Embarked  Family_Size Family_Group  \n",
       "PassengerId                                                                   \n",
       "1                0  A/5 21171  7.25     M        S            2        Small  "
      ]
     },
     "execution_count": 61,
     "metadata": {},
     "output_type": "execute_result"
    }
   ],
   "source": [
    "train.head(1)"
   ]
  },
  {
   "cell_type": "code",
   "execution_count": 62,
   "id": "748eebfe",
   "metadata": {
    "ExecuteTime": {
     "end_time": "2023-02-07T06:35:21.640893Z",
     "start_time": "2023-02-07T06:35:21.626208Z"
    }
   },
   "outputs": [],
   "source": [
    "train['Title'] = train['Name'].apply(split_title)"
   ]
  },
  {
   "cell_type": "code",
   "execution_count": 63,
   "id": "223b9008",
   "metadata": {
    "ExecuteTime": {
     "end_time": "2023-02-07T06:35:21.656406Z",
     "start_time": "2023-02-07T06:35:21.642851Z"
    }
   },
   "outputs": [
    {
     "data": {
      "text/html": [
       "<div>\n",
       "<style scoped>\n",
       "    .dataframe tbody tr th:only-of-type {\n",
       "        vertical-align: middle;\n",
       "    }\n",
       "\n",
       "    .dataframe tbody tr th {\n",
       "        vertical-align: top;\n",
       "    }\n",
       "\n",
       "    .dataframe thead th {\n",
       "        text-align: right;\n",
       "    }\n",
       "</style>\n",
       "<table border=\"1\" class=\"dataframe\">\n",
       "  <thead>\n",
       "    <tr style=\"text-align: right;\">\n",
       "      <th></th>\n",
       "      <th>Survived</th>\n",
       "      <th>Pclass</th>\n",
       "      <th>Name</th>\n",
       "      <th>Sex</th>\n",
       "      <th>Age</th>\n",
       "      <th>SibSp</th>\n",
       "      <th>Parch</th>\n",
       "      <th>Ticket</th>\n",
       "      <th>Fare</th>\n",
       "      <th>Cabin</th>\n",
       "      <th>Embarked</th>\n",
       "      <th>Family_Size</th>\n",
       "      <th>Family_Group</th>\n",
       "      <th>Title</th>\n",
       "    </tr>\n",
       "    <tr>\n",
       "      <th>PassengerId</th>\n",
       "      <th></th>\n",
       "      <th></th>\n",
       "      <th></th>\n",
       "      <th></th>\n",
       "      <th></th>\n",
       "      <th></th>\n",
       "      <th></th>\n",
       "      <th></th>\n",
       "      <th></th>\n",
       "      <th></th>\n",
       "      <th></th>\n",
       "      <th></th>\n",
       "      <th></th>\n",
       "      <th></th>\n",
       "    </tr>\n",
       "  </thead>\n",
       "  <tbody>\n",
       "    <tr>\n",
       "      <th>1</th>\n",
       "      <td>0</td>\n",
       "      <td>3</td>\n",
       "      <td>Braund, Mr. Owen Harris</td>\n",
       "      <td>male</td>\n",
       "      <td>22</td>\n",
       "      <td>1</td>\n",
       "      <td>0</td>\n",
       "      <td>A/5 21171</td>\n",
       "      <td>7.25</td>\n",
       "      <td>M</td>\n",
       "      <td>S</td>\n",
       "      <td>2</td>\n",
       "      <td>Small</td>\n",
       "      <td>Mr</td>\n",
       "    </tr>\n",
       "  </tbody>\n",
       "</table>\n",
       "</div>"
      ],
      "text/plain": [
       "             Survived  Pclass                     Name   Sex  Age  SibSp  \\\n",
       "PassengerId                                                                \n",
       "1                   0       3  Braund, Mr. Owen Harris  male   22      1   \n",
       "\n",
       "             Parch     Ticket  Fare Cabin Embarked  Family_Size Family_Group  \\\n",
       "PassengerId                                                                    \n",
       "1                0  A/5 21171  7.25     M        S            2        Small   \n",
       "\n",
       "            Title  \n",
       "PassengerId        \n",
       "1              Mr  "
      ]
     },
     "execution_count": 63,
     "metadata": {},
     "output_type": "execute_result"
    }
   ],
   "source": [
    "train.head(1)"
   ]
  },
  {
   "cell_type": "code",
   "execution_count": 64,
   "id": "47ac3030",
   "metadata": {
    "ExecuteTime": {
     "end_time": "2023-02-07T06:35:21.671401Z",
     "start_time": "2023-02-07T06:35:21.658947Z"
    }
   },
   "outputs": [],
   "source": [
    "test['Title'] = test['Name'].apply(split_title)"
   ]
  },
  {
   "cell_type": "code",
   "execution_count": 65,
   "id": "82690f82",
   "metadata": {
    "ExecuteTime": {
     "end_time": "2023-02-07T06:35:21.686524Z",
     "start_time": "2023-02-07T06:35:21.672407Z"
    }
   },
   "outputs": [
    {
     "data": {
      "text/html": [
       "<div>\n",
       "<style scoped>\n",
       "    .dataframe tbody tr th:only-of-type {\n",
       "        vertical-align: middle;\n",
       "    }\n",
       "\n",
       "    .dataframe tbody tr th {\n",
       "        vertical-align: top;\n",
       "    }\n",
       "\n",
       "    .dataframe thead th {\n",
       "        text-align: right;\n",
       "    }\n",
       "</style>\n",
       "<table border=\"1\" class=\"dataframe\">\n",
       "  <thead>\n",
       "    <tr style=\"text-align: right;\">\n",
       "      <th></th>\n",
       "      <th>Pclass</th>\n",
       "      <th>Name</th>\n",
       "      <th>Sex</th>\n",
       "      <th>Age</th>\n",
       "      <th>SibSp</th>\n",
       "      <th>Parch</th>\n",
       "      <th>Ticket</th>\n",
       "      <th>Fare</th>\n",
       "      <th>Cabin</th>\n",
       "      <th>Embarked</th>\n",
       "      <th>Family_Size</th>\n",
       "      <th>Family_Group</th>\n",
       "      <th>Title</th>\n",
       "    </tr>\n",
       "    <tr>\n",
       "      <th>PassengerId</th>\n",
       "      <th></th>\n",
       "      <th></th>\n",
       "      <th></th>\n",
       "      <th></th>\n",
       "      <th></th>\n",
       "      <th></th>\n",
       "      <th></th>\n",
       "      <th></th>\n",
       "      <th></th>\n",
       "      <th></th>\n",
       "      <th></th>\n",
       "      <th></th>\n",
       "      <th></th>\n",
       "    </tr>\n",
       "  </thead>\n",
       "  <tbody>\n",
       "    <tr>\n",
       "      <th>892</th>\n",
       "      <td>3</td>\n",
       "      <td>Kelly, Mr. James</td>\n",
       "      <td>male</td>\n",
       "      <td>34</td>\n",
       "      <td>0</td>\n",
       "      <td>0</td>\n",
       "      <td>330911</td>\n",
       "      <td>7.8292</td>\n",
       "      <td>M</td>\n",
       "      <td>Q</td>\n",
       "      <td>1</td>\n",
       "      <td>Alone</td>\n",
       "      <td>Mr</td>\n",
       "    </tr>\n",
       "  </tbody>\n",
       "</table>\n",
       "</div>"
      ],
      "text/plain": [
       "             Pclass              Name   Sex  Age  SibSp  Parch  Ticket  \\\n",
       "PassengerId                                                              \n",
       "892               3  Kelly, Mr. James  male   34      0      0  330911   \n",
       "\n",
       "               Fare Cabin Embarked  Family_Size Family_Group Title  \n",
       "PassengerId                                                         \n",
       "892          7.8292     M        Q            1        Alone    Mr  "
      ]
     },
     "execution_count": 65,
     "metadata": {},
     "output_type": "execute_result"
    }
   ],
   "source": [
    "test.head(1)"
   ]
  },
  {
   "cell_type": "code",
   "execution_count": 66,
   "id": "2454bbdd",
   "metadata": {
    "ExecuteTime": {
     "end_time": "2023-02-07T06:35:21.701965Z",
     "start_time": "2023-02-07T06:35:21.688903Z"
    }
   },
   "outputs": [
    {
     "data": {
      "text/plain": [
       "array(['Mr', 'Mrs', 'Miss', 'Master', 'Don', 'Rev', 'Dr', 'Mme', 'Ms',\n",
       "       'Major', 'Lady', 'Sir', 'Mlle', 'Col', 'Capt', 'the Countess',\n",
       "       'Jonkheer'], dtype=object)"
      ]
     },
     "execution_count": 66,
     "metadata": {},
     "output_type": "execute_result"
    }
   ],
   "source": [
    "train['Title'].unique()"
   ]
  },
  {
   "cell_type": "code",
   "execution_count": 67,
   "id": "950c1b12",
   "metadata": {
    "ExecuteTime": {
     "end_time": "2023-02-07T06:35:21.884069Z",
     "start_time": "2023-02-07T06:35:21.703959Z"
    },
    "scrolled": false
   },
   "outputs": [
    {
     "data": {
      "text/plain": [
       "<AxesSubplot:xlabel='Title', ylabel='count'>"
      ]
     },
     "execution_count": 67,
     "metadata": {},
     "output_type": "execute_result"
    },
    {
     "data": {
      "image/png": "[encoded data removed]",
      "text/plain": [
       "<Figure size 2000x500 with 1 Axes>"
      ]
     },
     "metadata": {},
     "output_type": "display_data"
    }
   ],
   "source": [
    "# 호칭 빈도수 확인(시각화)\n",
    "plt.figure(figsize=(20,5))  # (가로,세로)\n",
    "sns.countplot(data=train,x='Title',hue='Survived')"
   ]
  },
  {
   "cell_type": "code",
   "execution_count": 68,
   "id": "5d2d8d12",
   "metadata": {
    "ExecuteTime": {
     "end_time": "2023-02-07T06:35:22.126802Z",
     "start_time": "2023-02-07T06:35:21.886041Z"
    }
   },
   "outputs": [
    {
     "data": {
      "text/plain": [
       "(0.0, 20.0)"
      ]
     },
     "execution_count": 68,
     "metadata": {},
     "output_type": "execute_result"
    },
    {
     "data": {
      "image/png": "[encoded data removed]",
      "text/plain": [
       "<Figure size 2000x500 with 1 Axes>"
      ]
     },
     "metadata": {},
     "output_type": "display_data"
    }
   ],
   "source": [
    "plt.figure(figsize=(20,5))  # (가로,세로)\n",
    "sns.countplot(data=train,x='Title',hue='Survived')\n",
    "plt.ylim(0, 20)"
   ]
  },
  {
   "cell_type": "markdown",
   "id": "6b923645",
   "metadata": {},
   "source": [
    "- Mr,Mrs,Miss : 성별과 관련이 있는 호칭, 머신러닝 모델 학습에 이용해봐도 괜찮을 것 같다.\n",
    "- 나머지 호칭들은 인원수가 적고 종류가 많아서 범주를 통합시켜봐도 괜찮을 것 같다."
   ]
  },
  {
   "cell_type": "code",
   "execution_count": 69,
   "id": "d5c7ae55",
   "metadata": {
    "ExecuteTime": {
     "end_time": "2023-02-07T06:35:22.142216Z",
     "start_time": "2023-02-07T06:35:22.128916Z"
    }
   },
   "outputs": [],
   "source": [
    "title_dic ={'Mr':'Mr',\n",
    "           'Mrs':'Mrs',\n",
    "           'Miss':'Miss',\n",
    "           'Master':'Master',\n",
    "           'Mme':'Miss',\n",
    "           'Lady':'Miss',\n",
    "           'Don':'Other',\n",
    "            'Rev':'Other',\n",
    "           'Dr':'Other',\n",
    "           'Ms':'Miss',\n",
    "           'Major':'Other',\n",
    "           'Sir':'Other',\n",
    "           'Mlle':'Other',\n",
    "           'Col':'Other',\n",
    "           'Capt':'Other',\n",
    "           'the Countess':'Other',\n",
    "           'Jonkheer':'Other',\n",
    "           'Dona':'Other'}"
   ]
  },
  {
   "cell_type": "code",
   "execution_count": 70,
   "id": "5f366595",
   "metadata": {
    "ExecuteTime": {
     "end_time": "2023-02-07T06:35:22.157471Z",
     "start_time": "2023-02-07T06:35:22.145361Z"
    }
   },
   "outputs": [],
   "source": [
    "# Title을 단순화 시킨 Title2라는 새로운 컬럼 생성\n",
    "train['Title2'] = train['Title'].map(title_dic)"
   ]
  },
  {
   "cell_type": "code",
   "execution_count": 71,
   "id": "c049ee47",
   "metadata": {
    "ExecuteTime": {
     "end_time": "2023-02-07T06:35:22.173367Z",
     "start_time": "2023-02-07T06:35:22.159063Z"
    }
   },
   "outputs": [
    {
     "data": {
      "text/html": [
       "<div>\n",
       "<style scoped>\n",
       "    .dataframe tbody tr th:only-of-type {\n",
       "        vertical-align: middle;\n",
       "    }\n",
       "\n",
       "    .dataframe tbody tr th {\n",
       "        vertical-align: top;\n",
       "    }\n",
       "\n",
       "    .dataframe thead th {\n",
       "        text-align: right;\n",
       "    }\n",
       "</style>\n",
       "<table border=\"1\" class=\"dataframe\">\n",
       "  <thead>\n",
       "    <tr style=\"text-align: right;\">\n",
       "      <th></th>\n",
       "      <th>Survived</th>\n",
       "      <th>Pclass</th>\n",
       "      <th>Name</th>\n",
       "      <th>Sex</th>\n",
       "      <th>Age</th>\n",
       "      <th>SibSp</th>\n",
       "      <th>Parch</th>\n",
       "      <th>Ticket</th>\n",
       "      <th>Fare</th>\n",
       "      <th>Cabin</th>\n",
       "      <th>Embarked</th>\n",
       "      <th>Family_Size</th>\n",
       "      <th>Family_Group</th>\n",
       "      <th>Title</th>\n",
       "      <th>Title2</th>\n",
       "    </tr>\n",
       "    <tr>\n",
       "      <th>PassengerId</th>\n",
       "      <th></th>\n",
       "      <th></th>\n",
       "      <th></th>\n",
       "      <th></th>\n",
       "      <th></th>\n",
       "      <th></th>\n",
       "      <th></th>\n",
       "      <th></th>\n",
       "      <th></th>\n",
       "      <th></th>\n",
       "      <th></th>\n",
       "      <th></th>\n",
       "      <th></th>\n",
       "      <th></th>\n",
       "      <th></th>\n",
       "    </tr>\n",
       "  </thead>\n",
       "  <tbody>\n",
       "    <tr>\n",
       "      <th>1</th>\n",
       "      <td>0</td>\n",
       "      <td>3</td>\n",
       "      <td>Braund, Mr. Owen Harris</td>\n",
       "      <td>male</td>\n",
       "      <td>22</td>\n",
       "      <td>1</td>\n",
       "      <td>0</td>\n",
       "      <td>A/5 21171</td>\n",
       "      <td>7.25</td>\n",
       "      <td>M</td>\n",
       "      <td>S</td>\n",
       "      <td>2</td>\n",
       "      <td>Small</td>\n",
       "      <td>Mr</td>\n",
       "      <td>Mr</td>\n",
       "    </tr>\n",
       "  </tbody>\n",
       "</table>\n",
       "</div>"
      ],
      "text/plain": [
       "             Survived  Pclass                     Name   Sex  Age  SibSp  \\\n",
       "PassengerId                                                                \n",
       "1                   0       3  Braund, Mr. Owen Harris  male   22      1   \n",
       "\n",
       "             Parch     Ticket  Fare Cabin Embarked  Family_Size Family_Group  \\\n",
       "PassengerId                                                                    \n",
       "1                0  A/5 21171  7.25     M        S            2        Small   \n",
       "\n",
       "            Title Title2  \n",
       "PassengerId               \n",
       "1              Mr     Mr  "
      ]
     },
     "execution_count": 71,
     "metadata": {},
     "output_type": "execute_result"
    }
   ],
   "source": [
    "train.head(1)"
   ]
  },
  {
   "cell_type": "code",
   "execution_count": 72,
   "id": "83e4381e",
   "metadata": {
    "ExecuteTime": {
     "end_time": "2023-02-07T06:35:22.188083Z",
     "start_time": "2023-02-07T06:35:22.175284Z"
    }
   },
   "outputs": [
    {
     "data": {
      "text/plain": [
       "array(['Mr', 'Mrs', 'Miss', 'Master', 'Other'], dtype=object)"
      ]
     },
     "execution_count": 72,
     "metadata": {},
     "output_type": "execute_result"
    }
   ],
   "source": [
    "train['Title2'].unique()"
   ]
  },
  {
   "cell_type": "code",
   "execution_count": 73,
   "id": "ff6dee6e",
   "metadata": {
    "ExecuteTime": {
     "end_time": "2023-02-07T06:35:22.203377Z",
     "start_time": "2023-02-07T06:35:22.190802Z"
    }
   },
   "outputs": [],
   "source": [
    "test['Title2'] = test['Title'].map(title_dic)"
   ]
  },
  {
   "cell_type": "code",
   "execution_count": 74,
   "id": "9c839906",
   "metadata": {
    "ExecuteTime": {
     "end_time": "2023-02-07T06:35:22.218699Z",
     "start_time": "2023-02-07T06:35:22.205343Z"
    }
   },
   "outputs": [
    {
     "data": {
      "text/html": [
       "<div>\n",
       "<style scoped>\n",
       "    .dataframe tbody tr th:only-of-type {\n",
       "        vertical-align: middle;\n",
       "    }\n",
       "\n",
       "    .dataframe tbody tr th {\n",
       "        vertical-align: top;\n",
       "    }\n",
       "\n",
       "    .dataframe thead th {\n",
       "        text-align: right;\n",
       "    }\n",
       "</style>\n",
       "<table border=\"1\" class=\"dataframe\">\n",
       "  <thead>\n",
       "    <tr style=\"text-align: right;\">\n",
       "      <th></th>\n",
       "      <th>Pclass</th>\n",
       "      <th>Name</th>\n",
       "      <th>Sex</th>\n",
       "      <th>Age</th>\n",
       "      <th>SibSp</th>\n",
       "      <th>Parch</th>\n",
       "      <th>Ticket</th>\n",
       "      <th>Fare</th>\n",
       "      <th>Cabin</th>\n",
       "      <th>Embarked</th>\n",
       "      <th>Family_Size</th>\n",
       "      <th>Family_Group</th>\n",
       "      <th>Title</th>\n",
       "      <th>Title2</th>\n",
       "    </tr>\n",
       "    <tr>\n",
       "      <th>PassengerId</th>\n",
       "      <th></th>\n",
       "      <th></th>\n",
       "      <th></th>\n",
       "      <th></th>\n",
       "      <th></th>\n",
       "      <th></th>\n",
       "      <th></th>\n",
       "      <th></th>\n",
       "      <th></th>\n",
       "      <th></th>\n",
       "      <th></th>\n",
       "      <th></th>\n",
       "      <th></th>\n",
       "      <th></th>\n",
       "    </tr>\n",
       "  </thead>\n",
       "  <tbody>\n",
       "    <tr>\n",
       "      <th>892</th>\n",
       "      <td>3</td>\n",
       "      <td>Kelly, Mr. James</td>\n",
       "      <td>male</td>\n",
       "      <td>34</td>\n",
       "      <td>0</td>\n",
       "      <td>0</td>\n",
       "      <td>330911</td>\n",
       "      <td>7.8292</td>\n",
       "      <td>M</td>\n",
       "      <td>Q</td>\n",
       "      <td>1</td>\n",
       "      <td>Alone</td>\n",
       "      <td>Mr</td>\n",
       "      <td>Mr</td>\n",
       "    </tr>\n",
       "  </tbody>\n",
       "</table>\n",
       "</div>"
      ],
      "text/plain": [
       "             Pclass              Name   Sex  Age  SibSp  Parch  Ticket  \\\n",
       "PassengerId                                                              \n",
       "892               3  Kelly, Mr. James  male   34      0      0  330911   \n",
       "\n",
       "               Fare Cabin Embarked  Family_Size Family_Group Title Title2  \n",
       "PassengerId                                                                \n",
       "892          7.8292     M        Q            1        Alone    Mr     Mr  "
      ]
     },
     "execution_count": 74,
     "metadata": {},
     "output_type": "execute_result"
    }
   ],
   "source": [
    "test.head(1)"
   ]
  },
  {
   "cell_type": "code",
   "execution_count": 75,
   "id": "eeae97f5",
   "metadata": {
    "ExecuteTime": {
     "end_time": "2023-02-07T06:35:22.233987Z",
     "start_time": "2023-02-07T06:35:22.220552Z"
    },
    "scrolled": true
   },
   "outputs": [
    {
     "data": {
      "text/plain": [
       "array(['Mr', 'Mrs', 'Miss', 'Master', 'Other'], dtype=object)"
      ]
     },
     "execution_count": 75,
     "metadata": {},
     "output_type": "execute_result"
    }
   ],
   "source": [
    "test['Title2'].unique()"
   ]
  },
  {
   "cell_type": "markdown",
   "id": "ca57de05",
   "metadata": {},
   "source": [
    "#### 티켓정보는 사용하지 않겟다.\n",
    "#### 사용하지 않을 컬럼 정리"
   ]
  },
  {
   "cell_type": "code",
   "execution_count": 76,
   "id": "1734891b",
   "metadata": {
    "ExecuteTime": {
     "end_time": "2023-02-07T06:35:22.248975Z",
     "start_time": "2023-02-07T06:35:22.237009Z"
    }
   },
   "outputs": [
    {
     "data": {
      "text/plain": [
       "Index(['Survived', 'Pclass', 'Name', 'Sex', 'Age', 'SibSp', 'Parch', 'Ticket',\n",
       "       'Fare', 'Cabin', 'Embarked', 'Family_Size', 'Family_Group', 'Title',\n",
       "       'Title2'],\n",
       "      dtype='object')"
      ]
     },
     "execution_count": 76,
     "metadata": {},
     "output_type": "execute_result"
    }
   ],
   "source": [
    "train.columns"
   ]
  },
  {
   "cell_type": "code",
   "execution_count": 77,
   "id": "1b4064b1",
   "metadata": {
    "ExecuteTime": {
     "end_time": "2023-02-07T06:35:22.263697Z",
     "start_time": "2023-02-07T06:35:22.252674Z"
    }
   },
   "outputs": [],
   "source": [
    "train.drop( ['Name','Ticket','Title'], axis=1, inplace=True )\n",
    "test.drop( ['Name','Ticket','Title'], axis=1, inplace=True )"
   ]
  },
  {
   "cell_type": "code",
   "execution_count": 78,
   "id": "510b2a07",
   "metadata": {
    "ExecuteTime": {
     "end_time": "2023-02-07T06:35:22.293511Z",
     "start_time": "2023-02-07T06:35:22.264861Z"
    }
   },
   "outputs": [
    {
     "data": {
      "text/html": [
       "<div>\n",
       "<style scoped>\n",
       "    .dataframe tbody tr th:only-of-type {\n",
       "        vertical-align: middle;\n",
       "    }\n",
       "\n",
       "    .dataframe tbody tr th {\n",
       "        vertical-align: top;\n",
       "    }\n",
       "\n",
       "    .dataframe thead th {\n",
       "        text-align: right;\n",
       "    }\n",
       "</style>\n",
       "<table border=\"1\" class=\"dataframe\">\n",
       "  <thead>\n",
       "    <tr style=\"text-align: right;\">\n",
       "      <th></th>\n",
       "      <th>Survived</th>\n",
       "      <th>Pclass</th>\n",
       "      <th>Sex</th>\n",
       "      <th>Age</th>\n",
       "      <th>SibSp</th>\n",
       "      <th>Parch</th>\n",
       "      <th>Fare</th>\n",
       "      <th>Cabin</th>\n",
       "      <th>Embarked</th>\n",
       "      <th>Family_Size</th>\n",
       "      <th>Family_Group</th>\n",
       "      <th>Title2</th>\n",
       "    </tr>\n",
       "    <tr>\n",
       "      <th>PassengerId</th>\n",
       "      <th></th>\n",
       "      <th></th>\n",
       "      <th></th>\n",
       "      <th></th>\n",
       "      <th></th>\n",
       "      <th></th>\n",
       "      <th></th>\n",
       "      <th></th>\n",
       "      <th></th>\n",
       "      <th></th>\n",
       "      <th></th>\n",
       "      <th></th>\n",
       "    </tr>\n",
       "  </thead>\n",
       "  <tbody>\n",
       "    <tr>\n",
       "      <th>1</th>\n",
       "      <td>0</td>\n",
       "      <td>3</td>\n",
       "      <td>male</td>\n",
       "      <td>22</td>\n",
       "      <td>1</td>\n",
       "      <td>0</td>\n",
       "      <td>7.2500</td>\n",
       "      <td>M</td>\n",
       "      <td>S</td>\n",
       "      <td>2</td>\n",
       "      <td>Small</td>\n",
       "      <td>Mr</td>\n",
       "    </tr>\n",
       "    <tr>\n",
       "      <th>2</th>\n",
       "      <td>1</td>\n",
       "      <td>1</td>\n",
       "      <td>female</td>\n",
       "      <td>38</td>\n",
       "      <td>1</td>\n",
       "      <td>0</td>\n",
       "      <td>71.2833</td>\n",
       "      <td>C</td>\n",
       "      <td>C</td>\n",
       "      <td>2</td>\n",
       "      <td>Small</td>\n",
       "      <td>Mrs</td>\n",
       "    </tr>\n",
       "    <tr>\n",
       "      <th>3</th>\n",
       "      <td>1</td>\n",
       "      <td>3</td>\n",
       "      <td>female</td>\n",
       "      <td>26</td>\n",
       "      <td>0</td>\n",
       "      <td>0</td>\n",
       "      <td>7.9250</td>\n",
       "      <td>M</td>\n",
       "      <td>S</td>\n",
       "      <td>1</td>\n",
       "      <td>Alone</td>\n",
       "      <td>Miss</td>\n",
       "    </tr>\n",
       "    <tr>\n",
       "      <th>4</th>\n",
       "      <td>1</td>\n",
       "      <td>1</td>\n",
       "      <td>female</td>\n",
       "      <td>35</td>\n",
       "      <td>1</td>\n",
       "      <td>0</td>\n",
       "      <td>53.1000</td>\n",
       "      <td>C</td>\n",
       "      <td>S</td>\n",
       "      <td>2</td>\n",
       "      <td>Small</td>\n",
       "      <td>Mrs</td>\n",
       "    </tr>\n",
       "    <tr>\n",
       "      <th>5</th>\n",
       "      <td>0</td>\n",
       "      <td>3</td>\n",
       "      <td>male</td>\n",
       "      <td>35</td>\n",
       "      <td>0</td>\n",
       "      <td>0</td>\n",
       "      <td>8.0500</td>\n",
       "      <td>M</td>\n",
       "      <td>S</td>\n",
       "      <td>1</td>\n",
       "      <td>Alone</td>\n",
       "      <td>Mr</td>\n",
       "    </tr>\n",
       "    <tr>\n",
       "      <th>...</th>\n",
       "      <td>...</td>\n",
       "      <td>...</td>\n",
       "      <td>...</td>\n",
       "      <td>...</td>\n",
       "      <td>...</td>\n",
       "      <td>...</td>\n",
       "      <td>...</td>\n",
       "      <td>...</td>\n",
       "      <td>...</td>\n",
       "      <td>...</td>\n",
       "      <td>...</td>\n",
       "      <td>...</td>\n",
       "    </tr>\n",
       "    <tr>\n",
       "      <th>887</th>\n",
       "      <td>0</td>\n",
       "      <td>2</td>\n",
       "      <td>male</td>\n",
       "      <td>27</td>\n",
       "      <td>0</td>\n",
       "      <td>0</td>\n",
       "      <td>13.0000</td>\n",
       "      <td>M</td>\n",
       "      <td>S</td>\n",
       "      <td>1</td>\n",
       "      <td>Alone</td>\n",
       "      <td>Other</td>\n",
       "    </tr>\n",
       "    <tr>\n",
       "      <th>888</th>\n",
       "      <td>1</td>\n",
       "      <td>1</td>\n",
       "      <td>female</td>\n",
       "      <td>19</td>\n",
       "      <td>0</td>\n",
       "      <td>0</td>\n",
       "      <td>30.0000</td>\n",
       "      <td>B</td>\n",
       "      <td>S</td>\n",
       "      <td>1</td>\n",
       "      <td>Alone</td>\n",
       "      <td>Miss</td>\n",
       "    </tr>\n",
       "    <tr>\n",
       "      <th>889</th>\n",
       "      <td>0</td>\n",
       "      <td>3</td>\n",
       "      <td>female</td>\n",
       "      <td>21</td>\n",
       "      <td>1</td>\n",
       "      <td>2</td>\n",
       "      <td>23.4500</td>\n",
       "      <td>M</td>\n",
       "      <td>S</td>\n",
       "      <td>4</td>\n",
       "      <td>Small</td>\n",
       "      <td>Miss</td>\n",
       "    </tr>\n",
       "    <tr>\n",
       "      <th>890</th>\n",
       "      <td>1</td>\n",
       "      <td>1</td>\n",
       "      <td>male</td>\n",
       "      <td>26</td>\n",
       "      <td>0</td>\n",
       "      <td>0</td>\n",
       "      <td>30.0000</td>\n",
       "      <td>C</td>\n",
       "      <td>C</td>\n",
       "      <td>1</td>\n",
       "      <td>Alone</td>\n",
       "      <td>Mr</td>\n",
       "    </tr>\n",
       "    <tr>\n",
       "      <th>891</th>\n",
       "      <td>0</td>\n",
       "      <td>3</td>\n",
       "      <td>male</td>\n",
       "      <td>32</td>\n",
       "      <td>0</td>\n",
       "      <td>0</td>\n",
       "      <td>7.7500</td>\n",
       "      <td>M</td>\n",
       "      <td>Q</td>\n",
       "      <td>1</td>\n",
       "      <td>Alone</td>\n",
       "      <td>Mr</td>\n",
       "    </tr>\n",
       "  </tbody>\n",
       "</table>\n",
       "<p>891 rows × 12 columns</p>\n",
       "</div>"
      ],
      "text/plain": [
       "             Survived  Pclass     Sex  Age  SibSp  Parch     Fare Cabin  \\\n",
       "PassengerId                                                               \n",
       "1                   0       3    male   22      1      0   7.2500     M   \n",
       "2                   1       1  female   38      1      0  71.2833     C   \n",
       "3                   1       3  female   26      0      0   7.9250     M   \n",
       "4                   1       1  female   35      1      0  53.1000     C   \n",
       "5                   0       3    male   35      0      0   8.0500     M   \n",
       "...               ...     ...     ...  ...    ...    ...      ...   ...   \n",
       "887                 0       2    male   27      0      0  13.0000     M   \n",
       "888                 1       1  female   19      0      0  30.0000     B   \n",
       "889                 0       3  female   21      1      2  23.4500     M   \n",
       "890                 1       1    male   26      0      0  30.0000     C   \n",
       "891                 0       3    male   32      0      0   7.7500     M   \n",
       "\n",
       "            Embarked  Family_Size Family_Group Title2  \n",
       "PassengerId                                            \n",
       "1                  S            2        Small     Mr  \n",
       "2                  C            2        Small    Mrs  \n",
       "3                  S            1        Alone   Miss  \n",
       "4                  S            2        Small    Mrs  \n",
       "5                  S            1        Alone     Mr  \n",
       "...              ...          ...          ...    ...  \n",
       "887                S            1        Alone  Other  \n",
       "888                S            1        Alone   Miss  \n",
       "889                S            4        Small   Miss  \n",
       "890                C            1        Alone     Mr  \n",
       "891                Q            1        Alone     Mr  \n",
       "\n",
       "[891 rows x 12 columns]"
      ]
     },
     "execution_count": 78,
     "metadata": {},
     "output_type": "execute_result"
    }
   ],
   "source": [
    "train"
   ]
  },
  {
   "cell_type": "markdown",
   "id": "4658d20f",
   "metadata": {},
   "source": [
    "### 모델링\n",
    "- 인코딩(문자형태의 데이터를 숫자형태의 데이터로 변환)\n",
    "    1. label encoding\n",
    "    2. one-hot encoding\n",
    "        - 범주형 변수를 표현하는데 가장 널리 쓰이는 방법\n",
    "        - 분류하고자 하는 범주(종류)만큼의 자릿수(컬럼)를 만들고 1과0만을 이용하여 표현하는 방식\n",
    "- 모델 선택 및 하이퍼파라미터 조정\n",
    "- 모델 학습\n",
    "- 모델 평가"
   ]
  },
  {
   "cell_type": "code",
   "execution_count": 79,
   "id": "72a491bf",
   "metadata": {
    "ExecuteTime": {
     "end_time": "2023-02-07T06:35:22.308873Z",
     "start_time": "2023-02-07T06:35:22.295516Z"
    }
   },
   "outputs": [
    {
     "data": {
      "text/plain": [
       "Index(['Survived', 'Pclass', 'Sex', 'Age', 'SibSp', 'Parch', 'Fare', 'Cabin',\n",
       "       'Embarked', 'Family_Size', 'Family_Group', 'Title2'],\n",
       "      dtype='object')"
      ]
     },
     "execution_count": 79,
     "metadata": {},
     "output_type": "execute_result"
    }
   ],
   "source": [
    "train.columns"
   ]
  },
  {
   "cell_type": "code",
   "execution_count": 80,
   "id": "7b2ae1de",
   "metadata": {
    "ExecuteTime": {
     "end_time": "2023-02-07T06:35:22.323649Z",
     "start_time": "2023-02-07T06:35:22.310440Z"
    }
   },
   "outputs": [],
   "source": [
    "categorical_features = ['Sex', 'Cabin', 'Embarked', 'Family_Group', 'Title2']"
   ]
  },
  {
   "cell_type": "code",
   "execution_count": 81,
   "id": "232dfe93",
   "metadata": {
    "ExecuteTime": {
     "end_time": "2023-02-07T06:35:22.338797Z",
     "start_time": "2023-02-07T06:35:22.325659Z"
    }
   },
   "outputs": [
    {
     "data": {
      "text/plain": [
       "PassengerId\n",
       "1         Mr\n",
       "2        Mrs\n",
       "3       Miss\n",
       "4        Mrs\n",
       "5         Mr\n",
       "       ...  \n",
       "887    Other\n",
       "888     Miss\n",
       "889     Miss\n",
       "890       Mr\n",
       "891       Mr\n",
       "Name: Title2, Length: 891, dtype: object"
      ]
     },
     "execution_count": 81,
     "metadata": {},
     "output_type": "execute_result"
    }
   ],
   "source": [
    "train['Title2']"
   ]
  },
  {
   "cell_type": "code",
   "execution_count": 82,
   "id": "7cbe75bc",
   "metadata": {
    "ExecuteTime": {
     "end_time": "2023-02-07T06:35:22.368685Z",
     "start_time": "2023-02-07T06:35:22.346275Z"
    }
   },
   "outputs": [
    {
     "data": {
      "text/html": [
       "<div>\n",
       "<style scoped>\n",
       "    .dataframe tbody tr th:only-of-type {\n",
       "        vertical-align: middle;\n",
       "    }\n",
       "\n",
       "    .dataframe tbody tr th {\n",
       "        vertical-align: top;\n",
       "    }\n",
       "\n",
       "    .dataframe thead th {\n",
       "        text-align: right;\n",
       "    }\n",
       "</style>\n",
       "<table border=\"1\" class=\"dataframe\">\n",
       "  <thead>\n",
       "    <tr style=\"text-align: right;\">\n",
       "      <th></th>\n",
       "      <th>Title2_Master</th>\n",
       "      <th>Title2_Miss</th>\n",
       "      <th>Title2_Mr</th>\n",
       "      <th>Title2_Mrs</th>\n",
       "      <th>Title2_Other</th>\n",
       "    </tr>\n",
       "    <tr>\n",
       "      <th>PassengerId</th>\n",
       "      <th></th>\n",
       "      <th></th>\n",
       "      <th></th>\n",
       "      <th></th>\n",
       "      <th></th>\n",
       "    </tr>\n",
       "  </thead>\n",
       "  <tbody>\n",
       "    <tr>\n",
       "      <th>1</th>\n",
       "      <td>0</td>\n",
       "      <td>0</td>\n",
       "      <td>1</td>\n",
       "      <td>0</td>\n",
       "      <td>0</td>\n",
       "    </tr>\n",
       "    <tr>\n",
       "      <th>2</th>\n",
       "      <td>0</td>\n",
       "      <td>0</td>\n",
       "      <td>0</td>\n",
       "      <td>1</td>\n",
       "      <td>0</td>\n",
       "    </tr>\n",
       "    <tr>\n",
       "      <th>3</th>\n",
       "      <td>0</td>\n",
       "      <td>1</td>\n",
       "      <td>0</td>\n",
       "      <td>0</td>\n",
       "      <td>0</td>\n",
       "    </tr>\n",
       "    <tr>\n",
       "      <th>4</th>\n",
       "      <td>0</td>\n",
       "      <td>0</td>\n",
       "      <td>0</td>\n",
       "      <td>1</td>\n",
       "      <td>0</td>\n",
       "    </tr>\n",
       "    <tr>\n",
       "      <th>5</th>\n",
       "      <td>0</td>\n",
       "      <td>0</td>\n",
       "      <td>1</td>\n",
       "      <td>0</td>\n",
       "      <td>0</td>\n",
       "    </tr>\n",
       "    <tr>\n",
       "      <th>...</th>\n",
       "      <td>...</td>\n",
       "      <td>...</td>\n",
       "      <td>...</td>\n",
       "      <td>...</td>\n",
       "      <td>...</td>\n",
       "    </tr>\n",
       "    <tr>\n",
       "      <th>887</th>\n",
       "      <td>0</td>\n",
       "      <td>0</td>\n",
       "      <td>0</td>\n",
       "      <td>0</td>\n",
       "      <td>1</td>\n",
       "    </tr>\n",
       "    <tr>\n",
       "      <th>888</th>\n",
       "      <td>0</td>\n",
       "      <td>1</td>\n",
       "      <td>0</td>\n",
       "      <td>0</td>\n",
       "      <td>0</td>\n",
       "    </tr>\n",
       "    <tr>\n",
       "      <th>889</th>\n",
       "      <td>0</td>\n",
       "      <td>1</td>\n",
       "      <td>0</td>\n",
       "      <td>0</td>\n",
       "      <td>0</td>\n",
       "    </tr>\n",
       "    <tr>\n",
       "      <th>890</th>\n",
       "      <td>0</td>\n",
       "      <td>0</td>\n",
       "      <td>1</td>\n",
       "      <td>0</td>\n",
       "      <td>0</td>\n",
       "    </tr>\n",
       "    <tr>\n",
       "      <th>891</th>\n",
       "      <td>0</td>\n",
       "      <td>0</td>\n",
       "      <td>1</td>\n",
       "      <td>0</td>\n",
       "      <td>0</td>\n",
       "    </tr>\n",
       "  </tbody>\n",
       "</table>\n",
       "<p>891 rows × 5 columns</p>\n",
       "</div>"
      ],
      "text/plain": [
       "             Title2_Master  Title2_Miss  Title2_Mr  Title2_Mrs  Title2_Other\n",
       "PassengerId                                                                 \n",
       "1                        0            0          1           0             0\n",
       "2                        0            0          0           1             0\n",
       "3                        0            1          0           0             0\n",
       "4                        0            0          0           1             0\n",
       "5                        0            0          1           0             0\n",
       "...                    ...          ...        ...         ...           ...\n",
       "887                      0            0          0           0             1\n",
       "888                      0            1          0           0             0\n",
       "889                      0            1          0           0             0\n",
       "890                      0            0          1           0             0\n",
       "891                      0            0          1           0             0\n",
       "\n",
       "[891 rows x 5 columns]"
      ]
     },
     "execution_count": 82,
     "metadata": {},
     "output_type": "execute_result"
    }
   ],
   "source": [
    "# one-hot 인코딩\n",
    "pd.get_dummies(train['Title2'], prefix='Title2')"
   ]
  },
  {
   "cell_type": "code",
   "execution_count": 83,
   "id": "fe32062b",
   "metadata": {
    "ExecuteTime": {
     "end_time": "2023-02-07T06:35:22.383552Z",
     "start_time": "2023-02-07T06:35:22.369884Z"
    }
   },
   "outputs": [],
   "source": [
    "for features_name in categorical_features:\n",
    "    one_hot = pd.get_dummies(train[features_name], prefix=features_name)  # one-hot 인코딩\n",
    "    train.drop(features_name, axis=1, inplace=True)  # 기존 글자형태 컬럼 삭제\n",
    "    train = pd.concat([train, one_hot], axis=1)      # 기존 데이터에 one-hot 데이터 붙이기"
   ]
  },
  {
   "cell_type": "code",
   "execution_count": 84,
   "id": "67ca4d50",
   "metadata": {
    "ExecuteTime": {
     "end_time": "2023-02-07T06:35:22.399007Z",
     "start_time": "2023-02-07T06:35:22.385560Z"
    }
   },
   "outputs": [
    {
     "data": {
      "text/html": [
       "<div>\n",
       "<style scoped>\n",
       "    .dataframe tbody tr th:only-of-type {\n",
       "        vertical-align: middle;\n",
       "    }\n",
       "\n",
       "    .dataframe tbody tr th {\n",
       "        vertical-align: top;\n",
       "    }\n",
       "\n",
       "    .dataframe thead th {\n",
       "        text-align: right;\n",
       "    }\n",
       "</style>\n",
       "<table border=\"1\" class=\"dataframe\">\n",
       "  <thead>\n",
       "    <tr style=\"text-align: right;\">\n",
       "      <th></th>\n",
       "      <th>Survived</th>\n",
       "      <th>Pclass</th>\n",
       "      <th>Age</th>\n",
       "      <th>SibSp</th>\n",
       "      <th>Parch</th>\n",
       "      <th>Fare</th>\n",
       "      <th>Family_Size</th>\n",
       "      <th>Sex_female</th>\n",
       "      <th>Sex_male</th>\n",
       "      <th>Cabin_A</th>\n",
       "      <th>...</th>\n",
       "      <th>Embarked_Q</th>\n",
       "      <th>Embarked_S</th>\n",
       "      <th>Family_Group_Alone</th>\n",
       "      <th>Family_Group_Small</th>\n",
       "      <th>Family_Group_Large</th>\n",
       "      <th>Title2_Master</th>\n",
       "      <th>Title2_Miss</th>\n",
       "      <th>Title2_Mr</th>\n",
       "      <th>Title2_Mrs</th>\n",
       "      <th>Title2_Other</th>\n",
       "    </tr>\n",
       "    <tr>\n",
       "      <th>PassengerId</th>\n",
       "      <th></th>\n",
       "      <th></th>\n",
       "      <th></th>\n",
       "      <th></th>\n",
       "      <th></th>\n",
       "      <th></th>\n",
       "      <th></th>\n",
       "      <th></th>\n",
       "      <th></th>\n",
       "      <th></th>\n",
       "      <th></th>\n",
       "      <th></th>\n",
       "      <th></th>\n",
       "      <th></th>\n",
       "      <th></th>\n",
       "      <th></th>\n",
       "      <th></th>\n",
       "      <th></th>\n",
       "      <th></th>\n",
       "      <th></th>\n",
       "      <th></th>\n",
       "    </tr>\n",
       "  </thead>\n",
       "  <tbody>\n",
       "    <tr>\n",
       "      <th>1</th>\n",
       "      <td>0</td>\n",
       "      <td>3</td>\n",
       "      <td>22</td>\n",
       "      <td>1</td>\n",
       "      <td>0</td>\n",
       "      <td>7.2500</td>\n",
       "      <td>2</td>\n",
       "      <td>0</td>\n",
       "      <td>1</td>\n",
       "      <td>0</td>\n",
       "      <td>...</td>\n",
       "      <td>0</td>\n",
       "      <td>1</td>\n",
       "      <td>0</td>\n",
       "      <td>1</td>\n",
       "      <td>0</td>\n",
       "      <td>0</td>\n",
       "      <td>0</td>\n",
       "      <td>1</td>\n",
       "      <td>0</td>\n",
       "      <td>0</td>\n",
       "    </tr>\n",
       "    <tr>\n",
       "      <th>2</th>\n",
       "      <td>1</td>\n",
       "      <td>1</td>\n",
       "      <td>38</td>\n",
       "      <td>1</td>\n",
       "      <td>0</td>\n",
       "      <td>71.2833</td>\n",
       "      <td>2</td>\n",
       "      <td>1</td>\n",
       "      <td>0</td>\n",
       "      <td>0</td>\n",
       "      <td>...</td>\n",
       "      <td>0</td>\n",
       "      <td>0</td>\n",
       "      <td>0</td>\n",
       "      <td>1</td>\n",
       "      <td>0</td>\n",
       "      <td>0</td>\n",
       "      <td>0</td>\n",
       "      <td>0</td>\n",
       "      <td>1</td>\n",
       "      <td>0</td>\n",
       "    </tr>\n",
       "    <tr>\n",
       "      <th>3</th>\n",
       "      <td>1</td>\n",
       "      <td>3</td>\n",
       "      <td>26</td>\n",
       "      <td>0</td>\n",
       "      <td>0</td>\n",
       "      <td>7.9250</td>\n",
       "      <td>1</td>\n",
       "      <td>1</td>\n",
       "      <td>0</td>\n",
       "      <td>0</td>\n",
       "      <td>...</td>\n",
       "      <td>0</td>\n",
       "      <td>1</td>\n",
       "      <td>1</td>\n",
       "      <td>0</td>\n",
       "      <td>0</td>\n",
       "      <td>0</td>\n",
       "      <td>1</td>\n",
       "      <td>0</td>\n",
       "      <td>0</td>\n",
       "      <td>0</td>\n",
       "    </tr>\n",
       "    <tr>\n",
       "      <th>4</th>\n",
       "      <td>1</td>\n",
       "      <td>1</td>\n",
       "      <td>35</td>\n",
       "      <td>1</td>\n",
       "      <td>0</td>\n",
       "      <td>53.1000</td>\n",
       "      <td>2</td>\n",
       "      <td>1</td>\n",
       "      <td>0</td>\n",
       "      <td>0</td>\n",
       "      <td>...</td>\n",
       "      <td>0</td>\n",
       "      <td>1</td>\n",
       "      <td>0</td>\n",
       "      <td>1</td>\n",
       "      <td>0</td>\n",
       "      <td>0</td>\n",
       "      <td>0</td>\n",
       "      <td>0</td>\n",
       "      <td>1</td>\n",
       "      <td>0</td>\n",
       "    </tr>\n",
       "    <tr>\n",
       "      <th>5</th>\n",
       "      <td>0</td>\n",
       "      <td>3</td>\n",
       "      <td>35</td>\n",
       "      <td>0</td>\n",
       "      <td>0</td>\n",
       "      <td>8.0500</td>\n",
       "      <td>1</td>\n",
       "      <td>0</td>\n",
       "      <td>1</td>\n",
       "      <td>0</td>\n",
       "      <td>...</td>\n",
       "      <td>0</td>\n",
       "      <td>1</td>\n",
       "      <td>1</td>\n",
       "      <td>0</td>\n",
       "      <td>0</td>\n",
       "      <td>0</td>\n",
       "      <td>0</td>\n",
       "      <td>1</td>\n",
       "      <td>0</td>\n",
       "      <td>0</td>\n",
       "    </tr>\n",
       "  </tbody>\n",
       "</table>\n",
       "<p>5 rows × 29 columns</p>\n",
       "</div>"
      ],
      "text/plain": [
       "             Survived  Pclass  Age  SibSp  Parch     Fare  Family_Size  \\\n",
       "PassengerId                                                              \n",
       "1                   0       3   22      1      0   7.2500            2   \n",
       "2                   1       1   38      1      0  71.2833            2   \n",
       "3                   1       3   26      0      0   7.9250            1   \n",
       "4                   1       1   35      1      0  53.1000            2   \n",
       "5                   0       3   35      0      0   8.0500            1   \n",
       "\n",
       "             Sex_female  Sex_male  Cabin_A  ...  Embarked_Q  Embarked_S  \\\n",
       "PassengerId                                 ...                           \n",
       "1                     0         1        0  ...           0           1   \n",
       "2                     1         0        0  ...           0           0   \n",
       "3                     1         0        0  ...           0           1   \n",
       "4                     1         0        0  ...           0           1   \n",
       "5                     0         1        0  ...           0           1   \n",
       "\n",
       "             Family_Group_Alone  Family_Group_Small  Family_Group_Large  \\\n",
       "PassengerId                                                               \n",
       "1                             0                   1                   0   \n",
       "2                             0                   1                   0   \n",
       "3                             1                   0                   0   \n",
       "4                             0                   1                   0   \n",
       "5                             1                   0                   0   \n",
       "\n",
       "             Title2_Master  Title2_Miss  Title2_Mr  Title2_Mrs  Title2_Other  \n",
       "PassengerId                                                                   \n",
       "1                        0            0          1           0             0  \n",
       "2                        0            0          0           1             0  \n",
       "3                        0            1          0           0             0  \n",
       "4                        0            0          0           1             0  \n",
       "5                        0            0          1           0             0  \n",
       "\n",
       "[5 rows x 29 columns]"
      ]
     },
     "execution_count": 84,
     "metadata": {},
     "output_type": "execute_result"
    }
   ],
   "source": [
    "train.head()"
   ]
  },
  {
   "cell_type": "code",
   "execution_count": 85,
   "id": "7f9b4466",
   "metadata": {
    "ExecuteTime": {
     "end_time": "2023-02-07T06:35:22.429986Z",
     "start_time": "2023-02-07T06:35:22.400529Z"
    }
   },
   "outputs": [],
   "source": [
    "for features_name in categorical_features:\n",
    "    one_hot = pd.get_dummies(test[features_name], prefix=features_name)  # one-hot 인코딩\n",
    "    test.drop(features_name, axis=1, inplace=True)  # 기존 글자형태 컬럼 삭제\n",
    "    test = pd.concat([test, one_hot], axis=1)      # 기존 데이터에 one-hot 데이터 붙이기"
   ]
  },
  {
   "cell_type": "code",
   "execution_count": 86,
   "id": "1da9e3c5",
   "metadata": {
    "ExecuteTime": {
     "end_time": "2023-02-07T06:35:22.444767Z",
     "start_time": "2023-02-07T06:35:22.431028Z"
    }
   },
   "outputs": [
    {
     "data": {
      "text/html": [
       "<div>\n",
       "<style scoped>\n",
       "    .dataframe tbody tr th:only-of-type {\n",
       "        vertical-align: middle;\n",
       "    }\n",
       "\n",
       "    .dataframe tbody tr th {\n",
       "        vertical-align: top;\n",
       "    }\n",
       "\n",
       "    .dataframe thead th {\n",
       "        text-align: right;\n",
       "    }\n",
       "</style>\n",
       "<table border=\"1\" class=\"dataframe\">\n",
       "  <thead>\n",
       "    <tr style=\"text-align: right;\">\n",
       "      <th></th>\n",
       "      <th>Pclass</th>\n",
       "      <th>Age</th>\n",
       "      <th>SibSp</th>\n",
       "      <th>Parch</th>\n",
       "      <th>Fare</th>\n",
       "      <th>Family_Size</th>\n",
       "      <th>Sex_female</th>\n",
       "      <th>Sex_male</th>\n",
       "      <th>Cabin_A</th>\n",
       "      <th>Cabin_B</th>\n",
       "      <th>...</th>\n",
       "      <th>Embarked_Q</th>\n",
       "      <th>Embarked_S</th>\n",
       "      <th>Family_Group_Alone</th>\n",
       "      <th>Family_Group_Small</th>\n",
       "      <th>Family_Group_Large</th>\n",
       "      <th>Title2_Master</th>\n",
       "      <th>Title2_Miss</th>\n",
       "      <th>Title2_Mr</th>\n",
       "      <th>Title2_Mrs</th>\n",
       "      <th>Title2_Other</th>\n",
       "    </tr>\n",
       "    <tr>\n",
       "      <th>PassengerId</th>\n",
       "      <th></th>\n",
       "      <th></th>\n",
       "      <th></th>\n",
       "      <th></th>\n",
       "      <th></th>\n",
       "      <th></th>\n",
       "      <th></th>\n",
       "      <th></th>\n",
       "      <th></th>\n",
       "      <th></th>\n",
       "      <th></th>\n",
       "      <th></th>\n",
       "      <th></th>\n",
       "      <th></th>\n",
       "      <th></th>\n",
       "      <th></th>\n",
       "      <th></th>\n",
       "      <th></th>\n",
       "      <th></th>\n",
       "      <th></th>\n",
       "      <th></th>\n",
       "    </tr>\n",
       "  </thead>\n",
       "  <tbody>\n",
       "    <tr>\n",
       "      <th>892</th>\n",
       "      <td>3</td>\n",
       "      <td>34</td>\n",
       "      <td>0</td>\n",
       "      <td>0</td>\n",
       "      <td>7.8292</td>\n",
       "      <td>1</td>\n",
       "      <td>0</td>\n",
       "      <td>1</td>\n",
       "      <td>0</td>\n",
       "      <td>0</td>\n",
       "      <td>...</td>\n",
       "      <td>1</td>\n",
       "      <td>0</td>\n",
       "      <td>1</td>\n",
       "      <td>0</td>\n",
       "      <td>0</td>\n",
       "      <td>0</td>\n",
       "      <td>0</td>\n",
       "      <td>1</td>\n",
       "      <td>0</td>\n",
       "      <td>0</td>\n",
       "    </tr>\n",
       "    <tr>\n",
       "      <th>893</th>\n",
       "      <td>3</td>\n",
       "      <td>47</td>\n",
       "      <td>1</td>\n",
       "      <td>0</td>\n",
       "      <td>7.0000</td>\n",
       "      <td>2</td>\n",
       "      <td>1</td>\n",
       "      <td>0</td>\n",
       "      <td>0</td>\n",
       "      <td>0</td>\n",
       "      <td>...</td>\n",
       "      <td>0</td>\n",
       "      <td>1</td>\n",
       "      <td>0</td>\n",
       "      <td>1</td>\n",
       "      <td>0</td>\n",
       "      <td>0</td>\n",
       "      <td>0</td>\n",
       "      <td>0</td>\n",
       "      <td>1</td>\n",
       "      <td>0</td>\n",
       "    </tr>\n",
       "    <tr>\n",
       "      <th>894</th>\n",
       "      <td>2</td>\n",
       "      <td>62</td>\n",
       "      <td>0</td>\n",
       "      <td>0</td>\n",
       "      <td>9.6875</td>\n",
       "      <td>1</td>\n",
       "      <td>0</td>\n",
       "      <td>1</td>\n",
       "      <td>0</td>\n",
       "      <td>0</td>\n",
       "      <td>...</td>\n",
       "      <td>1</td>\n",
       "      <td>0</td>\n",
       "      <td>1</td>\n",
       "      <td>0</td>\n",
       "      <td>0</td>\n",
       "      <td>0</td>\n",
       "      <td>0</td>\n",
       "      <td>1</td>\n",
       "      <td>0</td>\n",
       "      <td>0</td>\n",
       "    </tr>\n",
       "    <tr>\n",
       "      <th>895</th>\n",
       "      <td>3</td>\n",
       "      <td>27</td>\n",
       "      <td>0</td>\n",
       "      <td>0</td>\n",
       "      <td>8.6625</td>\n",
       "      <td>1</td>\n",
       "      <td>0</td>\n",
       "      <td>1</td>\n",
       "      <td>0</td>\n",
       "      <td>0</td>\n",
       "      <td>...</td>\n",
       "      <td>0</td>\n",
       "      <td>1</td>\n",
       "      <td>1</td>\n",
       "      <td>0</td>\n",
       "      <td>0</td>\n",
       "      <td>0</td>\n",
       "      <td>0</td>\n",
       "      <td>1</td>\n",
       "      <td>0</td>\n",
       "      <td>0</td>\n",
       "    </tr>\n",
       "    <tr>\n",
       "      <th>896</th>\n",
       "      <td>3</td>\n",
       "      <td>22</td>\n",
       "      <td>1</td>\n",
       "      <td>1</td>\n",
       "      <td>12.2875</td>\n",
       "      <td>3</td>\n",
       "      <td>1</td>\n",
       "      <td>0</td>\n",
       "      <td>0</td>\n",
       "      <td>0</td>\n",
       "      <td>...</td>\n",
       "      <td>0</td>\n",
       "      <td>1</td>\n",
       "      <td>0</td>\n",
       "      <td>1</td>\n",
       "      <td>0</td>\n",
       "      <td>0</td>\n",
       "      <td>0</td>\n",
       "      <td>0</td>\n",
       "      <td>1</td>\n",
       "      <td>0</td>\n",
       "    </tr>\n",
       "  </tbody>\n",
       "</table>\n",
       "<p>5 rows × 27 columns</p>\n",
       "</div>"
      ],
      "text/plain": [
       "             Pclass  Age  SibSp  Parch     Fare  Family_Size  Sex_female  \\\n",
       "PassengerId                                                                \n",
       "892               3   34      0      0   7.8292            1           0   \n",
       "893               3   47      1      0   7.0000            2           1   \n",
       "894               2   62      0      0   9.6875            1           0   \n",
       "895               3   27      0      0   8.6625            1           0   \n",
       "896               3   22      1      1  12.2875            3           1   \n",
       "\n",
       "             Sex_male  Cabin_A  Cabin_B  ...  Embarked_Q  Embarked_S  \\\n",
       "PassengerId                              ...                           \n",
       "892                 1        0        0  ...           1           0   \n",
       "893                 0        0        0  ...           0           1   \n",
       "894                 1        0        0  ...           1           0   \n",
       "895                 1        0        0  ...           0           1   \n",
       "896                 0        0        0  ...           0           1   \n",
       "\n",
       "             Family_Group_Alone  Family_Group_Small  Family_Group_Large  \\\n",
       "PassengerId                                                               \n",
       "892                           1                   0                   0   \n",
       "893                           0                   1                   0   \n",
       "894                           1                   0                   0   \n",
       "895                           1                   0                   0   \n",
       "896                           0                   1                   0   \n",
       "\n",
       "             Title2_Master  Title2_Miss  Title2_Mr  Title2_Mrs  Title2_Other  \n",
       "PassengerId                                                                   \n",
       "892                      0            0          1           0             0  \n",
       "893                      0            0          0           1             0  \n",
       "894                      0            0          1           0             0  \n",
       "895                      0            0          1           0             0  \n",
       "896                      0            0          0           1             0  \n",
       "\n",
       "[5 rows x 27 columns]"
      ]
     },
     "execution_count": 86,
     "metadata": {},
     "output_type": "execute_result"
    }
   ],
   "source": [
    "test.head()"
   ]
  },
  {
   "cell_type": "code",
   "execution_count": 87,
   "id": "05241a26",
   "metadata": {
    "ExecuteTime": {
     "end_time": "2023-02-07T06:35:22.459871Z",
     "start_time": "2023-02-07T06:35:22.451110Z"
    }
   },
   "outputs": [
    {
     "data": {
      "text/plain": [
       "{'Cabin_T', 'Survived'}"
      ]
     },
     "execution_count": 87,
     "metadata": {},
     "output_type": "execute_result"
    }
   ],
   "source": [
    "# train, test의 차집합 연산!\n",
    "set(train.columns) - set(test.columns)"
   ]
  },
  {
   "cell_type": "code",
   "execution_count": 88,
   "id": "cfb40f5a",
   "metadata": {
    "ExecuteTime": {
     "end_time": "2023-02-07T06:35:22.474930Z",
     "start_time": "2023-02-07T06:35:22.461808Z"
    }
   },
   "outputs": [],
   "source": [
    "test['Cabin_T'] = 0"
   ]
  },
  {
   "cell_type": "markdown",
   "id": "11a94e41",
   "metadata": {},
   "source": [
    "##### 문제와 정답으로 나누기"
   ]
  },
  {
   "cell_type": "code",
   "execution_count": 89,
   "id": "dfa8b1c4",
   "metadata": {
    "ExecuteTime": {
     "end_time": "2023-02-07T06:35:22.490000Z",
     "start_time": "2023-02-07T06:35:22.477273Z"
    }
   },
   "outputs": [],
   "source": [
    "X_train = train.drop('Survived', axis=1)\n",
    "y_train = train['Survived']"
   ]
  },
  {
   "cell_type": "code",
   "execution_count": 90,
   "id": "c1264385",
   "metadata": {
    "ExecuteTime": {
     "end_time": "2023-02-07T06:35:22.504840Z",
     "start_time": "2023-02-07T06:35:22.491721Z"
    }
   },
   "outputs": [],
   "source": [
    "X_test = test\n",
    "# y_test - Kaggle에 있다"
   ]
  },
  {
   "cell_type": "code",
   "execution_count": 91,
   "id": "91579777",
   "metadata": {
    "ExecuteTime": {
     "end_time": "2023-02-07T06:35:22.519830Z",
     "start_time": "2023-02-07T06:35:22.506345Z"
    }
   },
   "outputs": [
    {
     "data": {
      "text/plain": [
       "Index(['Pclass', 'Age', 'SibSp', 'Parch', 'Fare', 'Family_Size', 'Sex_female',\n",
       "       'Sex_male', 'Cabin_A', 'Cabin_B', 'Cabin_C', 'Cabin_D', 'Cabin_E',\n",
       "       'Cabin_F', 'Cabin_G', 'Cabin_M', 'Cabin_T', 'Embarked_C', 'Embarked_Q',\n",
       "       'Embarked_S', 'Family_Group_Alone', 'Family_Group_Small',\n",
       "       'Family_Group_Large', 'Title2_Master', 'Title2_Miss', 'Title2_Mr',\n",
       "       'Title2_Mrs', 'Title2_Other'],\n",
       "      dtype='object')"
      ]
     },
     "execution_count": 91,
     "metadata": {},
     "output_type": "execute_result"
    }
   ],
   "source": [
    "X_train.columns"
   ]
  },
  {
   "cell_type": "code",
   "execution_count": 92,
   "id": "dc23e3f7",
   "metadata": {
    "ExecuteTime": {
     "end_time": "2023-02-07T06:35:22.534890Z",
     "start_time": "2023-02-07T06:35:22.520840Z"
    }
   },
   "outputs": [
    {
     "data": {
      "text/plain": [
       "Index(['Pclass', 'Age', 'SibSp', 'Parch', 'Fare', 'Family_Size', 'Sex_female',\n",
       "       'Sex_male', 'Cabin_A', 'Cabin_B', 'Cabin_C', 'Cabin_D', 'Cabin_E',\n",
       "       'Cabin_F', 'Cabin_G', 'Cabin_M', 'Embarked_C', 'Embarked_Q',\n",
       "       'Embarked_S', 'Family_Group_Alone', 'Family_Group_Small',\n",
       "       'Family_Group_Large', 'Title2_Master', 'Title2_Miss', 'Title2_Mr',\n",
       "       'Title2_Mrs', 'Title2_Other', 'Cabin_T'],\n",
       "      dtype='object')"
      ]
     },
     "execution_count": 92,
     "metadata": {},
     "output_type": "execute_result"
    }
   ],
   "source": [
    "X_test.columns"
   ]
  },
  {
   "cell_type": "code",
   "execution_count": 93,
   "id": "097a7781",
   "metadata": {
    "ExecuteTime": {
     "end_time": "2023-02-07T06:35:22.549702Z",
     "start_time": "2023-02-07T06:35:22.537205Z"
    }
   },
   "outputs": [],
   "source": [
    "# train, test 컬럼 순서 맞추기!\n",
    "X_test = X_test[X_train.columns]"
   ]
  },
  {
   "cell_type": "code",
   "execution_count": 94,
   "id": "9b7aa8a9",
   "metadata": {
    "ExecuteTime": {
     "end_time": "2023-02-07T06:35:22.565185Z",
     "start_time": "2023-02-07T06:35:22.551318Z"
    }
   },
   "outputs": [
    {
     "data": {
      "text/plain": [
       "Index(['Pclass', 'Age', 'SibSp', 'Parch', 'Fare', 'Family_Size', 'Sex_female',\n",
       "       'Sex_male', 'Cabin_A', 'Cabin_B', 'Cabin_C', 'Cabin_D', 'Cabin_E',\n",
       "       'Cabin_F', 'Cabin_G', 'Cabin_M', 'Cabin_T', 'Embarked_C', 'Embarked_Q',\n",
       "       'Embarked_S', 'Family_Group_Alone', 'Family_Group_Small',\n",
       "       'Family_Group_Large', 'Title2_Master', 'Title2_Miss', 'Title2_Mr',\n",
       "       'Title2_Mrs', 'Title2_Other'],\n",
       "      dtype='object')"
      ]
     },
     "execution_count": 94,
     "metadata": {},
     "output_type": "execute_result"
    }
   ],
   "source": [
    "X_test.columns"
   ]
  },
  {
   "cell_type": "code",
   "execution_count": 95,
   "id": "b27f4612",
   "metadata": {
    "ExecuteTime": {
     "end_time": "2023-02-07T06:38:47.632556Z",
     "start_time": "2023-02-07T06:38:47.607630Z"
    }
   },
   "outputs": [],
   "source": [
    "X_train.to_csv('X_train.csv',index=False)\n",
    "y_train.to_csv('y_train.csv',index=False)\n",
    "X_test.to_csv('X_test.csv',index=False)"
   ]
  },
  {
   "cell_type": "markdown",
   "id": "467e4b18",
   "metadata": {},
   "source": [
    "### 모델 선택"
   ]
  },
  {
   "cell_type": "code",
   "execution_count": 329,
   "id": "015888e5",
   "metadata": {
    "ExecuteTime": {
     "end_time": "2023-02-06T00:45:20.496756Z",
     "start_time": "2023-02-06T00:45:20.484550Z"
    }
   },
   "outputs": [],
   "source": [
    "from sklearn.neighbors import KNeighborsClassifier\n",
    "from sklearn.tree import DecisionTreeClassifier"
   ]
  },
  {
   "cell_type": "code",
   "execution_count": 330,
   "id": "7e3bda5e",
   "metadata": {
    "ExecuteTime": {
     "end_time": "2023-02-06T00:45:20.511768Z",
     "start_time": "2023-02-06T00:45:20.497751Z"
    }
   },
   "outputs": [],
   "source": [
    "knn_model = KNeighborsClassifier()\n",
    "tree_model = DecisionTreeClassifier()"
   ]
  },
  {
   "cell_type": "markdown",
   "id": "529456b9",
   "metadata": {},
   "source": [
    "##### train, validation 분리"
   ]
  },
  {
   "cell_type": "code",
   "execution_count": 331,
   "id": "c2c74beb",
   "metadata": {
    "ExecuteTime": {
     "end_time": "2023-02-06T00:45:20.526823Z",
     "start_time": "2023-02-06T00:45:20.514094Z"
    }
   },
   "outputs": [],
   "source": [
    "from sklearn.model_selection import train_test_split"
   ]
  },
  {
   "cell_type": "code",
   "execution_count": 332,
   "id": "9c2110cd",
   "metadata": {
    "ExecuteTime": {
     "end_time": "2023-02-06T00:45:20.542999Z",
     "start_time": "2023-02-06T00:45:20.530823Z"
    }
   },
   "outputs": [],
   "source": [
    "X_train, X_val, y_train, y_val = train_test_split(X_train, y_train)"
   ]
  },
  {
   "cell_type": "code",
   "execution_count": 333,
   "id": "3f67d1f7",
   "metadata": {
    "ExecuteTime": {
     "end_time": "2023-02-06T00:45:20.558624Z",
     "start_time": "2023-02-06T00:45:20.544542Z"
    }
   },
   "outputs": [
    {
     "data": {
      "text/plain": [
       "((668, 28), (668,))"
      ]
     },
     "execution_count": 333,
     "metadata": {},
     "output_type": "execute_result"
    }
   ],
   "source": [
    "X_train.shape, y_train.shape"
   ]
  },
  {
   "cell_type": "code",
   "execution_count": 334,
   "id": "4555fde8",
   "metadata": {
    "ExecuteTime": {
     "end_time": "2023-02-06T00:45:22.351043Z",
     "start_time": "2023-02-06T00:45:22.344431Z"
    }
   },
   "outputs": [
    {
     "data": {
      "text/plain": [
       "((223, 28), (223,))"
      ]
     },
     "execution_count": 334,
     "metadata": {},
     "output_type": "execute_result"
    }
   ],
   "source": [
    "X_val.shape, y_val.shape"
   ]
  },
  {
   "cell_type": "markdown",
   "id": "ac518ed5",
   "metadata": {},
   "source": [
    "##### 학습 및 평가"
   ]
  },
  {
   "cell_type": "code",
   "execution_count": 350,
   "id": "39db56a4",
   "metadata": {
    "ExecuteTime": {
     "end_time": "2023-02-06T00:48:02.141507Z",
     "start_time": "2023-02-06T00:48:02.129965Z"
    }
   },
   "outputs": [
    {
     "data": {
      "text/plain": [
       "KNeighborsClassifier(n_neighbors=149)"
      ]
     },
     "execution_count": 350,
     "metadata": {},
     "output_type": "execute_result"
    }
   ],
   "source": [
    "knn_model.fit(X_train, y_train)    # 학습"
   ]
  },
  {
   "cell_type": "code",
   "execution_count": 351,
   "id": "8e5b3dbe",
   "metadata": {
    "ExecuteTime": {
     "end_time": "2023-02-06T00:48:03.007435Z",
     "start_time": "2023-02-06T00:48:02.992847Z"
    }
   },
   "outputs": [
    {
     "data": {
      "text/plain": [
       "DecisionTreeClassifier()"
      ]
     },
     "execution_count": 351,
     "metadata": {},
     "output_type": "execute_result"
    }
   ],
   "source": [
    "tree_model.fit(X_train, y_train)    # 학습"
   ]
  },
  {
   "cell_type": "code",
   "execution_count": 352,
   "id": "4cc227ad",
   "metadata": {
    "ExecuteTime": {
     "end_time": "2023-02-06T00:48:03.582207Z",
     "start_time": "2023-02-06T00:48:03.554069Z"
    }
   },
   "outputs": [
    {
     "name": "stdout",
     "output_type": "stream",
     "text": [
      "0.6502242152466368\n",
      "0.7488789237668162\n"
     ]
    }
   ],
   "source": [
    "print(knn_model.score(X_val, y_val))\n",
    "print(tree_model.score(X_val, y_val))"
   ]
  },
  {
   "cell_type": "markdown",
   "id": "f0231af8",
   "metadata": {},
   "source": [
    "#### 교차검증"
   ]
  },
  {
   "cell_type": "code",
   "execution_count": 335,
   "id": "0a8618ba",
   "metadata": {
    "ExecuteTime": {
     "end_time": "2023-02-06T00:45:26.089123Z",
     "start_time": "2023-02-06T00:45:26.081595Z"
    }
   },
   "outputs": [
    {
     "data": {
      "text/plain": [
       "((668, 28), (668,))"
      ]
     },
     "execution_count": 335,
     "metadata": {},
     "output_type": "execute_result"
    }
   ],
   "source": [
    "X_train.shape, y_train.shape"
   ]
  },
  {
   "cell_type": "code",
   "execution_count": 336,
   "id": "977bb841",
   "metadata": {
    "ExecuteTime": {
     "end_time": "2023-02-06T00:45:27.781141Z",
     "start_time": "2023-02-06T00:45:27.770036Z"
    }
   },
   "outputs": [],
   "source": [
    "from sklearn.model_selection import cross_val_score"
   ]
  },
  {
   "cell_type": "code",
   "execution_count": 337,
   "id": "e80e960d",
   "metadata": {
    "ExecuteTime": {
     "end_time": "2023-02-06T00:45:28.341256Z",
     "start_time": "2023-02-06T00:45:28.288056Z"
    }
   },
   "outputs": [
    {
     "data": {
      "text/plain": [
       "array([0.67910448, 0.71641791, 0.74626866, 0.7518797 , 0.77443609])"
      ]
     },
     "execution_count": 337,
     "metadata": {},
     "output_type": "execute_result"
    }
   ],
   "source": [
    "# cross_val_score(모델, 문제데이터, 정답데이터, 몇 겹(k))\n",
    "knn_result = cross_val_score(knn_model, X_train,y_train, cv=5)\n",
    "knn_result"
   ]
  },
  {
   "cell_type": "code",
   "execution_count": 338,
   "id": "674e4c05",
   "metadata": {
    "ExecuteTime": {
     "end_time": "2023-02-06T00:45:29.026151Z",
     "start_time": "2023-02-06T00:45:29.016576Z"
    }
   },
   "outputs": [
    {
     "data": {
      "text/plain": [
       "0.7336213668499607"
      ]
     },
     "execution_count": 338,
     "metadata": {},
     "output_type": "execute_result"
    }
   ],
   "source": [
    "knn_result.mean()"
   ]
  },
  {
   "cell_type": "code",
   "execution_count": 339,
   "id": "413f8ff1",
   "metadata": {
    "ExecuteTime": {
     "end_time": "2023-02-06T00:45:29.680426Z",
     "start_time": "2023-02-06T00:45:29.673886Z"
    }
   },
   "outputs": [],
   "source": [
    "# 경고 라이브러리 (안보이게 하는 방법)\n",
    "import warnings\n",
    "warnings.filterwarnings('ignore')"
   ]
  },
  {
   "cell_type": "code",
   "execution_count": 340,
   "id": "43ff711e",
   "metadata": {
    "ExecuteTime": {
     "end_time": "2023-02-06T00:45:30.335645Z",
     "start_time": "2023-02-06T00:45:30.298778Z"
    }
   },
   "outputs": [
    {
     "name": "stdout",
     "output_type": "stream",
     "text": [
      "[0.76119403 0.82089552 0.80597015 0.76691729 0.80451128]\n"
     ]
    },
    {
     "data": {
      "text/plain": [
       "0.7918976545842218"
      ]
     },
     "execution_count": 340,
     "metadata": {},
     "output_type": "execute_result"
    }
   ],
   "source": [
    "tree_result = cross_val_score(tree_model, X_train, y_train, cv=5)\n",
    "print(tree_result)\n",
    "tree_result.mean()"
   ]
  },
  {
   "cell_type": "markdown",
   "id": "13b4f499",
   "metadata": {},
   "source": [
    "##### KNN모델에 Scaler적용"
   ]
  },
  {
   "cell_type": "code",
   "execution_count": 341,
   "id": "a0b42cda",
   "metadata": {
    "ExecuteTime": {
     "end_time": "2023-02-06T00:45:34.163292Z",
     "start_time": "2023-02-06T00:45:34.152618Z"
    }
   },
   "outputs": [],
   "source": [
    "from sklearn.preprocessing import StandardScaler"
   ]
  },
  {
   "cell_type": "code",
   "execution_count": 342,
   "id": "9413be67",
   "metadata": {
    "ExecuteTime": {
     "end_time": "2023-02-06T00:45:34.512839Z",
     "start_time": "2023-02-06T00:45:34.504883Z"
    }
   },
   "outputs": [],
   "source": [
    "scaler = StandardScaler()"
   ]
  },
  {
   "cell_type": "code",
   "execution_count": 343,
   "id": "3e0689c9",
   "metadata": {
    "ExecuteTime": {
     "end_time": "2023-02-06T00:45:34.753806Z",
     "start_time": "2023-02-06T00:45:34.736660Z"
    }
   },
   "outputs": [
    {
     "data": {
      "text/plain": [
       "StandardScaler()"
      ]
     },
     "execution_count": 343,
     "metadata": {},
     "output_type": "execute_result"
    }
   ],
   "source": [
    "scaler.fit(X_train)"
   ]
  },
  {
   "cell_type": "code",
   "execution_count": 344,
   "id": "234f61da",
   "metadata": {
    "ExecuteTime": {
     "end_time": "2023-02-06T00:45:35.012043Z",
     "start_time": "2023-02-06T00:45:34.991573Z"
    }
   },
   "outputs": [],
   "source": [
    "transform_X_train = scaler.transform(X_train)    # 변환"
   ]
  },
  {
   "cell_type": "code",
   "execution_count": 345,
   "id": "6f351c26",
   "metadata": {
    "ExecuteTime": {
     "end_time": "2023-02-06T00:45:35.255250Z",
     "start_time": "2023-02-06T00:45:35.247732Z"
    }
   },
   "outputs": [],
   "source": [
    "transform_X_test = scaler.transform(X_test)    # 변환"
   ]
  },
  {
   "cell_type": "code",
   "execution_count": 346,
   "id": "91d80c7a",
   "metadata": {
    "ExecuteTime": {
     "end_time": "2023-02-06T00:45:35.528865Z",
     "start_time": "2023-02-06T00:45:35.496986Z"
    }
   },
   "outputs": [
    {
     "name": "stdout",
     "output_type": "stream",
     "text": [
      "[0.80597015 0.79850746 0.87313433 0.78947368 0.83458647]\n"
     ]
    },
    {
     "data": {
      "text/plain": [
       "0.8203344181348895"
      ]
     },
     "execution_count": 346,
     "metadata": {},
     "output_type": "execute_result"
    }
   ],
   "source": [
    "result = cross_val_score(knn_model, transform_X_train, y_train)\n",
    "print(result)\n",
    "result.mean()"
   ]
  },
  {
   "cell_type": "markdown",
   "id": "88c09290",
   "metadata": {},
   "source": [
    "##### 하이퍼파라미터 튜닝"
   ]
  },
  {
   "cell_type": "code",
   "execution_count": 347,
   "id": "1848b2df",
   "metadata": {
    "ExecuteTime": {
     "end_time": "2023-02-06T00:45:39.915507Z",
     "start_time": "2023-02-06T00:45:38.377339Z"
    }
   },
   "outputs": [],
   "source": [
    "score_list = []\n",
    "for k in range(1, 150, 2):    # 이웃이 작으면 복잡(과대), 많으면 단순(과소)\n",
    "    knn_model = KNeighborsClassifier(n_neighbors=k)   # 이웃에 따른 모델 생성\n",
    "    knn_result = cross_val_score(knn_model, transform_X_train, y_train, cv=5)   # 교차검증 성능\n",
    "    score_list.append(knn_result.mean())    #평균치 리스트에 담기"
   ]
  },
  {
   "cell_type": "code",
   "execution_count": 348,
   "id": "a4cc4806",
   "metadata": {
    "ExecuteTime": {
     "end_time": "2023-02-06T00:45:40.325972Z",
     "start_time": "2023-02-06T00:45:39.916513Z"
    }
   },
   "outputs": [
    {
     "data": {
      "image/png": "[encoded data removed]",
      "text/plain": [
       "<Figure size 4500x500 with 1 Axes>"
      ]
     },
     "metadata": {},
     "output_type": "display_data"
    }
   ],
   "source": [
    "plt.figure(figsize=(45, 5))\n",
    "plt.plot(range(1, 150, 2), score_list)\n",
    "plt.xticks(range(1, 150, 2))\n",
    "plt.grid()\n",
    "plt.show()"
   ]
  },
  {
   "cell_type": "markdown",
   "id": "3a58600e",
   "metadata": {},
   "source": [
    "### 평가 결과 제출"
   ]
  },
  {
   "cell_type": "code",
   "execution_count": 353,
   "id": "03e0238c",
   "metadata": {
    "ExecuteTime": {
     "end_time": "2023-02-06T00:48:08.095943Z",
     "start_time": "2023-02-06T00:48:08.066797Z"
    }
   },
   "outputs": [
    {
     "data": {
      "text/plain": [
       "array([0, 0, 0, 0, 0, 0, 0, 0, 0, 0, 0, 0, 1, 0, 1, 0, 0, 0, 0, 0, 1, 0,\n",
       "       0, 1, 1, 0, 1, 0, 0, 0, 0, 0, 0, 0, 1, 0, 0, 0, 0, 1, 0, 0, 0, 0,\n",
       "       1, 0, 0, 0, 1, 0, 1, 0, 0, 1, 0, 0, 0, 0, 0, 1, 0, 0, 0, 0, 1, 0,\n",
       "       0, 0, 0, 1, 0, 0, 0, 0, 1, 1, 0, 0, 0, 0, 0, 1, 0, 0, 0, 0, 0, 0,\n",
       "       0, 0, 0, 0, 0, 0, 0, 0, 1, 0, 0, 0, 1, 0, 0, 0, 0, 0, 0, 0, 0, 0,\n",
       "       0, 0, 0, 0, 1, 0, 0, 0, 1, 0, 0, 0, 1, 0, 0, 0, 0, 0, 0, 0, 0, 0,\n",
       "       0, 0, 0, 0, 0, 0, 0, 1, 1, 1, 1, 0, 0, 0, 1, 0, 0, 0, 1, 0, 0, 0,\n",
       "       0, 0, 1, 0, 0, 0, 0, 0, 0, 0, 0, 0, 1, 0, 0, 0, 0, 0, 0, 0, 0, 1,\n",
       "       1, 1, 1, 1, 0, 1, 1, 0, 1, 0, 0, 0, 1, 0, 0, 0, 0, 0, 0, 0, 1, 0,\n",
       "       0, 0, 0, 0, 1, 0, 0, 0, 0, 0, 0, 0, 0, 0, 1, 0, 0, 0, 0, 1, 1, 0,\n",
       "       0, 0, 0, 0, 0, 0, 0, 0, 0, 0, 1, 0, 0, 0, 1, 0, 1, 0, 0, 1, 0, 0,\n",
       "       1, 0, 0, 1, 0, 0, 0, 0, 0, 0, 1, 0, 0, 0, 0, 0, 0, 0, 0, 0, 0, 0,\n",
       "       0, 0, 0, 0, 0, 0, 1, 0, 1, 0, 0, 0, 0, 0, 0, 0, 0, 0, 0, 0, 0, 0,\n",
       "       0, 1, 0, 0, 0, 0, 0, 1, 0, 0, 1, 0, 1, 0, 0, 0, 0, 0, 0, 0, 1, 0,\n",
       "       1, 0, 0, 0, 0, 0, 1, 0, 1, 0, 0, 0, 0, 0, 0, 0, 1, 0, 1, 1, 0, 0,\n",
       "       0, 0, 0, 0, 0, 0, 0, 0, 0, 0, 0, 0, 1, 1, 0, 0, 0, 0, 0, 0, 1, 0,\n",
       "       1, 1, 0, 0, 1, 0, 0, 0, 1, 0, 0, 0, 1, 1, 0, 0, 1, 0, 0, 1, 0, 0,\n",
       "       1, 1, 0, 0, 1, 0, 0, 0, 0, 0, 0, 1, 0, 0, 0, 0, 1, 0, 0, 0, 0, 1,\n",
       "       0, 1, 0, 0, 1, 0, 1, 0, 0, 0, 0, 1, 0, 0, 0, 1, 0, 0, 1, 0, 0, 0],\n",
       "      dtype=int64)"
      ]
     },
     "execution_count": 353,
     "metadata": {},
     "output_type": "execute_result"
    }
   ],
   "source": [
    "pre = knn_model.predict(X_test)\n",
    "pre"
   ]
  },
  {
   "cell_type": "code",
   "execution_count": 355,
   "id": "4b356f39",
   "metadata": {
    "ExecuteTime": {
     "end_time": "2023-02-06T00:48:41.069915Z",
     "start_time": "2023-02-06T00:48:41.042015Z"
    }
   },
   "outputs": [],
   "source": [
    "# kaggle에 y_test가 있어 업로드해야함\n",
    "result = pd.read_csv('data/gender_submission.csv')\n",
    "result['Survived'] = pre\n",
    "result.to_csv('lhs_submission_01.csv',index=False)"
   ]
  },
  {
   "cell_type": "code",
   "execution_count": null,
   "id": "91d0609c",
   "metadata": {},
   "outputs": [],
   "source": []
  },
  {
   "cell_type": "code",
   "execution_count": null,
   "id": "f1777dfb",
   "metadata": {},
   "outputs": [],
   "source": []
  },
  {
   "cell_type": "code",
   "execution_count": null,
   "id": "a1992eb1",
   "metadata": {},
   "outputs": [],
   "source": []
  },
  {
   "cell_type": "code",
   "execution_count": null,
   "id": "23bdf2be",
   "metadata": {},
   "outputs": [],
   "source": []
  },
  {
   "cell_type": "code",
   "execution_count": null,
   "id": "511c97ad",
   "metadata": {},
   "outputs": [],
   "source": []
  },
  {
   "cell_type": "code",
   "execution_count": null,
   "id": "29801fd6",
   "metadata": {},
   "outputs": [],
   "source": []
  },
  {
   "cell_type": "code",
   "execution_count": null,
   "id": "bb8c3745",
   "metadata": {},
   "outputs": [],
   "source": []
  },
  {
   "cell_type": "code",
   "execution_count": null,
   "id": "d564cefd",
   "metadata": {},
   "outputs": [],
   "source": []
  }
 ],
 "metadata": {
  "kernelspec": {
   "display_name": "Python 3 (ipykernel)",
   "language": "python",
   "name": "python3"
  },
  "language_info": {
   "codemirror_mode": {
    "name": "ipython",
    "version": 3
   },
   "file_extension": ".py",
   "mimetype": "text/x-python",
   "name": "python",
   "nbconvert_exporter": "python",
   "pygments_lexer": "ipython3",
   "version": "3.9.13"
  },
  "toc": {
   "base_numbering": 1,
   "nav_menu": {},
   "number_sections": true,
   "sideBar": true,
   "skip_h1_title": false,
   "title_cell": "Table of Contents",
   "title_sidebar": "Contents",
   "toc_cell": false,
   "toc_position": {
    "height": "calc(100% - 180px)",
    "left": "10px",
    "top": "150px",
    "width": "191.594px"
   },
   "toc_section_display": true,
   "toc_window_display": false
  }
 },
 "nbformat": 4,
 "nbformat_minor": 5
}
