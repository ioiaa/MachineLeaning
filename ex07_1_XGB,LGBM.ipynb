{
 "cells": [
  {
   "cell_type": "markdown",
   "id": "ceac886a",
   "metadata": {},
   "source": [
    "### XGBoost"
   ]
  },
  {
   "cell_type": "code",
   "execution_count": null,
   "id": "f1c720e1",
   "metadata": {},
   "outputs": [],
   "source": [
    "# 설치하기\n",
    "# !pip install xgboost"
   ]
  },
  {
   "cell_type": "code",
   "execution_count": 1,
   "id": "08af2e98",
   "metadata": {
    "ExecuteTime": {
     "end_time": "2023-02-10T05:27:08.499048Z",
     "start_time": "2023-02-10T05:27:08.494004Z"
    }
   },
   "outputs": [],
   "source": [
    "from xgboost.sklearn import XGBClassifier"
   ]
  },
  {
   "cell_type": "code",
   "execution_count": 2,
   "id": "5a6a1ba0",
   "metadata": {
    "ExecuteTime": {
     "end_time": "2023-02-10T05:31:23.596958Z",
     "start_time": "2023-02-10T05:31:23.585763Z"
    }
   },
   "outputs": [],
   "source": [
    "from sklearn.datasets import load_breast_cancer\n",
    "from sklearn.model_selection import train_test_split\n",
    "from sklearn.metrics import accuracy_score"
   ]
  },
  {
   "cell_type": "code",
   "execution_count": 3,
   "id": "8b40a8d1",
   "metadata": {
    "ExecuteTime": {
     "end_time": "2023-02-10T05:33:38.953721Z",
     "start_time": "2023-02-10T05:33:38.915320Z"
    }
   },
   "outputs": [],
   "source": [
    "cancer = load_breast_cancer()\n",
    "X_train, X_test, y_train, y_test = train_test_split(cancer['data'], cancer['target'], test_size=0.2)"
   ]
  },
  {
   "cell_type": "code",
   "execution_count": 8,
   "id": "b8d49929",
   "metadata": {
    "ExecuteTime": {
     "end_time": "2023-02-10T05:37:00.348928Z",
     "start_time": "2023-02-10T05:37:00.339342Z"
    }
   },
   "outputs": [],
   "source": [
    "# n_estimators : 트리의 갯수\n",
    "# learning_rate : 학습률\n",
    "# max_depth : 트리의 깊이\n",
    "xgb_cancer = XGBClassifier(n_estimators=400, learning_rate=0.1, max_depth=3)"
   ]
  },
  {
   "cell_type": "code",
   "execution_count": 10,
   "id": "db044db3",
   "metadata": {
    "ExecuteTime": {
     "end_time": "2023-02-10T05:38:47.725473Z",
     "start_time": "2023-02-10T05:38:47.458732Z"
    },
    "collapsed": true
   },
   "outputs": [
    {
     "name": "stdout",
     "output_type": "stream",
     "text": [
      "[0]\tvalidation_0-logloss:0.61863\n",
      "[1]\tvalidation_0-logloss:0.55602\n",
      "[2]\tvalidation_0-logloss:0.50549\n",
      "[3]\tvalidation_0-logloss:0.45347\n",
      "[4]\tvalidation_0-logloss:0.40901\n",
      "[5]\tvalidation_0-logloss:0.37102\n",
      "[6]\tvalidation_0-logloss:0.33736\n",
      "[7]\tvalidation_0-logloss:0.30832\n",
      "[8]\tvalidation_0-logloss:0.28233\n",
      "[9]\tvalidation_0-logloss:0.25974\n",
      "[10]\tvalidation_0-logloss:0.24202\n",
      "[11]\tvalidation_0-logloss:0.22313\n",
      "[12]\tvalidation_0-logloss:0.20710\n",
      "[13]\tvalidation_0-logloss:0.19225\n",
      "[14]\tvalidation_0-logloss:0.18110\n",
      "[15]\tvalidation_0-logloss:0.17164\n",
      "[16]\tvalidation_0-logloss:0.16072\n",
      "[17]\tvalidation_0-logloss:0.15186\n",
      "[18]\tvalidation_0-logloss:0.14496\n",
      "[19]\tvalidation_0-logloss:0.13856\n",
      "[20]\tvalidation_0-logloss:0.13085\n",
      "[21]\tvalidation_0-logloss:0.12394\n",
      "[22]\tvalidation_0-logloss:0.11899\n",
      "[23]\tvalidation_0-logloss:0.11252\n",
      "[24]\tvalidation_0-logloss:0.10671\n",
      "[25]\tvalidation_0-logloss:0.10184\n",
      "[26]\tvalidation_0-logloss:0.09741\n",
      "[27]\tvalidation_0-logloss:0.09306\n",
      "[28]\tvalidation_0-logloss:0.08907\n",
      "[29]\tvalidation_0-logloss:0.08571\n",
      "[30]\tvalidation_0-logloss:0.08202\n",
      "[31]\tvalidation_0-logloss:0.07988\n",
      "[32]\tvalidation_0-logloss:0.07886\n",
      "[33]\tvalidation_0-logloss:0.07653\n",
      "[34]\tvalidation_0-logloss:0.07508\n",
      "[35]\tvalidation_0-logloss:0.07291\n",
      "[36]\tvalidation_0-logloss:0.07228\n",
      "[37]\tvalidation_0-logloss:0.07148\n",
      "[38]\tvalidation_0-logloss:0.07065\n",
      "[39]\tvalidation_0-logloss:0.06969\n",
      "[40]\tvalidation_0-logloss:0.06909\n",
      "[41]\tvalidation_0-logloss:0.06865\n",
      "[42]\tvalidation_0-logloss:0.06891\n",
      "[43]\tvalidation_0-logloss:0.06867\n",
      "[44]\tvalidation_0-logloss:0.06802\n",
      "[45]\tvalidation_0-logloss:0.06839\n",
      "[46]\tvalidation_0-logloss:0.06870\n",
      "[47]\tvalidation_0-logloss:0.06872\n",
      "[48]\tvalidation_0-logloss:0.06772\n",
      "[49]\tvalidation_0-logloss:0.06743\n",
      "[50]\tvalidation_0-logloss:0.06751\n",
      "[51]\tvalidation_0-logloss:0.06819\n",
      "[52]\tvalidation_0-logloss:0.06581\n",
      "[53]\tvalidation_0-logloss:0.06621\n",
      "[54]\tvalidation_0-logloss:0.06550\n",
      "[55]\tvalidation_0-logloss:0.06672\n",
      "[56]\tvalidation_0-logloss:0.06692\n",
      "[57]\tvalidation_0-logloss:0.06568\n",
      "[58]\tvalidation_0-logloss:0.06507\n",
      "[59]\tvalidation_0-logloss:0.06458\n",
      "[60]\tvalidation_0-logloss:0.06558\n",
      "[61]\tvalidation_0-logloss:0.06631\n",
      "[62]\tvalidation_0-logloss:0.06694\n",
      "[63]\tvalidation_0-logloss:0.06642\n",
      "[64]\tvalidation_0-logloss:0.06562\n",
      "[65]\tvalidation_0-logloss:0.06683\n",
      "[66]\tvalidation_0-logloss:0.06682\n",
      "[67]\tvalidation_0-logloss:0.06590\n",
      "[68]\tvalidation_0-logloss:0.06590\n",
      "[69]\tvalidation_0-logloss:0.06617\n",
      "[70]\tvalidation_0-logloss:0.06534\n",
      "[71]\tvalidation_0-logloss:0.06457\n",
      "[72]\tvalidation_0-logloss:0.06520\n",
      "[73]\tvalidation_0-logloss:0.06551\n",
      "[74]\tvalidation_0-logloss:0.06500\n",
      "[75]\tvalidation_0-logloss:0.06468\n",
      "[76]\tvalidation_0-logloss:0.06416\n",
      "[77]\tvalidation_0-logloss:0.06394\n",
      "[78]\tvalidation_0-logloss:0.06322\n",
      "[79]\tvalidation_0-logloss:0.06383\n",
      "[80]\tvalidation_0-logloss:0.06346\n",
      "[81]\tvalidation_0-logloss:0.06304\n",
      "[82]\tvalidation_0-logloss:0.06217\n",
      "[83]\tvalidation_0-logloss:0.06172\n",
      "[84]\tvalidation_0-logloss:0.06133\n",
      "[85]\tvalidation_0-logloss:0.06110\n",
      "[86]\tvalidation_0-logloss:0.06104\n",
      "[87]\tvalidation_0-logloss:0.06100\n",
      "[88]\tvalidation_0-logloss:0.06059\n",
      "[89]\tvalidation_0-logloss:0.06027\n",
      "[90]\tvalidation_0-logloss:0.06005\n",
      "[91]\tvalidation_0-logloss:0.05968\n",
      "[92]\tvalidation_0-logloss:0.05908\n",
      "[93]\tvalidation_0-logloss:0.05872\n",
      "[94]\tvalidation_0-logloss:0.05868\n",
      "[95]\tvalidation_0-logloss:0.05861\n",
      "[96]\tvalidation_0-logloss:0.05829\n",
      "[97]\tvalidation_0-logloss:0.05791\n",
      "[98]\tvalidation_0-logloss:0.05774\n",
      "[99]\tvalidation_0-logloss:0.05773\n",
      "[100]\tvalidation_0-logloss:0.05745\n",
      "[101]\tvalidation_0-logloss:0.05725\n",
      "[102]\tvalidation_0-logloss:0.05694\n",
      "[103]\tvalidation_0-logloss:0.05665\n",
      "[104]\tvalidation_0-logloss:0.05639\n",
      "[105]\tvalidation_0-logloss:0.05655\n",
      "[106]\tvalidation_0-logloss:0.05654\n",
      "[107]\tvalidation_0-logloss:0.05665\n",
      "[108]\tvalidation_0-logloss:0.05664\n",
      "[109]\tvalidation_0-logloss:0.05647\n",
      "[110]\tvalidation_0-logloss:0.05644\n",
      "[111]\tvalidation_0-logloss:0.05598\n",
      "[112]\tvalidation_0-logloss:0.05570\n",
      "[113]\tvalidation_0-logloss:0.05527\n",
      "[114]\tvalidation_0-logloss:0.05527\n",
      "[115]\tvalidation_0-logloss:0.05500\n",
      "[116]\tvalidation_0-logloss:0.05486\n",
      "[117]\tvalidation_0-logloss:0.05464\n",
      "[118]\tvalidation_0-logloss:0.05463\n",
      "[119]\tvalidation_0-logloss:0.05425\n",
      "[120]\tvalidation_0-logloss:0.05425\n",
      "[121]\tvalidation_0-logloss:0.05396\n",
      "[122]\tvalidation_0-logloss:0.05396\n",
      "[123]\tvalidation_0-logloss:0.05398\n",
      "[124]\tvalidation_0-logloss:0.05395\n",
      "[125]\tvalidation_0-logloss:0.05374\n",
      "[126]\tvalidation_0-logloss:0.05392\n",
      "[127]\tvalidation_0-logloss:0.05355\n",
      "[128]\tvalidation_0-logloss:0.05362\n",
      "[129]\tvalidation_0-logloss:0.05339\n",
      "[130]\tvalidation_0-logloss:0.05304\n",
      "[131]\tvalidation_0-logloss:0.05291\n",
      "[132]\tvalidation_0-logloss:0.05312\n",
      "[133]\tvalidation_0-logloss:0.05312\n",
      "[134]\tvalidation_0-logloss:0.05336\n",
      "[135]\tvalidation_0-logloss:0.05357\n",
      "[136]\tvalidation_0-logloss:0.05345\n",
      "[137]\tvalidation_0-logloss:0.05346\n",
      "[138]\tvalidation_0-logloss:0.05349\n",
      "[139]\tvalidation_0-logloss:0.05354\n",
      "[140]\tvalidation_0-logloss:0.05329\n",
      "[141]\tvalidation_0-logloss:0.05318\n",
      "[142]\tvalidation_0-logloss:0.05312\n",
      "[143]\tvalidation_0-logloss:0.05297\n",
      "[144]\tvalidation_0-logloss:0.05305\n",
      "[145]\tvalidation_0-logloss:0.05271\n",
      "[146]\tvalidation_0-logloss:0.05282\n",
      "[147]\tvalidation_0-logloss:0.05295\n",
      "[148]\tvalidation_0-logloss:0.05295\n",
      "[149]\tvalidation_0-logloss:0.05306\n",
      "[150]\tvalidation_0-logloss:0.05312\n",
      "[151]\tvalidation_0-logloss:0.05324\n",
      "[152]\tvalidation_0-logloss:0.05325\n",
      "[153]\tvalidation_0-logloss:0.05305\n",
      "[154]\tvalidation_0-logloss:0.05307\n",
      "[155]\tvalidation_0-logloss:0.05324\n",
      "[156]\tvalidation_0-logloss:0.05321\n",
      "[157]\tvalidation_0-logloss:0.05313\n",
      "[158]\tvalidation_0-logloss:0.05299\n",
      "[159]\tvalidation_0-logloss:0.05317\n",
      "[160]\tvalidation_0-logloss:0.05304\n",
      "[161]\tvalidation_0-logloss:0.05317\n",
      "[162]\tvalidation_0-logloss:0.05329\n",
      "[163]\tvalidation_0-logloss:0.05314\n",
      "[164]\tvalidation_0-logloss:0.05319\n",
      "[165]\tvalidation_0-logloss:0.05298\n",
      "[166]\tvalidation_0-logloss:0.05299\n",
      "[167]\tvalidation_0-logloss:0.05303\n",
      "[168]\tvalidation_0-logloss:0.05311\n",
      "[169]\tvalidation_0-logloss:0.05328\n",
      "[170]\tvalidation_0-logloss:0.05334\n",
      "[171]\tvalidation_0-logloss:0.05331\n",
      "[172]\tvalidation_0-logloss:0.05322\n",
      "[173]\tvalidation_0-logloss:0.05327\n"
     ]
    },
    {
     "name": "stderr",
     "output_type": "stream",
     "text": [
      "C:\\Users\\smhrd\\anaconda3\\lib\\site-packages\\xgboost\\sklearn.py:835: UserWarning: `early_stopping_rounds` in `fit` method is deprecated for better compatibility with scikit-learn, use `early_stopping_rounds` in constructor or`set_params` instead.\n",
      "  warnings.warn(\n"
     ]
    },
    {
     "name": "stdout",
     "output_type": "stream",
     "text": [
      "[174]\tvalidation_0-logloss:0.05333\n",
      "[175]\tvalidation_0-logloss:0.05337\n",
      "[176]\tvalidation_0-logloss:0.05354\n",
      "[177]\tvalidation_0-logloss:0.05355\n",
      "[178]\tvalidation_0-logloss:0.05360\n",
      "[179]\tvalidation_0-logloss:0.05356\n",
      "[180]\tvalidation_0-logloss:0.05360\n",
      "[181]\tvalidation_0-logloss:0.05361\n",
      "[182]\tvalidation_0-logloss:0.05378\n",
      "[183]\tvalidation_0-logloss:0.05370\n",
      "[184]\tvalidation_0-logloss:0.05375\n",
      "[185]\tvalidation_0-logloss:0.05372\n",
      "[186]\tvalidation_0-logloss:0.05367\n",
      "[187]\tvalidation_0-logloss:0.05373\n",
      "[188]\tvalidation_0-logloss:0.05373\n",
      "[189]\tvalidation_0-logloss:0.05389\n",
      "[190]\tvalidation_0-logloss:0.05381\n",
      "[191]\tvalidation_0-logloss:0.05382\n",
      "[192]\tvalidation_0-logloss:0.05379\n",
      "[193]\tvalidation_0-logloss:0.05383\n",
      "[194]\tvalidation_0-logloss:0.05388\n",
      "[195]\tvalidation_0-logloss:0.05385\n",
      "[196]\tvalidation_0-logloss:0.05390\n",
      "[197]\tvalidation_0-logloss:0.05395\n",
      "[198]\tvalidation_0-logloss:0.05396\n",
      "[199]\tvalidation_0-logloss:0.05412\n",
      "[200]\tvalidation_0-logloss:0.05404\n",
      "[201]\tvalidation_0-logloss:0.05406\n",
      "[202]\tvalidation_0-logloss:0.05402\n",
      "[203]\tvalidation_0-logloss:0.05406\n",
      "[204]\tvalidation_0-logloss:0.05410\n",
      "[205]\tvalidation_0-logloss:0.05412\n",
      "[206]\tvalidation_0-logloss:0.05428\n",
      "[207]\tvalidation_0-logloss:0.05425\n",
      "[208]\tvalidation_0-logloss:0.05430\n",
      "[209]\tvalidation_0-logloss:0.05422\n",
      "[210]\tvalidation_0-logloss:0.05419\n",
      "[211]\tvalidation_0-logloss:0.05423\n",
      "[212]\tvalidation_0-logloss:0.05420\n",
      "[213]\tvalidation_0-logloss:0.05417\n",
      "[214]\tvalidation_0-logloss:0.05417\n",
      "[215]\tvalidation_0-logloss:0.05432\n",
      "[216]\tvalidation_0-logloss:0.05437\n",
      "[217]\tvalidation_0-logloss:0.05441\n",
      "[218]\tvalidation_0-logloss:0.05446\n",
      "[219]\tvalidation_0-logloss:0.05439\n",
      "[220]\tvalidation_0-logloss:0.05437\n",
      "[221]\tvalidation_0-logloss:0.05434\n",
      "[222]\tvalidation_0-logloss:0.05439\n",
      "[223]\tvalidation_0-logloss:0.05442\n",
      "[224]\tvalidation_0-logloss:0.05439\n",
      "[225]\tvalidation_0-logloss:0.05441\n",
      "[226]\tvalidation_0-logloss:0.05433\n",
      "[227]\tvalidation_0-logloss:0.05424\n",
      "[228]\tvalidation_0-logloss:0.05439\n",
      "[229]\tvalidation_0-logloss:0.05444\n",
      "[230]\tvalidation_0-logloss:0.05441\n",
      "[231]\tvalidation_0-logloss:0.05439\n",
      "[232]\tvalidation_0-logloss:0.05435\n",
      "[233]\tvalidation_0-logloss:0.05424\n",
      "[234]\tvalidation_0-logloss:0.05420\n",
      "[235]\tvalidation_0-logloss:0.05417\n",
      "[236]\tvalidation_0-logloss:0.05418\n",
      "[237]\tvalidation_0-logloss:0.05416\n",
      "[238]\tvalidation_0-logloss:0.05404\n",
      "[239]\tvalidation_0-logloss:0.05402\n",
      "[240]\tvalidation_0-logloss:0.05399\n",
      "[241]\tvalidation_0-logloss:0.05413\n",
      "[242]\tvalidation_0-logloss:0.05406\n",
      "[243]\tvalidation_0-logloss:0.05395\n",
      "[244]\tvalidation_0-logloss:0.05393\n",
      "[245]\tvalidation_0-logloss:0.05398\n"
     ]
    },
    {
     "data": {
      "text/plain": [
       "XGBClassifier(base_score=None, booster=None, callbacks=None,\n",
       "              colsample_bylevel=None, colsample_bynode=None,\n",
       "              colsample_bytree=None, early_stopping_rounds=None,\n",
       "              enable_categorical=False, eval_metric=None, feature_types=None,\n",
       "              gamma=None, gpu_id=None, grow_policy=None, importance_type=None,\n",
       "              interaction_constraints=None, learning_rate=0.1, max_bin=None,\n",
       "              max_cat_threshold=None, max_cat_to_onehot=None,\n",
       "              max_delta_step=None, max_depth=3, max_leaves=None,\n",
       "              min_child_weight=None, missing=nan, monotone_constraints=None,\n",
       "              n_estimators=400, n_jobs=None, num_parallel_tree=None,\n",
       "              predictor=None, random_state=None, ...)"
      ]
     },
     "execution_count": 10,
     "metadata": {},
     "output_type": "execute_result"
    }
   ],
   "source": [
    "# verbose : 학습과정 표시\n",
    "# early_stopping_rounds : 조기 중단 지점 설정\n",
    "# eval_set : 검증 데이터\n",
    "xgb_cancer.fit(X_train, y_train, verbose=True, early_stopping_rounds=100, eval_set=[(X_test,y_test)])"
   ]
  },
  {
   "cell_type": "code",
   "execution_count": 11,
   "id": "8f370507",
   "metadata": {
    "ExecuteTime": {
     "end_time": "2023-02-10T05:44:24.302822Z",
     "start_time": "2023-02-10T05:44:24.291383Z"
    }
   },
   "outputs": [
    {
     "data": {
      "text/plain": [
       "array([1, 1, 1, 0, 1, 1, 1, 0, 0, 1, 1, 0, 0, 1, 1, 1, 1, 1, 0, 0, 1, 1,\n",
       "       1, 0, 1, 1, 1, 0, 1, 1, 1, 1, 0, 1, 0, 0, 1, 0, 0, 0, 1, 1, 0, 1,\n",
       "       0, 1, 0, 1, 1, 1, 0, 1, 1, 1, 1, 1, 1, 1, 0, 1, 0, 0, 0, 0, 1, 0,\n",
       "       1, 0, 1, 1, 1, 1, 1, 1, 1, 0, 0, 1, 1, 0, 0, 0, 0, 0, 1, 1, 0, 0,\n",
       "       1, 1, 0, 0, 1, 1, 1, 1, 1, 0, 0, 1, 1, 1, 1, 1, 1, 0, 1, 1, 1, 1,\n",
       "       0, 1, 0, 1])"
      ]
     },
     "execution_count": 11,
     "metadata": {},
     "output_type": "execute_result"
    }
   ],
   "source": [
    "pre = xgb_cancer.predict(X_test)\n",
    "pre"
   ]
  },
  {
   "cell_type": "code",
   "execution_count": 12,
   "id": "0e9583e2",
   "metadata": {
    "ExecuteTime": {
     "end_time": "2023-02-10T05:44:57.463244Z",
     "start_time": "2023-02-10T05:44:57.453660Z"
    }
   },
   "outputs": [
    {
     "data": {
      "text/plain": [
       "0.9736842105263158"
      ]
     },
     "execution_count": 12,
     "metadata": {},
     "output_type": "execute_result"
    }
   ],
   "source": [
    "accuracy_score(pre,y_test)"
   ]
  },
  {
   "cell_type": "code",
   "execution_count": 13,
   "id": "6f5fe88e",
   "metadata": {
    "ExecuteTime": {
     "end_time": "2023-02-10T05:48:07.910347Z",
     "start_time": "2023-02-10T05:48:07.867600Z"
    }
   },
   "outputs": [
    {
     "data": {
      "text/plain": [
       "0.9649122807017544"
      ]
     },
     "execution_count": 13,
     "metadata": {},
     "output_type": "execute_result"
    }
   ],
   "source": [
    "simple_xgb = XGBClassifier()\n",
    "simple_xgb.fit(X_train,y_train)\n",
    "pre = simple_xgb.predict(X_test)\n",
    "accuracy_score(pre,y_test)"
   ]
  },
  {
   "cell_type": "markdown",
   "id": "6995fcd3",
   "metadata": {},
   "source": [
    "### Light GBM"
   ]
  },
  {
   "cell_type": "code",
   "execution_count": 15,
   "id": "54f4a8dc",
   "metadata": {
    "ExecuteTime": {
     "end_time": "2023-02-10T05:50:17.977350Z",
     "start_time": "2023-02-10T05:50:17.963284Z"
    }
   },
   "outputs": [],
   "source": [
    "# 설치하기\n",
    "# !pip install lightgbm"
   ]
  },
  {
   "cell_type": "code",
   "execution_count": 19,
   "id": "27c24d1d",
   "metadata": {
    "ExecuteTime": {
     "end_time": "2023-02-10T05:58:29.847670Z",
     "start_time": "2023-02-10T05:58:29.781182Z"
    },
    "collapsed": true
   },
   "outputs": [
    {
     "name": "stdout",
     "output_type": "stream",
     "text": [
      "[1]\tvalid_0's binary_logloss: 0.58234\n",
      "[2]\tvalid_0's binary_logloss: 0.51909\n",
      "[3]\tvalid_0's binary_logloss: 0.467014\n",
      "[4]\tvalid_0's binary_logloss: 0.418743\n",
      "[5]\tvalid_0's binary_logloss: 0.384159\n",
      "[6]\tvalid_0's binary_logloss: 0.348149\n",
      "[7]\tvalid_0's binary_logloss: 0.322494\n",
      "[8]\tvalid_0's binary_logloss: 0.298758\n",
      "[9]\tvalid_0's binary_logloss: 0.274403\n",
      "[10]\tvalid_0's binary_logloss: 0.249632\n",
      "[11]\tvalid_0's binary_logloss: 0.231024\n",
      "[12]\tvalid_0's binary_logloss: 0.216447\n",
      "[13]\tvalid_0's binary_logloss: 0.199736\n",
      "[14]\tvalid_0's binary_logloss: 0.183857\n",
      "[15]\tvalid_0's binary_logloss: 0.170124\n",
      "[16]\tvalid_0's binary_logloss: 0.157105\n",
      "[17]\tvalid_0's binary_logloss: 0.148874\n",
      "[18]\tvalid_0's binary_logloss: 0.140559\n",
      "[19]\tvalid_0's binary_logloss: 0.132175\n",
      "[20]\tvalid_0's binary_logloss: 0.125486\n",
      "[21]\tvalid_0's binary_logloss: 0.120653\n",
      "[22]\tvalid_0's binary_logloss: 0.114386\n",
      "[23]\tvalid_0's binary_logloss: 0.107821\n",
      "[24]\tvalid_0's binary_logloss: 0.105287\n",
      "[25]\tvalid_0's binary_logloss: 0.0997512\n",
      "[26]\tvalid_0's binary_logloss: 0.0961501\n",
      "[27]\tvalid_0's binary_logloss: 0.0893259\n",
      "[28]\tvalid_0's binary_logloss: 0.0840859\n",
      "[29]\tvalid_0's binary_logloss: 0.082071\n",
      "[30]\tvalid_0's binary_logloss: 0.0805715\n",
      "[31]\tvalid_0's binary_logloss: 0.0785275\n",
      "[32]\tvalid_0's binary_logloss: 0.0774088\n",
      "[33]\tvalid_0's binary_logloss: 0.0768232\n",
      "[34]\tvalid_0's binary_logloss: 0.0755377\n",
      "[35]\tvalid_0's binary_logloss: 0.0732071\n",
      "[36]\tvalid_0's binary_logloss: 0.073285\n",
      "[37]\tvalid_0's binary_logloss: 0.0704687\n",
      "[38]\tvalid_0's binary_logloss: 0.068937\n",
      "[39]\tvalid_0's binary_logloss: 0.0658872\n",
      "[40]\tvalid_0's binary_logloss: 0.0668365\n",
      "[41]\tvalid_0's binary_logloss: 0.0647414\n",
      "[42]\tvalid_0's binary_logloss: 0.0645388\n",
      "[43]\tvalid_0's binary_logloss: 0.0638743\n",
      "[44]\tvalid_0's binary_logloss: 0.0646319\n",
      "[45]\tvalid_0's binary_logloss: 0.0655522\n",
      "[46]\tvalid_0's binary_logloss: 0.067\n",
      "[47]\tvalid_0's binary_logloss: 0.0671839\n",
      "[48]\tvalid_0's binary_logloss: 0.0650109\n",
      "[49]\tvalid_0's binary_logloss: 0.0635616\n",
      "[50]\tvalid_0's binary_logloss: 0.0659089\n",
      "[51]\tvalid_0's binary_logloss: 0.0679734\n",
      "[52]\tvalid_0's binary_logloss: 0.0677166\n",
      "[53]\tvalid_0's binary_logloss: 0.0686512\n",
      "[54]\tvalid_0's binary_logloss: 0.0686825\n",
      "[55]\tvalid_0's binary_logloss: 0.0712697\n",
      "[56]\tvalid_0's binary_logloss: 0.0703503\n",
      "[57]\tvalid_0's binary_logloss: 0.0728454\n",
      "[58]\tvalid_0's binary_logloss: 0.0719651\n",
      "[59]\tvalid_0's binary_logloss: 0.0742706\n",
      "[60]\tvalid_0's binary_logloss: 0.0753091\n",
      "[61]\tvalid_0's binary_logloss: 0.0753017\n",
      "[62]\tvalid_0's binary_logloss: 0.0734087\n",
      "[63]\tvalid_0's binary_logloss: 0.0762348\n",
      "[64]\tvalid_0's binary_logloss: 0.0769281\n",
      "[65]\tvalid_0's binary_logloss: 0.0780477\n",
      "[66]\tvalid_0's binary_logloss: 0.0807603\n",
      "[67]\tvalid_0's binary_logloss: 0.0809616\n",
      "[68]\tvalid_0's binary_logloss: 0.0809201\n",
      "[69]\tvalid_0's binary_logloss: 0.0817084\n",
      "[70]\tvalid_0's binary_logloss: 0.0812689\n",
      "[71]\tvalid_0's binary_logloss: 0.0838154\n",
      "[72]\tvalid_0's binary_logloss: 0.0862007\n",
      "[73]\tvalid_0's binary_logloss: 0.0868904\n",
      "[74]\tvalid_0's binary_logloss: 0.0886641\n",
      "[75]\tvalid_0's binary_logloss: 0.0899857\n",
      "[76]\tvalid_0's binary_logloss: 0.0928776\n",
      "[77]\tvalid_0's binary_logloss: 0.0936271\n",
      "[78]\tvalid_0's binary_logloss: 0.0960983\n",
      "[79]\tvalid_0's binary_logloss: 0.0964227\n",
      "[80]\tvalid_0's binary_logloss: 0.0976238\n",
      "[81]\tvalid_0's binary_logloss: 0.0964828\n",
      "[82]\tvalid_0's binary_logloss: 0.097157\n",
      "[83]\tvalid_0's binary_logloss: 0.0987109\n",
      "[84]\tvalid_0's binary_logloss: 0.0984356\n",
      "[85]\tvalid_0's binary_logloss: 0.0973806\n",
      "[86]\tvalid_0's binary_logloss: 0.0977413\n",
      "[87]\tvalid_0's binary_logloss: 0.0967145\n",
      "[88]\tvalid_0's binary_logloss: 0.0949854\n",
      "[89]\tvalid_0's binary_logloss: 0.0967419\n",
      "[90]\tvalid_0's binary_logloss: 0.0963332\n",
      "[91]\tvalid_0's binary_logloss: 0.0954531\n",
      "[92]\tvalid_0's binary_logloss: 0.0975768\n",
      "[93]\tvalid_0's binary_logloss: 0.098767\n",
      "[94]\tvalid_0's binary_logloss: 0.101871\n",
      "[95]\tvalid_0's binary_logloss: 0.100036\n",
      "[96]\tvalid_0's binary_logloss: 0.102253\n",
      "[97]\tvalid_0's binary_logloss: 0.101671\n",
      "[98]\tvalid_0's binary_logloss: 0.103456\n",
      "[99]\tvalid_0's binary_logloss: 0.103128\n",
      "[100]\tvalid_0's binary_logloss: 0.104851\n",
      "[101]\tvalid_0's binary_logloss: 0.103076\n",
      "[102]\tvalid_0's binary_logloss: 0.105639\n",
      "[103]\tvalid_0's binary_logloss: 0.105113\n",
      "[104]\tvalid_0's binary_logloss: 0.106517\n",
      "[105]\tvalid_0's binary_logloss: 0.107218\n",
      "[106]\tvalid_0's binary_logloss: 0.107152\n",
      "[107]\tvalid_0's binary_logloss: 0.106632\n",
      "[108]\tvalid_0's binary_logloss: 0.107642\n",
      "[109]\tvalid_0's binary_logloss: 0.107314\n",
      "[110]\tvalid_0's binary_logloss: 0.10561\n",
      "[111]\tvalid_0's binary_logloss: 0.106298\n",
      "[112]\tvalid_0's binary_logloss: 0.107955\n",
      "[113]\tvalid_0's binary_logloss: 0.109195\n",
      "[114]\tvalid_0's binary_logloss: 0.110293\n",
      "[115]\tvalid_0's binary_logloss: 0.110139\n",
      "[116]\tvalid_0's binary_logloss: 0.110458\n",
      "[117]\tvalid_0's binary_logloss: 0.109127\n",
      "[118]\tvalid_0's binary_logloss: 0.110022\n",
      "[119]\tvalid_0's binary_logloss: 0.109038\n",
      "[120]\tvalid_0's binary_logloss: 0.111789\n",
      "[121]\tvalid_0's binary_logloss: 0.114537\n",
      "[122]\tvalid_0's binary_logloss: 0.115418\n",
      "[123]\tvalid_0's binary_logloss: 0.114535\n",
      "[124]\tvalid_0's binary_logloss: 0.113758\n",
      "[125]\tvalid_0's binary_logloss: 0.114391\n",
      "[126]\tvalid_0's binary_logloss: 0.117298\n",
      "[127]\tvalid_0's binary_logloss: 0.117204\n",
      "[128]\tvalid_0's binary_logloss: 0.118162\n",
      "[129]\tvalid_0's binary_logloss: 0.120072\n",
      "[130]\tvalid_0's binary_logloss: 0.11911\n",
      "[131]\tvalid_0's binary_logloss: 0.11913\n",
      "[132]\tvalid_0's binary_logloss: 0.120317\n",
      "[133]\tvalid_0's binary_logloss: 0.119038\n",
      "[134]\tvalid_0's binary_logloss: 0.12025\n",
      "[135]\tvalid_0's binary_logloss: 0.11974\n",
      "[136]\tvalid_0's binary_logloss: 0.122152\n",
      "[137]\tvalid_0's binary_logloss: 0.121688\n",
      "[138]\tvalid_0's binary_logloss: 0.122471\n",
      "[139]\tvalid_0's binary_logloss: 0.121716\n",
      "[140]\tvalid_0's binary_logloss: 0.122891\n",
      "[141]\tvalid_0's binary_logloss: 0.122082\n",
      "[142]\tvalid_0's binary_logloss: 0.121728\n",
      "[143]\tvalid_0's binary_logloss: 0.12145\n",
      "[144]\tvalid_0's binary_logloss: 0.121423\n",
      "[145]\tvalid_0's binary_logloss: 0.124638\n",
      "[146]\tvalid_0's binary_logloss: 0.123117\n",
      "[147]\tvalid_0's binary_logloss: 0.122227\n",
      "[148]\tvalid_0's binary_logloss: 0.121889\n",
      "[149]\tvalid_0's binary_logloss: 0.121485\n"
     ]
    },
    {
     "name": "stderr",
     "output_type": "stream",
     "text": [
      "C:\\Users\\smhrd\\anaconda3\\lib\\site-packages\\lightgbm\\sklearn.py:726: UserWarning: 'early_stopping_rounds' argument is deprecated and will be removed in a future release of LightGBM. Pass 'early_stopping()' callback via 'callbacks' argument instead.\n",
      "  _log_warning(\"'early_stopping_rounds' argument is deprecated and will be removed in a future release of LightGBM. \"\n",
      "C:\\Users\\smhrd\\anaconda3\\lib\\site-packages\\lightgbm\\sklearn.py:736: UserWarning: 'verbose' argument is deprecated and will be removed in a future release of LightGBM. Pass 'log_evaluation()' callback via 'callbacks' argument instead.\n",
      "  _log_warning(\"'verbose' argument is deprecated and will be removed in a future release of LightGBM. \"\n"
     ]
    },
    {
     "data": {
      "text/plain": [
       "LGBMClassifier(n_estimators=400)"
      ]
     },
     "execution_count": 19,
     "metadata": {},
     "output_type": "execute_result"
    }
   ],
   "source": [
    "from lightgbm import LGBMClassifier\n",
    "from lightgbm import early_stopping\n",
    "from lightgbm import log_evaluation\n",
    "\n",
    "lgb_cancer = LGBMClassifier(n_estimators=400)\n",
    "lgb_cancer.fit(X_train,y_train, early_stopping_rounds=100, eval_set=[(X_test,y_test)], verbose=True)"
   ]
  },
  {
   "cell_type": "code",
   "execution_count": 21,
   "id": "5e1a1c1d",
   "metadata": {
    "ExecuteTime": {
     "end_time": "2023-02-10T05:58:42.293507Z",
     "start_time": "2023-02-10T05:58:42.220750Z"
    },
    "collapsed": true
   },
   "outputs": [
    {
     "name": "stdout",
     "output_type": "stream",
     "text": [
      "[1]\tvalid_0's binary_logloss: 0.58234\n",
      "Training until validation scores don't improve for 100 rounds\n",
      "[2]\tvalid_0's binary_logloss: 0.51909\n",
      "[3]\tvalid_0's binary_logloss: 0.467014\n",
      "[4]\tvalid_0's binary_logloss: 0.418743\n",
      "[5]\tvalid_0's binary_logloss: 0.384159\n",
      "[6]\tvalid_0's binary_logloss: 0.348149\n",
      "[7]\tvalid_0's binary_logloss: 0.322494\n",
      "[8]\tvalid_0's binary_logloss: 0.298758\n",
      "[9]\tvalid_0's binary_logloss: 0.274403\n",
      "[10]\tvalid_0's binary_logloss: 0.249632\n",
      "[11]\tvalid_0's binary_logloss: 0.231024\n",
      "[12]\tvalid_0's binary_logloss: 0.216447\n",
      "[13]\tvalid_0's binary_logloss: 0.199736\n",
      "[14]\tvalid_0's binary_logloss: 0.183857\n",
      "[15]\tvalid_0's binary_logloss: 0.170124\n",
      "[16]\tvalid_0's binary_logloss: 0.157105\n",
      "[17]\tvalid_0's binary_logloss: 0.148874\n",
      "[18]\tvalid_0's binary_logloss: 0.140559\n",
      "[19]\tvalid_0's binary_logloss: 0.132175\n",
      "[20]\tvalid_0's binary_logloss: 0.125486\n",
      "[21]\tvalid_0's binary_logloss: 0.120653\n",
      "[22]\tvalid_0's binary_logloss: 0.114386\n",
      "[23]\tvalid_0's binary_logloss: 0.107821\n",
      "[24]\tvalid_0's binary_logloss: 0.105287\n",
      "[25]\tvalid_0's binary_logloss: 0.0997512\n",
      "[26]\tvalid_0's binary_logloss: 0.0961501\n",
      "[27]\tvalid_0's binary_logloss: 0.0893259\n",
      "[28]\tvalid_0's binary_logloss: 0.0840859\n",
      "[29]\tvalid_0's binary_logloss: 0.082071\n",
      "[30]\tvalid_0's binary_logloss: 0.0805715\n",
      "[31]\tvalid_0's binary_logloss: 0.0785275\n",
      "[32]\tvalid_0's binary_logloss: 0.0774088\n",
      "[33]\tvalid_0's binary_logloss: 0.0768232\n",
      "[34]\tvalid_0's binary_logloss: 0.0755377\n",
      "[35]\tvalid_0's binary_logloss: 0.0732071\n",
      "[36]\tvalid_0's binary_logloss: 0.073285\n",
      "[37]\tvalid_0's binary_logloss: 0.0704687\n",
      "[38]\tvalid_0's binary_logloss: 0.068937\n",
      "[39]\tvalid_0's binary_logloss: 0.0658872\n",
      "[40]\tvalid_0's binary_logloss: 0.0668365\n",
      "[41]\tvalid_0's binary_logloss: 0.0647414\n",
      "[42]\tvalid_0's binary_logloss: 0.0645388\n",
      "[43]\tvalid_0's binary_logloss: 0.0638743\n",
      "[44]\tvalid_0's binary_logloss: 0.0646319\n",
      "[45]\tvalid_0's binary_logloss: 0.0655522\n",
      "[46]\tvalid_0's binary_logloss: 0.067\n",
      "[47]\tvalid_0's binary_logloss: 0.0671839\n",
      "[48]\tvalid_0's binary_logloss: 0.0650109\n",
      "[49]\tvalid_0's binary_logloss: 0.0635616\n",
      "[50]\tvalid_0's binary_logloss: 0.0659089\n",
      "[51]\tvalid_0's binary_logloss: 0.0679734\n",
      "[52]\tvalid_0's binary_logloss: 0.0677166\n",
      "[53]\tvalid_0's binary_logloss: 0.0686512\n",
      "[54]\tvalid_0's binary_logloss: 0.0686825\n",
      "[55]\tvalid_0's binary_logloss: 0.0712697\n",
      "[56]\tvalid_0's binary_logloss: 0.0703503\n",
      "[57]\tvalid_0's binary_logloss: 0.0728454\n",
      "[58]\tvalid_0's binary_logloss: 0.0719651\n",
      "[59]\tvalid_0's binary_logloss: 0.0742706\n",
      "[60]\tvalid_0's binary_logloss: 0.0753091\n",
      "[61]\tvalid_0's binary_logloss: 0.0753017\n",
      "[62]\tvalid_0's binary_logloss: 0.0734087\n",
      "[63]\tvalid_0's binary_logloss: 0.0762348\n",
      "[64]\tvalid_0's binary_logloss: 0.0769281\n",
      "[65]\tvalid_0's binary_logloss: 0.0780477\n",
      "[66]\tvalid_0's binary_logloss: 0.0807603\n",
      "[67]\tvalid_0's binary_logloss: 0.0809616\n",
      "[68]\tvalid_0's binary_logloss: 0.0809201\n",
      "[69]\tvalid_0's binary_logloss: 0.0817084\n",
      "[70]\tvalid_0's binary_logloss: 0.0812689\n",
      "[71]\tvalid_0's binary_logloss: 0.0838154\n",
      "[72]\tvalid_0's binary_logloss: 0.0862007\n",
      "[73]\tvalid_0's binary_logloss: 0.0868904\n",
      "[74]\tvalid_0's binary_logloss: 0.0886641\n",
      "[75]\tvalid_0's binary_logloss: 0.0899857\n",
      "[76]\tvalid_0's binary_logloss: 0.0928776\n",
      "[77]\tvalid_0's binary_logloss: 0.0936271\n",
      "[78]\tvalid_0's binary_logloss: 0.0960983\n",
      "[79]\tvalid_0's binary_logloss: 0.0964227\n",
      "[80]\tvalid_0's binary_logloss: 0.0976238\n",
      "[81]\tvalid_0's binary_logloss: 0.0964828\n",
      "[82]\tvalid_0's binary_logloss: 0.097157\n",
      "[83]\tvalid_0's binary_logloss: 0.0987109\n",
      "[84]\tvalid_0's binary_logloss: 0.0984356\n",
      "[85]\tvalid_0's binary_logloss: 0.0973806\n",
      "[86]\tvalid_0's binary_logloss: 0.0977413\n",
      "[87]\tvalid_0's binary_logloss: 0.0967145\n",
      "[88]\tvalid_0's binary_logloss: 0.0949854\n",
      "[89]\tvalid_0's binary_logloss: 0.0967419\n",
      "[90]\tvalid_0's binary_logloss: 0.0963332\n",
      "[91]\tvalid_0's binary_logloss: 0.0954531\n",
      "[92]\tvalid_0's binary_logloss: 0.0975768\n",
      "[93]\tvalid_0's binary_logloss: 0.098767\n",
      "[94]\tvalid_0's binary_logloss: 0.101871\n",
      "[95]\tvalid_0's binary_logloss: 0.100036\n",
      "[96]\tvalid_0's binary_logloss: 0.102253\n",
      "[97]\tvalid_0's binary_logloss: 0.101671\n",
      "[98]\tvalid_0's binary_logloss: 0.103456\n",
      "[99]\tvalid_0's binary_logloss: 0.103128\n",
      "[100]\tvalid_0's binary_logloss: 0.104851\n",
      "[101]\tvalid_0's binary_logloss: 0.103076\n",
      "[102]\tvalid_0's binary_logloss: 0.105639\n",
      "[103]\tvalid_0's binary_logloss: 0.105113\n",
      "[104]\tvalid_0's binary_logloss: 0.106517\n",
      "[105]\tvalid_0's binary_logloss: 0.107218\n",
      "[106]\tvalid_0's binary_logloss: 0.107152\n",
      "[107]\tvalid_0's binary_logloss: 0.106632\n",
      "[108]\tvalid_0's binary_logloss: 0.107642\n",
      "[109]\tvalid_0's binary_logloss: 0.107314\n",
      "[110]\tvalid_0's binary_logloss: 0.10561\n",
      "[111]\tvalid_0's binary_logloss: 0.106298\n",
      "[112]\tvalid_0's binary_logloss: 0.107955\n",
      "[113]\tvalid_0's binary_logloss: 0.109195\n",
      "[114]\tvalid_0's binary_logloss: 0.110293\n",
      "[115]\tvalid_0's binary_logloss: 0.110139\n",
      "[116]\tvalid_0's binary_logloss: 0.110458\n",
      "[117]\tvalid_0's binary_logloss: 0.109127\n",
      "[118]\tvalid_0's binary_logloss: 0.110022\n",
      "[119]\tvalid_0's binary_logloss: 0.109038\n",
      "[120]\tvalid_0's binary_logloss: 0.111789\n",
      "[121]\tvalid_0's binary_logloss: 0.114537\n",
      "[122]\tvalid_0's binary_logloss: 0.115418\n",
      "[123]\tvalid_0's binary_logloss: 0.114535\n",
      "[124]\tvalid_0's binary_logloss: 0.113758\n",
      "[125]\tvalid_0's binary_logloss: 0.114391\n",
      "[126]\tvalid_0's binary_logloss: 0.117298\n",
      "[127]\tvalid_0's binary_logloss: 0.117204\n",
      "[128]\tvalid_0's binary_logloss: 0.118162\n",
      "[129]\tvalid_0's binary_logloss: 0.120072\n",
      "[130]\tvalid_0's binary_logloss: 0.11911\n",
      "[131]\tvalid_0's binary_logloss: 0.11913\n",
      "[132]\tvalid_0's binary_logloss: 0.120317\n",
      "[133]\tvalid_0's binary_logloss: 0.119038\n",
      "[134]\tvalid_0's binary_logloss: 0.12025\n",
      "[135]\tvalid_0's binary_logloss: 0.11974\n",
      "[136]\tvalid_0's binary_logloss: 0.122152\n",
      "[137]\tvalid_0's binary_logloss: 0.121688\n",
      "[138]\tvalid_0's binary_logloss: 0.122471\n",
      "[139]\tvalid_0's binary_logloss: 0.121716\n",
      "[140]\tvalid_0's binary_logloss: 0.122891\n",
      "[141]\tvalid_0's binary_logloss: 0.122082\n",
      "[142]\tvalid_0's binary_logloss: 0.121728\n",
      "[143]\tvalid_0's binary_logloss: 0.12145\n",
      "[144]\tvalid_0's binary_logloss: 0.121423\n",
      "[145]\tvalid_0's binary_logloss: 0.124638\n",
      "[146]\tvalid_0's binary_logloss: 0.123117\n",
      "[147]\tvalid_0's binary_logloss: 0.122227\n",
      "[148]\tvalid_0's binary_logloss: 0.121889\n",
      "[149]\tvalid_0's binary_logloss: 0.121485\n",
      "Early stopping, best iteration is:\n",
      "[49]\tvalid_0's binary_logloss: 0.0635616\n"
     ]
    },
    {
     "data": {
      "text/plain": [
       "LGBMClassifier(n_estimators=400)"
      ]
     },
     "execution_count": 21,
     "metadata": {},
     "output_type": "execute_result"
    }
   ],
   "source": [
    "lgb_cancer = LGBMClassifier(n_estimators=400)\n",
    "# 콜백함수 : 다른함수의 인자로써 이용되는 함수\n",
    "lgb_cancer.fit(X_train,y_train, callbacks=[early_stopping(100), log_evaluation(1)],eval_set=[(X_test,y_test)])"
   ]
  },
  {
   "cell_type": "code",
   "execution_count": 22,
   "id": "b6ac95e9",
   "metadata": {
    "ExecuteTime": {
     "end_time": "2023-02-10T06:00:25.341350Z",
     "start_time": "2023-02-10T06:00:25.324327Z"
    }
   },
   "outputs": [
    {
     "data": {
      "text/plain": [
       "0.9736842105263158"
      ]
     },
     "execution_count": 22,
     "metadata": {},
     "output_type": "execute_result"
    }
   ],
   "source": [
    "pre = lgb_cancer.predict(X_test)\n",
    "accuracy_score(pre,y_test)"
   ]
  },
  {
   "cell_type": "code",
   "execution_count": 23,
   "id": "f80863b0",
   "metadata": {
    "ExecuteTime": {
     "end_time": "2023-02-10T06:02:40.198144Z",
     "start_time": "2023-02-10T06:02:40.132520Z"
    }
   },
   "outputs": [
    {
     "data": {
      "text/plain": [
       "0.9649122807017544"
      ]
     },
     "execution_count": 23,
     "metadata": {},
     "output_type": "execute_result"
    }
   ],
   "source": [
    "simple_lgb = LGBMClassifier()\n",
    "simple_lgb.fit(X_train,y_train)\n",
    "pre = simple_lgb.predict(X_test)\n",
    "accuracy_score(pre,y_test)"
   ]
  },
  {
   "cell_type": "code",
   "execution_count": null,
   "id": "d3dda559",
   "metadata": {},
   "outputs": [],
   "source": []
  },
  {
   "cell_type": "code",
   "execution_count": null,
   "id": "56e8632f",
   "metadata": {},
   "outputs": [],
   "source": []
  },
  {
   "cell_type": "code",
   "execution_count": null,
   "id": "f4d076d9",
   "metadata": {},
   "outputs": [],
   "source": []
  },
  {
   "cell_type": "code",
   "execution_count": null,
   "id": "9f72b001",
   "metadata": {},
   "outputs": [],
   "source": []
  },
  {
   "cell_type": "code",
   "execution_count": null,
   "id": "db058795",
   "metadata": {},
   "outputs": [],
   "source": []
  },
  {
   "cell_type": "code",
   "execution_count": null,
   "id": "86e94473",
   "metadata": {},
   "outputs": [],
   "source": []
  },
  {
   "cell_type": "code",
   "execution_count": null,
   "id": "98d552c0",
   "metadata": {},
   "outputs": [],
   "source": []
  }
 ],
 "metadata": {
  "kernelspec": {
   "display_name": "Python 3 (ipykernel)",
   "language": "python",
   "name": "python3"
  },
  "language_info": {
   "codemirror_mode": {
    "name": "ipython",
    "version": 3
   },
   "file_extension": ".py",
   "mimetype": "text/x-python",
   "name": "python",
   "nbconvert_exporter": "python",
   "pygments_lexer": "ipython3",
   "version": "3.9.13"
  },
  "toc": {
   "base_numbering": 1,
   "nav_menu": {},
   "number_sections": true,
   "sideBar": true,
   "skip_h1_title": false,
   "title_cell": "Table of Contents",
   "title_sidebar": "Contents",
   "toc_cell": false,
   "toc_position": {},
   "toc_section_display": true,
   "toc_window_display": false
  }
 },
 "nbformat": 4,
 "nbformat_minor": 5
}
